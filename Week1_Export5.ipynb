{
 "cells": [
  {
   "cell_type": "markdown",
   "metadata": {},
   "source": [
    "## Problem 1: Python programming \n",
    "##### Recursive Fibonacci Function "
   ]
  },
  {
   "cell_type": "code",
   "execution_count": 18,
   "metadata": {},
   "outputs": [
    {
     "name": "stdout",
     "output_type": "stream",
     "text": [
      "1\n",
      "1\n",
      "2\n",
      "3\n",
      "5\n",
      "8\n",
      "13\n",
      "21\n",
      "34\n",
      "55\n"
     ]
    }
   ],
   "source": [
    "def Fib_rec(n=0):\n",
    "    if n==0:\n",
    "        return 1\n",
    "    elif n==1:\n",
    "        return 1\n",
    "    else:\n",
    "        return Fib_rec(n-1)+Fib_rec(n-2)\n",
    "    \n",
    "for i in range(0,10,1):\n",
    "    print(Fib_rec(i))"
   ]
  },
  {
   "cell_type": "markdown",
   "metadata": {},
   "source": [
    "##### Part 1 -  Rewrite the Fibonacci Function using a for loop \n"
   ]
  },
  {
   "cell_type": "code",
   "execution_count": 22,
   "metadata": {},
   "outputs": [
    {
     "name": "stdout",
     "output_type": "stream",
     "text": [
      "1\n",
      "1\n",
      "2\n",
      "3\n",
      "5\n",
      "8\n",
      "13\n",
      "21\n",
      "34\n",
      "55\n"
     ]
    }
   ],
   "source": [
    "def fib_for(n):\n",
    "    x,y=1,1\n",
    "    for i in range(n-1):\n",
    "        x,y=y,x+y\n",
    "    return x\n",
    "for i in range(1,11):\n",
    "    print (fib_for(i))"
   ]
  },
  {
   "cell_type": "markdown",
   "metadata": {},
   "source": [
    "\n",
    "#### Part 2 : Which function is actually faster? (Explain without running the codes)\n",
    "\n",
    "###### It depends on what we trying to do - Recursive solutions tend to be mathematically elegant, but they might be more difficult to understand. Recursive functions may also be executed more slowly (depending on your server specs ). Each time a function is called, certain values are placed on the stack - taking time and resources if your recursive function calls itself many times. In extreme examples you could run out of stack space. Recursive Depth is tipically limited to 1000 iterations ( that can be changed using sys.setrecursionlimit(n)). \n",
    "\n",
    "##### Functions that just iterate in loops may be more efficient where memory is limited. Python isn't a functional language and tail recursion is not a particularly efficient technique. Rewriting the algorithm iteratively, if possible, is generally a better idea.\n"
   ]
  },
  {
   "cell_type": "markdown",
   "metadata": {},
   "source": [
    "#### Part 3 Run the Fibonacci function k times for the input of n and return the average \n",
    "#####  -------First I do a for loop and then I do recursive "
   ]
  },
  {
   "cell_type": "code",
   "execution_count": 4,
   "metadata": {},
   "outputs": [
    {
     "name": "stdout",
     "output_type": "stream",
     "text": [
      "[9.753846000023714, 8.344615999988036, 7.504820000008294, 8.384410000019216, 8.468923000009454, 8.107487000017954, 8.006564000027083, 8.314665999989757, 7.50030799997603, 8.941537999987759, 9.472000000016578, 8.874666999986403, 8.305640999992647, 7.751384000016515, 8.067282000013165, 7.437539000022753, 7.706256000005851, 8.055795000018406, 7.694769000011092, 7.900307999989309, 7.859692000010909, 7.819896999990306, 7.7505639999913, 9.293948999982149, 7.659896999996363, 8.729845999994268, 7.78994799998145, 7.704205000038655, 7.735384000000067, 7.78543600000603, 7.543385000019498, 7.196307000015167, 7.901949000029163, 7.150359000036133, 7.536411000046428, 7.016205000013542, 7.181949000027998, 8.330256000022018, 7.593846000020221]\n",
      "[1, 2, 3, 4, 5, 6, 7, 8, 9, 10, 11, 12, 13, 14, 15, 16, 17, 18, 19, 20, 21, 22, 23, 24, 25, 26, 27, 28, 29, 30, 31, 32, 33, 34, 35, 36, 37, 38, 39]\n"
     ]
    }
   ],
   "source": [
    "## Run the Fib with a for loop and record the times for each iteration\n",
    "## I run it with k=40\n",
    "\n",
    "\n",
    "from timeit import timeit\n",
    "\n",
    "time_y_for= []\n",
    "axis_x_for= []\n",
    "setup_for = \"\"\"\n",
    "def Fib_for(n):\n",
    "    x, y = 1, 1\n",
    "    for i in range(n - 1):\n",
    "        x, y = y, x + y\n",
    "    return x\n",
    "    \"\"\"\n",
    "for k in range(1, 40):\n",
    "        for i in range(1, 20):\n",
    "            timeit(stmt='Fib_for('+str(i)+')', setup=setup_for, number=k)\n",
    "        time_y_for.append(timeit()*1000) # expressed in miliseconds for visualization\n",
    "        axis_x_for.append(k)\n",
    "\n",
    "print(time_y_for)\n",
    "print(axis_x_for)\n"
   ]
  },
  {
   "cell_type": "code",
   "execution_count": 3,
   "metadata": {},
   "outputs": [
    {
     "name": "stdout",
     "output_type": "stream",
     "text": [
      "[8.12800000005609, 7.798975000014252, 7.471589999966, 7.803486999989673, 7.8531279999651815, 7.744410000043445, 8.25558999997611, 7.67466700000341, 7.5265639999884115, 7.808000000011361, 7.442051999987598, 8.348718000036115, 7.027282000024115, 7.937641000012263, 9.136409999996431, 8.344205000014426, 7.2196929999677195, 7.407178999983444, 7.752205000031154, 7.121230999985073, 8.582154000009723, 7.665641000016876, 8.974768999962635, 8.584615000017948, 7.903999999996358, 7.138871999984531, 7.509744000003593, 7.1171280000044135, 8.448820000012347, 7.77641100000892, 9.045743999990918, 7.673845999988771, 9.622153000009348, 7.851076999997986, 8.156308000025092, 7.977436000032867, 7.713640999952531, 7.743179999977201, 8.89928199995893]\n",
      "[1, 2, 3, 4, 5, 6, 7, 8, 9, 10, 11, 12, 13, 14, 15, 16, 17, 18, 19, 20, 21, 22, 23, 24, 25, 26, 27, 28, 29, 30, 31, 32, 33, 34, 35, 36, 37, 38, 39]\n"
     ]
    }
   ],
   "source": [
    "## Run the Fib recursive and record the times for each iteration\n",
    "## I run it with k=40 \n",
    "\n",
    "\n",
    "from timeit import timeit\n",
    "\n",
    "time_y_rec= []\n",
    "axis_x_rec= []\n",
    "setup_rec = \"\"\"\n",
    "def Fib_rec(n=0):\n",
    "        if n==0:\n",
    "            return 1\n",
    "        elif n==1:\n",
    "            return 1\n",
    "        else:\n",
    "         return Fib_rec(n-1)+Fib_rec(n-2)\n",
    "    \"\"\"\n",
    "for k in range(1, 40):\n",
    "        for i in range(1, 20):\n",
    "            timeit(stmt='Fib_rec('+str(i)+')', setup=setup_rec, number=k)\n",
    "        time_y_rec.append(timeit()*1000) # expressed in miliseconds for visualization\n",
    "        axis_x_rec.append(k)\n",
    "\n",
    "print(time_y_rec)\n",
    "print(axis_x_rec)\n"
   ]
  },
  {
   "cell_type": "markdown",
   "metadata": {},
   "source": [
    " #### Part 4: Make a plot in which the x-axis is the value of the input function n and the y-axis is the average time (output of the previous function), for both recursive and nonrecursive Fibonacci. (Both in the same plot; also use matplotlib package for making the plots)\n"
   ]
  },
  {
   "cell_type": "code",
   "execution_count": 8,
   "metadata": {},
   "outputs": [
    {
     "data": {
      "image/png": "[encoded data removed]",
      "text/plain": [
       "<Figure size 432x288 with 1 Axes>"
      ]
     },
     "metadata": {
      "needs_background": "light"
     },
     "output_type": "display_data"
    }
   ],
   "source": [
    "from matplotlib import pyplot as plt\n",
    " \n",
    "\n",
    "Fib_rec = plt.plot(axis_x_rec,time_y_rec,'bs')\n",
    "Fib_for = plt.plot(axis_x_for,time_y_for,'ro')\n",
    "\n",
    "plt.xlabel('number of iterations')\n",
    "plt.ylabel('miliseconds per iteration')\n",
    "plt.title('miliseconds per Fibonacci iteration' )\n",
    "\n",
    "plt.show()\n"
   ]
  },
  {
   "cell_type": "markdown",
   "metadata": {},
   "source": [
    "## Problem 2: Linear Algebra\n",
    "\n",
    "#### I scanned and uploaded the math work to my git repo \n",
    "##### https://github.com/scdragonfly/ML_Homework"
   ]
  },
  {
   "cell_type": "markdown",
   "metadata": {},
   "source": [
    "## Problem 3: Machine Learning\n",
    "\n",
    "### Part 1: Explain the difference between validation and test samples.\n",
    "\n",
    "###### Validation samples are examples used to tune the parameters of a learning algorithm when working with labeled data. Learning algorithms have typically one or more free parameters and the validation sample is used to select appropriate values for these model parameters. \n",
    "##### Whereas the test sample are examples used to evaluate the performance of a learning algorithm. The test sample is separate from the training and validation data and is not made available at the learning stage. \n",
    "\n",
    "\n",
    "\n",
    "### Part 2: Explain the difference between supervised and unsupervised learning algorithm.\n",
    "\n",
    "\n",
    "###### In supervised learning, the algorithm receives a set of labeled examples as training data and makes predictions for all unseen points. This is the most common scenario associated with regression, ranking and classification problems. The SPAM detection problem is an instance of supervised learning.\n",
    "\n",
    "##### In unsupervised learning, the learner receives unlabeled training data and makes predictions for all unseen points. Since no labeled example is available, it is difficult to quantitatively evaluate the performance of a learner. Clustering and dimensionality reduction are examples of unsupervised learning.\n",
    "\n",
    "\n"
   ]
  },
  {
   "cell_type": "code",
   "execution_count": null,
   "metadata": {},
   "outputs": [],
   "source": []
  }
 ],
 "metadata": {
  "kernelspec": {
   "display_name": "Python 3",
   "language": "python",
   "name": "python3"
  },
  "language_info": {
   "codemirror_mode": {
    "name": "ipython",
    "version": 3
   },
   "file_extension": ".py",
   "mimetype": "text/x-python",
   "name": "python",
   "nbconvert_exporter": "python",
   "pygments_lexer": "ipython3",
   "version": "3.7.3"
  }
 },
 "nbformat": 4,
 "nbformat_minor": 2
}
