{
 "cells": [
  {
   "cell_type": "markdown",
   "metadata": {},
   "source": [
    "## Recursive Fibonacci Function "
   ]
  },
  {
   "cell_type": "code",
   "execution_count": 18,
   "metadata": {},
   "outputs": [
    {
     "name": "stdout",
     "output_type": "stream",
     "text": [
      "1\n",
      "1\n",
      "2\n",
      "3\n",
      "5\n",
      "8\n",
      "13\n",
      "21\n",
      "34\n",
      "55\n"
     ]
    }
   ],
   "source": [
    "def Fib_rec(n=0):\n",
    "    if n==0:\n",
    "        return 1\n",
    "    elif n==1:\n",
    "        return 1\n",
    "    else:\n",
    "        return Fib_rec(n-1)+Fib_rec(n-2)\n",
    "    \n",
    "for i in range(0,10,1):\n",
    "    print(Fib_rec(i))"
   ]
  },
  {
   "cell_type": "markdown",
   "metadata": {},
   "source": [
    "## Fibonacci Function using a for loop "
   ]
  },
  {
   "cell_type": "code",
   "execution_count": 22,
   "metadata": {},
   "outputs": [
    {
     "name": "stdout",
     "output_type": "stream",
     "text": [
      "1\n",
      "1\n",
      "2\n",
      "3\n",
      "5\n",
      "8\n",
      "13\n",
      "21\n",
      "34\n",
      "55\n"
     ]
    }
   ],
   "source": [
    "def fib_for(n):\n",
    "    x,y=1,1\n",
    "    for i in range(n-1):\n",
    "        x,y=y,x+y\n",
    "    return x\n",
    "for i in range(1,11):\n",
    "    print (fib_for(i))"
   ]
  },
  {
   "cell_type": "code",
   "execution_count": 3,
   "metadata": {},
   "outputs": [
    {
     "name": "stdout",
     "output_type": "stream",
     "text": [
      "1561503541.1468291\n"
     ]
    }
   ],
   "source": [
    "import time\n",
    "x=time.time()\n",
    "print(x)"
   ]
  },
  {
   "cell_type": "code",
   "execution_count": null,
   "metadata": {},
   "outputs": [],
   "source": []
  },
  {
   "cell_type": "markdown",
   "metadata": {},
   "source": [
    "## Importing the time modules and Time the average time for k times function call \n",
    "run the Fibrec function k times for the input of n and returns the average time"
   ]
  },
  {
   "cell_type": "code",
   "execution_count": 33,
   "metadata": {},
   "outputs": [
    {
     "name": "stdout",
     "output_type": "stream",
     "text": [
      "1561505088.635202\n"
     ]
    }
   ],
   "source": [
    "import time \n",
    "x=time.time()\n",
    "print(x)"
   ]
  },
  {
   "cell_type": "code",
   "execution_count": 41,
   "metadata": {},
   "outputs": [
    {
     "name": "stdout",
     "output_type": "stream",
     "text": [
      "time taken : 0.000000 seconds\n",
      "time taken : 0.000000 seconds\n",
      "<function timer.<locals>.g at 0x00000298EC38EAE8>\n"
     ]
    }
   ],
   "source": [
    "def timer (n,k,f=fib_for) :\n",
    "    start_time=time.time()\n",
    "    def g(x):\n",
    "        value=f(x)\n",
    "        return value\n",
    "    print(\"time taken : %f seconds\"%((time.time()-start_time)/k))\n",
    "    return g\n",
    "\n",
    "def fib_for(n):\n",
    "    x,y=1,1\n",
    "    for i in range(n-1):\n",
    "        x,y=y,x+y\n",
    "    return x\n",
    "##for i in range(1,11):\n",
    "  ##  print (fib_for(i))\n",
    "\n",
    "t=timer(5,10,fib_for)\n",
    "print(timer(2,3,7))"
   ]
  },
  {
   "cell_type": "code",
   "execution_count": 55,
   "metadata": {},
   "outputs": [
    {
     "name": "stdout",
     "output_type": "stream",
     "text": [
      "2 3 \n",
      "2\n"
     ]
    },
    {
     "ename": "NameError",
     "evalue": "name 'start_time' is not defined",
     "output_type": "error",
     "traceback": [
      "\u001b[1;31m---------------------------------------------------------------------------\u001b[0m",
      "\u001b[1;31mNameError\u001b[0m                                 Traceback (most recent call last)",
      "\u001b[1;32m<ipython-input-55-09b155524ca7>\u001b[0m in \u001b[0;36m<module>\u001b[1;34m\u001b[0m\n\u001b[0;32m     11\u001b[0m         \u001b[0mprint\u001b[0m\u001b[1;33m(\u001b[0m\u001b[0mt\u001b[0m\u001b[1;33m)\u001b[0m\u001b[1;33m\u001b[0m\u001b[1;33m\u001b[0m\u001b[0m\n\u001b[0;32m     12\u001b[0m     \u001b[0mstop_time\u001b[0m\u001b[1;33m=\u001b[0m\u001b[0mtime\u001b[0m\u001b[1;33m.\u001b[0m\u001b[0mtime\u001b[0m\u001b[1;33m(\u001b[0m\u001b[1;33m)\u001b[0m\u001b[1;33m\u001b[0m\u001b[1;33m\u001b[0m\u001b[0m\n\u001b[1;32m---> 13\u001b[1;33m     \u001b[0mprint\u001b[0m\u001b[1;33m(\u001b[0m\u001b[1;34m\"Elapsed time:\"\u001b[0m\u001b[1;33m,\u001b[0m \u001b[0mstop_time\u001b[0m\u001b[1;33m,\u001b[0m \u001b[1;34m'ns'\u001b[0m\u001b[1;33m,\u001b[0m\u001b[0mstart_time\u001b[0m\u001b[1;33m,\u001b[0m \u001b[1;34m'ns'\u001b[0m\u001b[1;33m)\u001b[0m\u001b[1;33m\u001b[0m\u001b[1;33m\u001b[0m\u001b[0m\n\u001b[0m",
      "\u001b[1;31mNameError\u001b[0m: name 'start_time' is not defined"
     ]
    }
   ],
   "source": [
    "def  timer (n,k,f=fib_for ) :\n",
    "## n is the input to the function of fibonacci\n",
    "## k is the number of runs \n",
    "    start_time=time.time()\n",
    "n,m=map(int, input().split())\n",
    "\n",
    "# Start the stopwatch /counter\n",
    "for i in range(1,10,1):\n",
    "    t=int(input())\n",
    "    if t%m==0:\n",
    "    print(t)\n",
    "    stop_time=time.time()\n",
    "    print(\"Elapsed time:\", stop_time, 'ns',start_time, 'ns')   \n"
   ]
  },
  {
   "cell_type": "code",
   "execution_count": null,
   "metadata": {},
   "outputs": [],
   "source": []
  },
  {
   "cell_type": "code",
   "execution_count": null,
   "metadata": {},
   "outputs": [],
   "source": []
  }
 ],
 "metadata": {
  "kernelspec": {
   "display_name": "Python 3",
   "language": "python",
   "name": "python3"
  },
  "language_info": {
   "codemirror_mode": {
    "name": "ipython",
    "version": 3
   },
   "file_extension": ".py",
   "mimetype": "text/x-python",
   "name": "python",
   "nbconvert_exporter": "python",
   "pygments_lexer": "ipython3",
   "version": "3.7.3"
  }
 },
 "nbformat": 4,
 "nbformat_minor": 2
}
