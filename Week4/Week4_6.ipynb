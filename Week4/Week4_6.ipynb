{
 "cells": [
  {
   "cell_type": "markdown",
   "metadata": {},
   "source": [
    "## Find all the 9s!\n",
    "\n",
    "In this section you should build up a classiﬁer that can distinguish number 9 from every other numbers. (reusing code and libraries are ok as long as you explain what is going on) For each section below you need to measure your performance. So, make sure to run the performance check at every part.\n",
    "1. Find the 9s using K-Nearest neighbours for Minkowski metric of order (1, 2, 3).\n",
    "2. Find the 9s using Decision tree.\n",
    "3. Find the 9s using Random Forests.\n",
    "\n",
    "\n"
   ]
  },
  {
   "cell_type": "markdown",
   "metadata": {},
   "source": [
    "\n",
    "-----------------------------------------------------------------------------------------------------\n",
    "\n",
    "A Binary Classifier is an instance of Supervised Learning. In Supervised Learning we have a set of input data and a set of labels, our task is to map each data with a label. \n",
    "\n",
    "\n",
    "\n",
    "A Binary Classifier classifies elements into two groups, either Zero or One. In our case, we have 10 labels, so we need to build a new clasification \n",
    "\n",
    "1. Every record thats 9 --> will have label 0 \n",
    "2. Every record that is not 9 --> will have label 1 \n"
   ]
  },
  {
   "cell_type": "markdown",
   "metadata": {},
   "source": [
    "## Import Data and Libraries "
   ]
  },
  {
   "cell_type": "code",
   "execution_count": 1,
   "metadata": {},
   "outputs": [],
   "source": [
    "from sklearn.neighbors import KNeighborsClassifier\n",
    "from sklearn.model_selection import GridSearchCV\n",
    "from sklearn.neighbors import KNeighborsClassifier\n",
    "from sklearn.ensemble import RandomForestClassifier\n",
    "from sklearn.tree import DecisionTreeClassifier # Import Decision Tree Classifier\n",
    "\n",
    "import pandas as pd\n",
    "import numpy as np \n",
    "import random \n",
    "import matplotlib.pyplot as plt\n",
    "\n",
    "##silence future warnings \n",
    "import warnings\n",
    "warnings.filterwarnings(\"ignore\", category=FutureWarning)\n"
   ]
  },
  {
   "cell_type": "code",
   "execution_count": 2,
   "metadata": {},
   "outputs": [],
   "source": [
    "mnist_data = pd.read_csv(r'C:\\Temp\\mnist\\train.csv',nrows=40000) "
   ]
  },
  {
   "cell_type": "code",
   "execution_count": 3,
   "metadata": {},
   "outputs": [
    {
     "name": "stdout",
     "output_type": "stream",
     "text": [
      "<class 'pandas.core.frame.DataFrame'>\n",
      "RangeIndex: 39700 entries, 0 to 39699\n",
      "Columns: 785 entries, label to pixel783\n",
      "dtypes: int64(785)\n",
      "memory usage: 237.8 MB\n"
     ]
    }
   ],
   "source": [
    "mnist_data.info()"
   ]
  },
  {
   "cell_type": "code",
   "execution_count": 4,
   "metadata": {},
   "outputs": [
    {
     "data": {
      "text/html": [
       "<div>\n",
       "<style scoped>\n",
       "    .dataframe tbody tr th:only-of-type {\n",
       "        vertical-align: middle;\n",
       "    }\n",
       "\n",
       "    .dataframe tbody tr th {\n",
       "        vertical-align: top;\n",
       "    }\n",
       "\n",
       "    .dataframe thead th {\n",
       "        text-align: right;\n",
       "    }\n",
       "</style>\n",
       "<table border=\"1\" class=\"dataframe\">\n",
       "  <thead>\n",
       "    <tr style=\"text-align: right;\">\n",
       "      <th></th>\n",
       "      <th>label</th>\n",
       "      <th>pixel0</th>\n",
       "      <th>pixel1</th>\n",
       "      <th>pixel2</th>\n",
       "      <th>pixel3</th>\n",
       "      <th>pixel4</th>\n",
       "      <th>pixel5</th>\n",
       "      <th>pixel6</th>\n",
       "      <th>pixel7</th>\n",
       "      <th>pixel8</th>\n",
       "      <th>...</th>\n",
       "      <th>pixel774</th>\n",
       "      <th>pixel775</th>\n",
       "      <th>pixel776</th>\n",
       "      <th>pixel777</th>\n",
       "      <th>pixel778</th>\n",
       "      <th>pixel779</th>\n",
       "      <th>pixel780</th>\n",
       "      <th>pixel781</th>\n",
       "      <th>pixel782</th>\n",
       "      <th>pixel783</th>\n",
       "    </tr>\n",
       "  </thead>\n",
       "  <tbody>\n",
       "    <tr>\n",
       "      <th>count</th>\n",
       "      <td>39700.000000</td>\n",
       "      <td>39700.0</td>\n",
       "      <td>39700.0</td>\n",
       "      <td>39700.0</td>\n",
       "      <td>39700.0</td>\n",
       "      <td>39700.0</td>\n",
       "      <td>39700.0</td>\n",
       "      <td>39700.0</td>\n",
       "      <td>39700.0</td>\n",
       "      <td>39700.0</td>\n",
       "      <td>...</td>\n",
       "      <td>39700.000000</td>\n",
       "      <td>39700.000000</td>\n",
       "      <td>39700.000000</td>\n",
       "      <td>39700.000000</td>\n",
       "      <td>39700.000000</td>\n",
       "      <td>39700.000000</td>\n",
       "      <td>39700.0</td>\n",
       "      <td>39700.0</td>\n",
       "      <td>39700.0</td>\n",
       "      <td>39700.0</td>\n",
       "    </tr>\n",
       "    <tr>\n",
       "      <th>mean</th>\n",
       "      <td>4.459370</td>\n",
       "      <td>0.0</td>\n",
       "      <td>0.0</td>\n",
       "      <td>0.0</td>\n",
       "      <td>0.0</td>\n",
       "      <td>0.0</td>\n",
       "      <td>0.0</td>\n",
       "      <td>0.0</td>\n",
       "      <td>0.0</td>\n",
       "      <td>0.0</td>\n",
       "      <td>...</td>\n",
       "      <td>0.221738</td>\n",
       "      <td>0.117204</td>\n",
       "      <td>0.061940</td>\n",
       "      <td>0.021360</td>\n",
       "      <td>0.018237</td>\n",
       "      <td>0.003023</td>\n",
       "      <td>0.0</td>\n",
       "      <td>0.0</td>\n",
       "      <td>0.0</td>\n",
       "      <td>0.0</td>\n",
       "    </tr>\n",
       "    <tr>\n",
       "      <th>std</th>\n",
       "      <td>2.887922</td>\n",
       "      <td>0.0</td>\n",
       "      <td>0.0</td>\n",
       "      <td>0.0</td>\n",
       "      <td>0.0</td>\n",
       "      <td>0.0</td>\n",
       "      <td>0.0</td>\n",
       "      <td>0.0</td>\n",
       "      <td>0.0</td>\n",
       "      <td>0.0</td>\n",
       "      <td>...</td>\n",
       "      <td>6.330270</td>\n",
       "      <td>4.594907</td>\n",
       "      <td>3.366489</td>\n",
       "      <td>1.810125</td>\n",
       "      <td>1.948600</td>\n",
       "      <td>0.426095</td>\n",
       "      <td>0.0</td>\n",
       "      <td>0.0</td>\n",
       "      <td>0.0</td>\n",
       "      <td>0.0</td>\n",
       "    </tr>\n",
       "    <tr>\n",
       "      <th>min</th>\n",
       "      <td>0.000000</td>\n",
       "      <td>0.0</td>\n",
       "      <td>0.0</td>\n",
       "      <td>0.0</td>\n",
       "      <td>0.0</td>\n",
       "      <td>0.0</td>\n",
       "      <td>0.0</td>\n",
       "      <td>0.0</td>\n",
       "      <td>0.0</td>\n",
       "      <td>0.0</td>\n",
       "      <td>...</td>\n",
       "      <td>0.000000</td>\n",
       "      <td>0.000000</td>\n",
       "      <td>0.000000</td>\n",
       "      <td>0.000000</td>\n",
       "      <td>0.000000</td>\n",
       "      <td>0.000000</td>\n",
       "      <td>0.0</td>\n",
       "      <td>0.0</td>\n",
       "      <td>0.0</td>\n",
       "      <td>0.0</td>\n",
       "    </tr>\n",
       "    <tr>\n",
       "      <th>25%</th>\n",
       "      <td>2.000000</td>\n",
       "      <td>0.0</td>\n",
       "      <td>0.0</td>\n",
       "      <td>0.0</td>\n",
       "      <td>0.0</td>\n",
       "      <td>0.0</td>\n",
       "      <td>0.0</td>\n",
       "      <td>0.0</td>\n",
       "      <td>0.0</td>\n",
       "      <td>0.0</td>\n",
       "      <td>...</td>\n",
       "      <td>0.000000</td>\n",
       "      <td>0.000000</td>\n",
       "      <td>0.000000</td>\n",
       "      <td>0.000000</td>\n",
       "      <td>0.000000</td>\n",
       "      <td>0.000000</td>\n",
       "      <td>0.0</td>\n",
       "      <td>0.0</td>\n",
       "      <td>0.0</td>\n",
       "      <td>0.0</td>\n",
       "    </tr>\n",
       "    <tr>\n",
       "      <th>50%</th>\n",
       "      <td>4.000000</td>\n",
       "      <td>0.0</td>\n",
       "      <td>0.0</td>\n",
       "      <td>0.0</td>\n",
       "      <td>0.0</td>\n",
       "      <td>0.0</td>\n",
       "      <td>0.0</td>\n",
       "      <td>0.0</td>\n",
       "      <td>0.0</td>\n",
       "      <td>0.0</td>\n",
       "      <td>...</td>\n",
       "      <td>0.000000</td>\n",
       "      <td>0.000000</td>\n",
       "      <td>0.000000</td>\n",
       "      <td>0.000000</td>\n",
       "      <td>0.000000</td>\n",
       "      <td>0.000000</td>\n",
       "      <td>0.0</td>\n",
       "      <td>0.0</td>\n",
       "      <td>0.0</td>\n",
       "      <td>0.0</td>\n",
       "    </tr>\n",
       "    <tr>\n",
       "      <th>75%</th>\n",
       "      <td>7.000000</td>\n",
       "      <td>0.0</td>\n",
       "      <td>0.0</td>\n",
       "      <td>0.0</td>\n",
       "      <td>0.0</td>\n",
       "      <td>0.0</td>\n",
       "      <td>0.0</td>\n",
       "      <td>0.0</td>\n",
       "      <td>0.0</td>\n",
       "      <td>0.0</td>\n",
       "      <td>...</td>\n",
       "      <td>0.000000</td>\n",
       "      <td>0.000000</td>\n",
       "      <td>0.000000</td>\n",
       "      <td>0.000000</td>\n",
       "      <td>0.000000</td>\n",
       "      <td>0.000000</td>\n",
       "      <td>0.0</td>\n",
       "      <td>0.0</td>\n",
       "      <td>0.0</td>\n",
       "      <td>0.0</td>\n",
       "    </tr>\n",
       "    <tr>\n",
       "      <th>max</th>\n",
       "      <td>9.000000</td>\n",
       "      <td>0.0</td>\n",
       "      <td>0.0</td>\n",
       "      <td>0.0</td>\n",
       "      <td>0.0</td>\n",
       "      <td>0.0</td>\n",
       "      <td>0.0</td>\n",
       "      <td>0.0</td>\n",
       "      <td>0.0</td>\n",
       "      <td>0.0</td>\n",
       "      <td>...</td>\n",
       "      <td>254.000000</td>\n",
       "      <td>254.000000</td>\n",
       "      <td>253.000000</td>\n",
       "      <td>253.000000</td>\n",
       "      <td>254.000000</td>\n",
       "      <td>62.000000</td>\n",
       "      <td>0.0</td>\n",
       "      <td>0.0</td>\n",
       "      <td>0.0</td>\n",
       "      <td>0.0</td>\n",
       "    </tr>\n",
       "  </tbody>\n",
       "</table>\n",
       "<p>8 rows × 785 columns</p>\n",
       "</div>"
      ],
      "text/plain": [
       "              label   pixel0   pixel1   pixel2   pixel3   pixel4   pixel5  \\\n",
       "count  39700.000000  39700.0  39700.0  39700.0  39700.0  39700.0  39700.0   \n",
       "mean       4.459370      0.0      0.0      0.0      0.0      0.0      0.0   \n",
       "std        2.887922      0.0      0.0      0.0      0.0      0.0      0.0   \n",
       "min        0.000000      0.0      0.0      0.0      0.0      0.0      0.0   \n",
       "25%        2.000000      0.0      0.0      0.0      0.0      0.0      0.0   \n",
       "50%        4.000000      0.0      0.0      0.0      0.0      0.0      0.0   \n",
       "75%        7.000000      0.0      0.0      0.0      0.0      0.0      0.0   \n",
       "max        9.000000      0.0      0.0      0.0      0.0      0.0      0.0   \n",
       "\n",
       "        pixel6   pixel7   pixel8    ...         pixel774      pixel775  \\\n",
       "count  39700.0  39700.0  39700.0    ...     39700.000000  39700.000000   \n",
       "mean       0.0      0.0      0.0    ...         0.221738      0.117204   \n",
       "std        0.0      0.0      0.0    ...         6.330270      4.594907   \n",
       "min        0.0      0.0      0.0    ...         0.000000      0.000000   \n",
       "25%        0.0      0.0      0.0    ...         0.000000      0.000000   \n",
       "50%        0.0      0.0      0.0    ...         0.000000      0.000000   \n",
       "75%        0.0      0.0      0.0    ...         0.000000      0.000000   \n",
       "max        0.0      0.0      0.0    ...       254.000000    254.000000   \n",
       "\n",
       "           pixel776      pixel777      pixel778      pixel779  pixel780  \\\n",
       "count  39700.000000  39700.000000  39700.000000  39700.000000   39700.0   \n",
       "mean       0.061940      0.021360      0.018237      0.003023       0.0   \n",
       "std        3.366489      1.810125      1.948600      0.426095       0.0   \n",
       "min        0.000000      0.000000      0.000000      0.000000       0.0   \n",
       "25%        0.000000      0.000000      0.000000      0.000000       0.0   \n",
       "50%        0.000000      0.000000      0.000000      0.000000       0.0   \n",
       "75%        0.000000      0.000000      0.000000      0.000000       0.0   \n",
       "max      253.000000    253.000000    254.000000     62.000000       0.0   \n",
       "\n",
       "       pixel781  pixel782  pixel783  \n",
       "count   39700.0   39700.0   39700.0  \n",
       "mean        0.0       0.0       0.0  \n",
       "std         0.0       0.0       0.0  \n",
       "min         0.0       0.0       0.0  \n",
       "25%         0.0       0.0       0.0  \n",
       "50%         0.0       0.0       0.0  \n",
       "75%         0.0       0.0       0.0  \n",
       "max         0.0       0.0       0.0  \n",
       "\n",
       "[8 rows x 785 columns]"
      ]
     },
     "execution_count": 4,
     "metadata": {},
     "output_type": "execute_result"
    }
   ],
   "source": [
    "mnist_data.describe() "
   ]
  },
  {
   "cell_type": "code",
   "execution_count": 5,
   "metadata": {},
   "outputs": [
    {
     "data": {
      "text/plain": [
       "{0, 1, 2, 3, 4, 5, 6, 7, 8, 9}"
      ]
     },
     "execution_count": 5,
     "metadata": {},
     "output_type": "execute_result"
    }
   ],
   "source": [
    "set(mnist_data['label'])"
   ]
  },
  {
   "cell_type": "markdown",
   "metadata": {},
   "source": [
    "there are 10 labels - in this first problem, we are going to build a classifier that can classify a number of being 9 or not 9 ( binary classifier ) "
   ]
  },
  {
   "cell_type": "code",
   "execution_count": 4,
   "metadata": {},
   "outputs": [],
   "source": [
    "#drop the label \n",
    "X=mnist_data.drop('label',1)\n",
    "y=mnist_data['label']"
   ]
  },
  {
   "cell_type": "code",
   "execution_count": 9,
   "metadata": {},
   "outputs": [
    {
     "data": {
      "text/plain": [
       "<matplotlib.axes._subplots.AxesSubplot at 0x1f81a1af080>"
      ]
     },
     "execution_count": 9,
     "metadata": {},
     "output_type": "execute_result"
    },
    {
     "data": {
      "image/png": "[encoded data removed]",
      "text/plain": [
       "<Figure size 432x288 with 1 Axes>"
      ]
     },
     "metadata": {},
     "output_type": "display_data"
    }
   ],
   "source": [
    "import seaborn as sns\n",
    "sns.set_style('darkgrid')\n",
    "sns.countplot(x='label', data=mnist_data,color=(0.2, 0.4, 0.6, 0.6))"
   ]
  },
  {
   "cell_type": "markdown",
   "metadata": {},
   "source": [
    "See in the plot above, the categories are pretty uniformily distributed "
   ]
  },
  {
   "cell_type": "markdown",
   "metadata": {},
   "source": [
    "### first let's create 2 buckets to train our binamy classification - \n",
    "#### Label9=0 or LabelNot9=1"
   ]
  },
  {
   "cell_type": "code",
   "execution_count": 5,
   "metadata": {},
   "outputs": [
    {
     "name": "stdout",
     "output_type": "stream",
     "text": [
      "We have a set with the 2 labels in our MNIST Data set\n",
      " {0, 1}\n"
     ]
    }
   ],
   "source": [
    "\n",
    "y1 = (y <= 8).astype(int)\n",
    "print (\"We have a set with the 2 labels in our MNIST Data set\\n\",set(y1))"
   ]
  },
  {
   "cell_type": "code",
   "execution_count": 8,
   "metadata": {},
   "outputs": [
    {
     "data": {
      "text/plain": [
       "array([1, 1, 1, ..., 1, 1, 0])"
      ]
     },
     "execution_count": 8,
     "metadata": {},
     "output_type": "execute_result"
    }
   ],
   "source": [
    "y1.values"
   ]
  },
  {
   "cell_type": "code",
   "execution_count": 15,
   "metadata": {},
   "outputs": [],
   "source": [
    "count_y1=[]\n",
    "for i in range(2):\n",
    "    add_count=np.count_nonzero(y1==i)    \n",
    "    count_y1.append(add_count)"
   ]
  },
  {
   "cell_type": "code",
   "execution_count": 47,
   "metadata": {},
   "outputs": [
    {
     "data": {
      "image/png": "[encoded data removed]",
      "text/plain": [
       "<Figure size 432x288 with 1 Axes>"
      ]
     },
     "metadata": {},
     "output_type": "display_data"
    }
   ],
   "source": [
    "index = ['0', '1']\n",
    "df = pd.DataFrame({'labels': count_y1}, index=index)\n",
    "ax = df.plot.bar(rot=0)\n",
    "plt.ylabel(r\"count\", fontsize = 12)\n",
    "plt.xlabel(r\"labels\", fontsize = 12)\n",
    "\n",
    "plt.legend(bbox_to_anchor=(1, 1), loc='best', ncol=1)\n",
    "plt.show()\n"
   ]
  },
  {
   "cell_type": "markdown",
   "metadata": {},
   "source": [
    "###  KNNeighborsClassifier for Minkowski= 1,2,3 . Binary Classification\n",
    "\n",
    "\n",
    "We are going to train our model with y1 ( instead of y ) since y1 contains our binary classification. "
   ]
  },
  {
   "cell_type": "code",
   "execution_count": 6,
   "metadata": {},
   "outputs": [],
   "source": [
    "#split the data \n",
    "\n",
    "from sklearn.model_selection import train_test_split\n",
    "\n",
    "X_train, X_test, y1_train, y1_test = train_test_split(\n",
    "    X, y1, test_size=0.2, random_state=1000\n",
    ")"
   ]
  },
  {
   "cell_type": "code",
   "execution_count": 15,
   "metadata": {},
   "outputs": [
    {
     "data": {
      "text/plain": [
       "KNeighborsClassifier(algorithm='auto', leaf_size=30, metric='minkowski',\n",
       "           metric_params=None, n_jobs=None, n_neighbors=5, p=2,\n",
       "           weights='uniform')"
      ]
     },
     "execution_count": 15,
     "metadata": {},
     "output_type": "execute_result"
    }
   ],
   "source": [
    "KNN_1 = KNeighborsClassifier(n_neighbors=5, algorithm='auto', p=1, metric='minkowski')\n",
    "KNN_1.fit(X_train, y1_train)\n",
    "\n",
    "KNN_2 = KNeighborsClassifier(n_neighbors=5, algorithm='auto', p=2, metric='minkowski')\n",
    "KNN_2.fit(X_train, y1_train)\n",
    "\n",
    "#KNN_3 = KNeighborsClassifier(n_neighbors=5, algorithm='auto', p=3, metric='minkowski')\n",
    "#KNN_3.fit(X_train, y1_train)"
   ]
  },
  {
   "cell_type": "code",
   "execution_count": 16,
   "metadata": {},
   "outputs": [
    {
     "name": "stdout",
     "output_type": "stream",
     "text": [
      "Accuracy Model KNN Minkowski with p=1 0.988287153652393\n"
     ]
    }
   ],
   "source": [
    "scoreKNN_1=KNN_1.score(X_test, y1_test)\n",
    "print(\"Accuracy Model KNN Minkowski with p=1\",scoreKNN_1)"
   ]
  },
  {
   "cell_type": "code",
   "execution_count": 17,
   "metadata": {},
   "outputs": [],
   "source": [
    "y_pred_KNN_1=KNN_1.predict(X_test)"
   ]
  },
  {
   "cell_type": "code",
   "execution_count": 76,
   "metadata": {},
   "outputs": [
    {
     "name": "stdout",
     "output_type": "stream",
     "text": [
      "Accuracy Model KNN Minkowski with p=2 0.9889168765743073\n"
     ]
    }
   ],
   "source": [
    "scoreKNN_2=KNN_2.score(X_test, y1_test)\n",
    "print(\"Accuracy Model KNN Minkowski with p=2\",scoreKNN_2)"
   ]
  },
  {
   "cell_type": "code",
   "execution_count": null,
   "metadata": {},
   "outputs": [],
   "source": [
    "y_pred_KNN_2=KNN_2.predict(X_test)"
   ]
  },
  {
   "cell_type": "code",
   "execution_count": null,
   "metadata": {},
   "outputs": [],
   "source": [
    "scoreKNN_3=KNN_3.score(X_test, y1_test)\n",
    "print(\"Accuracy Model KNN Minkowski with p=3\",scoreKNN_3)"
   ]
  },
  {
   "cell_type": "code",
   "execution_count": null,
   "metadata": {},
   "outputs": [],
   "source": [
    "y_pred_KNN_3=KNN_3.predict(X_test)"
   ]
  },
  {
   "cell_type": "markdown",
   "metadata": {},
   "source": [
    "### Random Forest Classifier for binary classification\n"
   ]
  },
  {
   "cell_type": "code",
   "execution_count": 7,
   "metadata": {},
   "outputs": [
    {
     "name": "stdout",
     "output_type": "stream",
     "text": [
      "Accuracy of our prediction 0.9802267002518892\n"
     ]
    }
   ],
   "source": [
    "# Run Random Forest classifer  \n",
    "\n",
    "RFC=RandomForestClassifier()\n",
    "RFC.fit(X_train,y1_train)\n",
    "accuracy_RFC_2 = RFC.score(X_test, y1_test)\n",
    "print(\"Accuracy of our prediction\",accuracy_RFC_2)\n"
   ]
  },
  {
   "cell_type": "code",
   "execution_count": 8,
   "metadata": {},
   "outputs": [],
   "source": [
    "y_pred_RFC=RFC.predict(X_test)"
   ]
  },
  {
   "cell_type": "markdown",
   "metadata": {},
   "source": [
    "###  Decision Tree Classifier"
   ]
  },
  {
   "cell_type": "code",
   "execution_count": 9,
   "metadata": {},
   "outputs": [
    {
     "name": "stdout",
     "output_type": "stream",
     "text": [
      "General Accuracy of Decision Tree Classifier: 0.8997481108312343\n"
     ]
    }
   ],
   "source": [
    "# Create Decision Tree classifer object \n",
    "DTC_2 = DecisionTreeClassifier(criterion=\"entropy\", max_depth=3)\n",
    "DTC_2 = DTC_2.fit(X_train,y1_train)\n",
    "accuracy_DTC_2 = DTC_2.score(X_test, y1_test)\n",
    "# Model Accuracy, how often is the classifier correct?\n",
    "print(\"General Accuracy of Decision Tree Classifier:\",accuracy_DTC_2)"
   ]
  },
  {
   "cell_type": "markdown",
   "metadata": {},
   "source": [
    "89% is pretty good, but is still lower than the other classifiers when it comes to differentiate between 9s ( labeled as 1 ) and others ( labeled as 0s )"
   ]
  },
  {
   "cell_type": "code",
   "execution_count": 10,
   "metadata": {},
   "outputs": [],
   "source": [
    "\n",
    "depth = np.linspace(1, 20, 20, endpoint=True)\n",
    "accuracy_DTC_2 =[]\n",
    "\n",
    "for i in depth:\n",
    "    DCT_d = DecisionTreeClassifier(max_depth=i)\n",
    "    DCT_d.fit(X_train, y1_train)\n",
    "    score_i = DCT_d.score(X_test, y1_test)\n",
    "    accuracy_DTC_2.append(score_i)"
   ]
  },
  {
   "cell_type": "code",
   "execution_count": 12,
   "metadata": {},
   "outputs": [
    {
     "data": {
      "image/png": "[encoded data removed]",
      "text/plain": [
       "<Figure size 432x432 with 1 Axes>"
      ]
     },
     "metadata": {
      "needs_background": "light"
     },
     "output_type": "display_data"
    }
   ],
   "source": [
    "from IPython.display import SVG\n",
    "from graphviz import Source\n",
    "from IPython.display import display\n",
    "\n",
    "fig = plt.figure(figsize=(6, 6))\n",
    "\n",
    "plt.plot(depth, accuracy_DTC_2)\n",
    "\n",
    "plt.xlabel(r\"Decision Tree Depth\", fontsize = 12)\n",
    "plt.ylabel(r\"Accuracy score\", fontsize = 12)\n",
    "\n",
    "plt.show()\n"
   ]
  },
  {
   "cell_type": "markdown",
   "metadata": {},
   "source": [
    "#### So the decision tree peaks at around depth=8.\n",
    "#### Lets run the classifier again using this parameter"
   ]
  },
  {
   "cell_type": "code",
   "execution_count": 13,
   "metadata": {},
   "outputs": [
    {
     "name": "stdout",
     "output_type": "stream",
     "text": [
      "General Accuracy of Decision Tree Classifier: 0.954911838790932\n"
     ]
    }
   ],
   "source": [
    "# Create Decision Tree classifer object \n",
    "DTC = DecisionTreeClassifier(criterion=\"entropy\", max_depth=8)\n",
    "# Train Decision Tree Classifer\n",
    "DTC = DTC.fit(X_train,y1_train)\n",
    "accuracy_DTC_8 = DTC.score(X_test, y1_test)\n",
    "print(\"General Accuracy of Decision Tree Classifier:\",accuracy_DTC_8)"
   ]
  },
  {
   "cell_type": "markdown",
   "metadata": {},
   "source": [
    "Yay, 95% - This is better. It jumped 6 points just by adjusting the depth level. "
   ]
  },
  {
   "cell_type": "code",
   "execution_count": 14,
   "metadata": {},
   "outputs": [],
   "source": [
    "y_pred_DTC=DTC.predict(X_test)"
   ]
  },
  {
   "cell_type": "markdown",
   "metadata": {},
   "source": [
    "#### Just to summarize what we have done so far : \n",
    "\n",
    "##### 1. Re-labeled the data to have 2 categories : \"9\" and \"not 9\" . \n",
    "##### 2. Run classifiers KNN ( for Mikownski=1,2,3)  Random Forest and Decision tree that are accurate to find the right label in the following percentages \n",
    "\n",
    "\n",
    "Note for Abtin : My processor was short on memory everytime I tried p=3. It would run it for hours until I interrupt the kernel... So for that reason is not included in the results. \n"
   ]
  },
  {
   "cell_type": "code",
   "execution_count": 22,
   "metadata": {},
   "outputs": [
    {
     "data": {
      "text/html": [
       "<div>\n",
       "<style scoped>\n",
       "    .dataframe tbody tr th:only-of-type {\n",
       "        vertical-align: middle;\n",
       "    }\n",
       "\n",
       "    .dataframe tbody tr th {\n",
       "        vertical-align: top;\n",
       "    }\n",
       "\n",
       "    .dataframe thead th {\n",
       "        text-align: right;\n",
       "    }\n",
       "</style>\n",
       "<table border=\"1\" class=\"dataframe\">\n",
       "  <thead>\n",
       "    <tr style=\"text-align: right;\">\n",
       "      <th></th>\n",
       "      <th>Modelling Algorithm</th>\n",
       "      <th>Accuracy</th>\n",
       "    </tr>\n",
       "  </thead>\n",
       "  <tbody>\n",
       "    <tr>\n",
       "      <th>0</th>\n",
       "      <td>Decision Tree Classifier 2 Labels</td>\n",
       "      <td>95.49</td>\n",
       "    </tr>\n",
       "    <tr>\n",
       "      <th>1</th>\n",
       "      <td>RandomForestClassifier 2 labels</td>\n",
       "      <td>98.02</td>\n",
       "    </tr>\n",
       "    <tr>\n",
       "      <th>2</th>\n",
       "      <td>KNN Minkowski p=1 All Digits</td>\n",
       "      <td>98.83</td>\n",
       "    </tr>\n",
       "  </tbody>\n",
       "</table>\n",
       "</div>"
      ],
      "text/plain": [
       "                 Modelling Algorithm Accuracy\n",
       "0  Decision Tree Classifier 2 Labels    95.49\n",
       "1    RandomForestClassifier 2 labels    98.02\n",
       "2       KNN Minkowski p=1 All Digits    98.83"
      ]
     },
     "execution_count": 22,
     "metadata": {},
     "output_type": "execute_result"
    }
   ],
   "source": [
    "model_names=['Decision Tree Classifier 2 Labels',\n",
    "             'RandomForestClassifier 2 labels',\n",
    "             'KNN Minkowski p=1 2 Labels'#,\n",
    "             #'KNN Minkowski p=2 2 Labels'\n",
    "            ]\n",
    "acc=[format(accuracy_DTC_8*100,'.2f'),format(accuracy_RFC_2*100,'.2f'),format(scoreKNN_1*100,'.2f')]\n",
    "d={}\n",
    "\n",
    "d={'Modelling Algorithm':model_names,'Accuracy':acc}\n",
    "acc_frame=pd.DataFrame(d)\n",
    "acc_frame\n",
    "\n"
   ]
  },
  {
   "cell_type": "markdown",
   "metadata": {},
   "source": [
    "\n",
    "It looks like the accuracy of \"getting the right label \" is pretty high across all the different algorithms.\n",
    "\n",
    "Lets visualize the predictions using a few rows of the testing set \n",
    "\n",
    "And after that, we are going to evaluate how accurate is each algorithm in \"finding the 9s\" especifically "
   ]
  },
  {
   "cell_type": "code",
   "execution_count": 75,
   "metadata": {},
   "outputs": [
    {
     "data": {
      "image/png": "[encoded data removed]",
      "text/plain": [
       "<Figure size 720x720 with 6 Axes>"
      ]
     },
     "metadata": {},
     "output_type": "display_data"
    }
   ],
   "source": [
    "import matplotlib as mpl\n",
    "plt.figure(figsize=(10, 10))\n",
    "\n",
    "j = 331\n",
    "for i in range(0,6):\n",
    "    example= X_test.iloc[i].values\n",
    "    example=example.reshape(28, 28)\n",
    "    plt.subplot(j); plt.imshow(example, cmap=mpl.cm.binary)\n",
    "    plt.text(0, 2, \"prediction RFC= {}\".format(y_pred_RFC[i]))\n",
    "    j+=1\n",
    "\n",
    "plt.show()"
   ]
  },
  {
   "cell_type": "markdown",
   "metadata": {},
   "source": [
    "#### As we can see, the digit =9 has a prediction of label 0 ( which is what we marked as label 9 ). \n",
    "#### All the others digits are predicted with label=1 ( non 9s ) \n",
    "\n"
   ]
  },
  {
   "cell_type": "markdown",
   "metadata": {},
   "source": [
    "### Finally, we are going to plot the results in a Confusion Matrix to evaluate how accurate our algorithms are to find 9s in our data set "
   ]
  },
  {
   "cell_type": "code",
   "execution_count": 23,
   "metadata": {},
   "outputs": [
    {
     "name": "stdout",
     "output_type": "stream",
     "text": [
      "Confusion matrix\n",
      "[[ 614  182]\n",
      " [ 176 6968]]\n"
     ]
    },
    {
     "data": {
      "image/png": "[encoded data removed]",
      "text/plain": [
       "<Figure size 432x288 with 2 Axes>"
      ]
     },
     "metadata": {
      "needs_background": "light"
     },
     "output_type": "display_data"
    }
   ],
   "source": [
    "\n",
    "from sklearn.metrics import confusion_matrix\n",
    "from sklearn.utils.multiclass import unique_labels\n",
    "\n",
    "class_names = unique_labels(y1_test)\n",
    "y_pred_DTC=DTC.predict(X_test)\n",
    "\n",
    "def plot_confusion_matrix(a_test, a_pred, classes,\n",
    "                          normalize=False,\n",
    "                          title=None,\n",
    "                          cmap=plt.cm.Blues):\n",
    "    \"\"\"\n",
    "    This function prints and plots the confusion matrix.\n",
    "    Normalization can be applied by setting `normalize=True`.\n",
    "    \"\"\"\n",
    "    if not title:\n",
    "        if normalize:\n",
    "            title = 'Normalized confusion matrix'\n",
    "        else:\n",
    "            title = 'Confusion matrix, without normalization'\n",
    "\n",
    "    # Compute confusion matrix\n",
    "    cm = confusion_matrix(a_test, a_pred)\n",
    "    # Only use the labels that appear in the data\n",
    "    classes = classes[unique_labels(a_test, a_pred)]\n",
    "    if normalize:\n",
    "        cm = cm.astype('float') / cm.sum(axis=1)[:, np.newaxis]\n",
    "        print(\"Normalized confusion matrix\")\n",
    "    else:\n",
    "        print('Confusion matrix')\n",
    "\n",
    "    print(cm)\n",
    "\n",
    "    fig, ax = plt.subplots()\n",
    "    im = ax.imshow(cm, interpolation='nearest', cmap=cmap)\n",
    "    ax.figure.colorbar(im, ax=ax)\n",
    "    ax.set(xticks=np.arange(cm.shape[1]),\n",
    "           yticks=np.arange(cm.shape[0]),\n",
    "           # ... and label them with the respective list entries\n",
    "           xticklabels=classes, yticklabels=classes,\n",
    "           title=title,\n",
    "           ylabel='True label',\n",
    "           xlabel='Predicted label')\n",
    "\n",
    "    \n",
    "    plt.setp(ax.get_xticklabels(), rotation=0, ha=\"right\",\n",
    "             rotation_mode=\"anchor\")\n",
    "\n",
    "    # Loop over data dimensions and create text annotations.\n",
    "    fmt = '.2f' if normalize else 'd'\n",
    "    thresh = cm.max() / 2.\n",
    "    for i in range(cm.shape[0]):\n",
    "        for j in range(cm.shape[1]):\n",
    "            ax.text(j, i, format(cm[i, j], fmt),\n",
    "                    ha=\"center\", va=\"center\",\n",
    "                    color=\"white\" if cm[i, j] > thresh else \"black\")\n",
    "    fig.tight_layout()\n",
    "    return ax\n",
    "\n",
    "\n",
    "np.set_printoptions(precision=2)\n",
    "\n",
    "# Plot non-normalized confusion matrix\n",
    "plot_confusion_matrix(y1_test, y_pred_DTC, classes=class_names,\n",
    "                      title='Confusion matrix Dedision Tree, without normalization')\n",
    "\n",
    "# Plot normalized confusion matrix\n",
    "#plot_confusion_matrix(y, y_pred, classes=class_names, normalize=True,\n",
    "#                      title='Normalized confusion matrix')\n",
    "\n",
    "plt.show()"
   ]
  },
  {
   "cell_type": "markdown",
   "metadata": {},
   "source": [
    "#### In this example above we can see that : \n",
    "\n",
    "#### Decision Tree algorithm finds the \"9s\" with an accuracy of 77% =614/(614+182)"
   ]
  },
  {
   "cell_type": "markdown",
   "metadata": {},
   "source": [
    "#### Lets plot the matrix for the other algorithms  \n",
    "\n",
    "#### Random Forest "
   ]
  },
  {
   "cell_type": "code",
   "execution_count": 91,
   "metadata": {},
   "outputs": [
    {
     "name": "stdout",
     "output_type": "stream",
     "text": [
      "Confusion matrix\n",
      "[[ 684  112]\n",
      " [  47 7097]]\n"
     ]
    },
    {
     "data": {
      "image/png": "[encoded data removed]",
      "text/plain": [
       "<Figure size 432x288 with 2 Axes>"
      ]
     },
     "metadata": {
      "needs_background": "light"
     },
     "output_type": "display_data"
    }
   ],
   "source": [
    "# Plot non-normalized confusion matrix\n",
    "\n",
    "plot_confusion_matrix(y1_test, y_pred_RFC, classes=class_names,\n",
    "                      title='Confusion matrix Random Forest,without normalization',\n",
    "                      cmap=plt.cm.Greens)\n",
    "plt.show()"
   ]
  },
  {
   "cell_type": "markdown",
   "metadata": {},
   "source": [
    "#### In this example we can see that : \n",
    "\n",
    "#### Random Forest algorithm finds the \"9s\" with an accuracy of 85.9% =684/(684+112)"
   ]
  },
  {
   "cell_type": "markdown",
   "metadata": {},
   "source": [
    "#### KNNeighborsClassifier for Minkowski= 1"
   ]
  },
  {
   "cell_type": "code",
   "execution_count": 30,
   "metadata": {},
   "outputs": [
    {
     "name": "stdout",
     "output_type": "stream",
     "text": [
      "Confusion matrix\n",
      "[[ 754   42]\n",
      " [  51 7093]]\n"
     ]
    },
    {
     "data": {
      "image/png": "[encoded data removed]",
      "text/plain": [
       "<Figure size 432x288 with 2 Axes>"
      ]
     },
     "metadata": {
      "needs_background": "light"
     },
     "output_type": "display_data"
    }
   ],
   "source": [
    "y_pred_KNN_1\n",
    "\n",
    "# Plot non-normalized confusion matrix\n",
    "\n",
    "plot_confusion_matrix(y1_test, y_pred_KNN_1, classes=class_names,\n",
    "                      title='Confusion matrix KNN p=1,without normalization',\n",
    "                      cmap=plt.cm.Oranges)\n",
    "plt.show()\n"
   ]
  },
  {
   "cell_type": "markdown",
   "metadata": {},
   "source": [
    "#### KNNeighborsClassifier for Minkowski= 1 finds the \"9s\" with an accuracy of 94.7% =754/(754+42)\n",
    "\n",
    "Thats pretty good ! \n"
   ]
  },
  {
   "cell_type": "markdown",
   "metadata": {},
   "source": [
    "## Find every single digits!\n",
    "\n",
    "\n",
    "1. First forget about the labels and run the k-means algorithm to ﬁnd whether there is an underlying patterns. So, ﬁrst ﬁnd the k clusters (here is obviously 10 clusters). Then look at their labels and ﬁnd the accuracy. By doing this you are turning a supervised learning into an unsupervised learning!\n",
    "2. Find the digits using K-Nearest neighbours for Minkowski metric of order (1, 2, 3).\n",
    "3. Find the digits using Decision tree.\n",
    "4. Find the digits using Random Forests.\n",
    "5. Comment on any signiﬁcant diﬀerence between your results for the binary classiﬁer vs multi-class classiﬁers.\n"
   ]
  },
  {
   "cell_type": "markdown",
   "metadata": {},
   "source": [
    "--------------------------------------------------------------------------\n",
    "\n",
    "### Clustering : Forget about labels and run KMeans to find underlying patterns \n",
    "\n",
    "The  process of finding meaningful groups in data is called Clustering. the objective here is not to predict a target class variable, but to capture the possible natural groupings in data \n",
    "\n",
    "\n",
    "k-means clustering aims to partition n observations into k clusters in which each observation belongs to the cluster with the nearest mean, serving as a prototype of the cluster.\n",
    "\n"
   ]
  },
  {
   "cell_type": "markdown",
   "metadata": {},
   "source": [
    "#### Import Libraries needed "
   ]
  },
  {
   "cell_type": "code",
   "execution_count": 87,
   "metadata": {},
   "outputs": [],
   "source": [
    "\n",
    "import pandas as pd\n",
    "import numpy as np\n",
    "from sklearn.cluster import KMeans\n",
    "from sklearn.preprocessing import LabelEncoder\n",
    "from sklearn.preprocessing import MinMaxScaler\n",
    "import seaborn as sns\n",
    "import matplotlib.pyplot as plt\n",
    "%matplotlib inline"
   ]
  },
  {
   "cell_type": "markdown",
   "metadata": {},
   "source": [
    "#### Lets run KMeans for 10 clusters "
   ]
  },
  {
   "cell_type": "markdown",
   "metadata": {},
   "source": [
    "Aplying feature reduction techniques would speed up the process, and also improve the results. These steps are important to follow because K-Means is sensitive to outliers, just like every other algo that uses average/mean values. Following these steps alleviate these issues."
   ]
  },
  {
   "cell_type": "code",
   "execution_count": 89,
   "metadata": {},
   "outputs": [],
   "source": [
    "y_pred_KMeans = KMeans(n_clusters=10, random_state=170).fit_predict(X)"
   ]
  },
  {
   "cell_type": "code",
   "execution_count": 124,
   "metadata": {},
   "outputs": [
    {
     "name": "stdout",
     "output_type": "stream",
     "text": [
      "Confusion matrix\n",
      "[[  32    3   26  834 2734  102    2    3    2  165]\n",
      " [   6    4    3    2    0    3 1940    2 2458    5]\n",
      " [ 140   42  124  120   26  104  249 2703  233  176]\n",
      " [ 585   25  121  335   15   26   30  106  276 2639]\n",
      " [   9 1184 2154   86    5  108  160   22  107    0]\n",
      " [ 516  134  237 1044   34   48  196    5  117 1248]\n",
      " [  12    2   45  745   55 2741   35   34  206   20]\n",
      " [  14 2474 1242    6   12    4  182   30  213    4]\n",
      " [2364  100  105  197   21   35  204   25  181  615]\n",
      " [  52 1555 2022   18   27   11   71    6  153   47]]\n"
     ]
    },
    {
     "data": {
      "image/png": "[encoded data removed]",
      "text/plain": [
       "<Figure size 432x288 with 2 Axes>"
      ]
     },
     "metadata": {
      "needs_background": "light"
     },
     "output_type": "display_data"
    }
   ],
   "source": [
    "# Plot non-normalized confusion matrix\n",
    "class_names_y=unique_labels(y)\n",
    "plot_confusion_matrix(y, y_pred_KMeans, classes=class_names_y,\n",
    "                      title='Confusion matrix KMeans 10 clusters',\n",
    "                      cmap=plt.cm.Greens)\n",
    "plt.show()"
   ]
  },
  {
   "cell_type": "markdown",
   "metadata": {},
   "source": [
    "#### As we can see above, the algorithm is not identifying clear patterns about the digits in the information \n",
    "#### Let's clean up the X data . There are some columns that do not add any information "
   ]
  },
  {
   "cell_type": "code",
   "execution_count": 102,
   "metadata": {},
   "outputs": [
    {
     "name": "stdout",
     "output_type": "stream",
     "text": [
      "These are no duplicate records  (0, 784)\n"
     ]
    }
   ],
   "source": [
    "# is there any duplicate \n",
    "extra = X[X.duplicated()]\n",
    "print(\"These are no duplicate records \",extra.shape)"
   ]
  },
  {
   "cell_type": "code",
   "execution_count": 95,
   "metadata": {},
   "outputs": [
    {
     "name": "stdout",
     "output_type": "stream",
     "text": [
      "Dropped columns: 77\n",
      "New shape of training dataset: (39700, 707)\n"
     ]
    }
   ],
   "source": [
    "# is there any fixed features ( pixel all 0 for the entire column )\n",
    "#Remove fixed features from our input dataset.\n",
    "\n",
    "# First we make a copy of X \n",
    "\n",
    "X_fr=X.copy()\n",
    "\n",
    "\n",
    "# we have to find a way to remember the dropped columns them later...just in case\n",
    "\n",
    "dropped_columns = []\n",
    "for column in X_fr.columns:\n",
    "## lets remove the \"pixel\" columns equal 0 as they dont add any information \n",
    "    if X_fr[column].max() == X_fr[column].min():\n",
    "        dropped_columns.append(column)   \n",
    "X_fr.drop(dropped_columns, axis = 1, inplace = True) \n",
    "print('Dropped columns:', len(dropped_columns))\n",
    "print('New shape of dataset:', X_fr.shape)"
   ]
  },
  {
   "cell_type": "code",
   "execution_count": 105,
   "metadata": {},
   "outputs": [],
   "source": [
    "Kmeans_fr = KMeans(n_clusters=10)\n",
    "y_pred_KMeans_fr=Kmeans_fr.fit_predict(X_fr)"
   ]
  },
  {
   "cell_type": "code",
   "execution_count": 97,
   "metadata": {},
   "outputs": [
    {
     "name": "stdout",
     "output_type": "stream",
     "text": [
      "Confusion matrix\n",
      "[[  32    3   26  834 2734  102    2    3    2  165]\n",
      " [   6    4    3    2    0    3 1940    2 2458    5]\n",
      " [ 140   42  124  120   26  104  249 2703  233  176]\n",
      " [ 585   25  121  335   15   26   30  106  276 2639]\n",
      " [   9 1184 2154   86    5  108  160   22  107    0]\n",
      " [ 516  134  237 1044   34   48  196    5  117 1248]\n",
      " [  12    2   45  745   55 2741   35   34  206   20]\n",
      " [  14 2474 1242    6   12    4  182   30  213    4]\n",
      " [2364  100  105  197   21   35  204   25  181  615]\n",
      " [  52 1555 2022   18   27   11   71    6  153   47]]\n"
     ]
    },
    {
     "data": {
      "image/png": "[encoded data removed]",
      "text/plain": [
       "<Figure size 432x288 with 2 Axes>"
      ]
     },
     "metadata": {
      "needs_background": "light"
     },
     "output_type": "display_data"
    }
   ],
   "source": [
    "# Plot non-normalized confusion matrix\n",
    "class_names_y=unique_labels(y)\n",
    "plot_confusion_matrix(y, y_pred_KMeans_fr, classes=class_names_y,\n",
    "                      title='Confusion matrix KMeans 10 clusters with fewer columns',\n",
    "                      cmap=plt.cm.Greens)\n",
    "plt.show()"
   ]
  },
  {
   "cell_type": "code",
   "execution_count": 122,
   "metadata": {},
   "outputs": [
    {
     "name": "stdout",
     "output_type": "stream",
     "text": [
      "25.94458438287154\n"
     ]
    }
   ],
   "source": [
    "correct = 0\n",
    "for i in range(len(X_fr)):\n",
    "    predict_me = X_fr.iloc[i].values\n",
    "    predict_me = predict_me.reshape(-1, len(predict_me))\n",
    "    prediction = Kmeans_fr.predict(predict_me)\n",
    "    if prediction[0] == y[i]:\n",
    "        correct += 1\n",
    "\n",
    "print(correct/len(X_fr)*100)"
   ]
  },
  {
   "cell_type": "markdown",
   "metadata": {},
   "source": [
    "The results are not very good 25.9% acurate .... \n",
    "\n",
    "We are going to scale the features to be between 0 and 1. It is possible that with the different variations of the pixels,  the scale can help improve the prediction\n"
   ]
  },
  {
   "cell_type": "code",
   "execution_count": 118,
   "metadata": {},
   "outputs": [
    {
     "name": "stderr",
     "output_type": "stream",
     "text": [
      "C:\\Users\\User\\Anaconda3\\lib\\site-packages\\ipykernel_launcher.py:5: DataConversionWarning: Data with input dtype int64 were all converted to float64 by the scale function.\n",
      "  \"\"\"\n"
     ]
    }
   ],
   "source": [
    "from sklearn import preprocessing\n",
    "X_fr_scaled = preprocessing.scale(X_fr)"
   ]
  },
  {
   "cell_type": "code",
   "execution_count": 119,
   "metadata": {},
   "outputs": [],
   "source": [
    "y_pred_KMeans_fr_scaled=Kmeans_fr.fit_predict(X_fr_scaled)"
   ]
  },
  {
   "cell_type": "code",
   "execution_count": 121,
   "metadata": {},
   "outputs": [
    {
     "name": "stdout",
     "output_type": "stream",
     "text": [
      "29.65491183879093\n"
     ]
    }
   ],
   "source": [
    "correct = 0\n",
    "for i in range(len(X_fr_scaled)):\n",
    "    if y_pred_KMeans_fr_scaled[i] == y[i]:\n",
    "        correct += 1\n",
    "\n",
    "print(correct/len(X_fr_scaled)*100)"
   ]
  },
  {
   "cell_type": "markdown",
   "metadata": {},
   "source": [
    "You can see an instant 4% increase in the score.\n",
    "\n",
    "k-means is sensitive to outliers and different results can occur if we change the ordering of the data\n",
    "\n",
    "Despite many possible improvements, it is rare to find a dataset in which k-means is competitive with more advanced machine learning techniques \n",
    "\n"
   ]
  },
  {
   "cell_type": "markdown",
   "metadata": {},
   "source": [
    "------------------------------------------------------------------------------------------------------------------------\n",
    "\n",
    "\n",
    "\n",
    "#### Now we are going to keep running the other algorithms as required in the assignment. \n",
    "\n",
    "1. Find the digits using K-Nearest neighbours for Minkowski metric of order (1, 2, 3)\n",
    "2. Find the digits using Decision tree.\n",
    "3. Find the digits using Random Forests.\n"
   ]
  },
  {
   "cell_type": "markdown",
   "metadata": {},
   "source": [
    "### Find the digits using Random Forest \n",
    "\n",
    "Now we need to run our models and train them in finding *ALL DIGITS* which is different to Problem 1 ( finding 9s among all other labels  ) \n",
    "\n",
    "\n",
    "Now, we are going to train our models on y ( which includes all the labels ) \n",
    "\n"
   ]
  },
  {
   "cell_type": "code",
   "execution_count": 26,
   "metadata": {},
   "outputs": [],
   "source": [
    "#split the data \n",
    "\n",
    "from sklearn.model_selection import train_test_split\n",
    "\n",
    "X_train, X_test, y_train, y_test = train_test_split(\n",
    "    X, y, test_size=0.2, random_state=1000\n",
    ")"
   ]
  },
  {
   "cell_type": "code",
   "execution_count": 28,
   "metadata": {},
   "outputs": [
    {
     "name": "stdout",
     "output_type": "stream",
     "text": [
      "Accuracy of our prediction 0.9375314861460957\n"
     ]
    }
   ],
   "source": [
    "# Run Random Forest classifer  \n",
    "\n",
    "RFC=RandomForestClassifier()\n",
    "RFC.fit(X_train,y_train)\n",
    "accuracy_RFC = RFC.score(X_test, y_test)\n",
    "print(\"Accuracy of our prediction\",accuracy_RFC)"
   ]
  },
  {
   "cell_type": "code",
   "execution_count": 29,
   "metadata": {},
   "outputs": [],
   "source": [
    "y_pred_RFC_all=RFC.predict(X_test)"
   ]
  },
  {
   "cell_type": "markdown",
   "metadata": {},
   "source": [
    "### Find the digits using Decision Tree \n",
    "\n",
    "With the previous data set ( including 2 labels ) we determined that a depth of 8 would maximize the accuracy of our tree. \n",
    "\n",
    "We are going to determine whats the best depth for the new labels ( all digits ) \n"
   ]
  },
  {
   "cell_type": "code",
   "execution_count": 35,
   "metadata": {},
   "outputs": [
    {
     "data": {
      "image/png": "[encoded data removed]",
      "text/plain": [
       "<Figure size 432x432 with 1 Axes>"
      ]
     },
     "metadata": {
      "needs_background": "light"
     },
     "output_type": "display_data"
    }
   ],
   "source": [
    "\n",
    "depth = np.linspace(1, 20, 20, endpoint=True)\n",
    "accuracy_our_DTC_AllDigits =[]\n",
    "\n",
    "for i in depth:\n",
    "    DCT_all = DecisionTreeClassifier(max_depth=i)\n",
    "    DCT_all.fit(X_train, y_train)\n",
    "    score_i = DCT_all.score(X_test, y_test)\n",
    "    accuracy_our_DTC_AllDigits.append(score_i)\n",
    "    \n",
    "fig = plt.figure(figsize=(6, 6))\n",
    "\n",
    "plt.plot(depth, accuracy_our_DTC_AllDigits)\n",
    "\n",
    "plt.xlabel(r\"Decision Tree Depth\", fontsize = 12)\n",
    "plt.ylabel(r\"Accuracy score All Digits\", fontsize = 12)\n",
    "\n",
    "plt.show()\n"
   ]
  },
  {
   "cell_type": "markdown",
   "metadata": {},
   "source": [
    "Now we are going to run our training data set with depth=10 "
   ]
  },
  {
   "cell_type": "code",
   "execution_count": 36,
   "metadata": {},
   "outputs": [
    {
     "name": "stdout",
     "output_type": "stream",
     "text": [
      "General Accuracy of Decision Tree Classifier ALL Digits: 0.8497481108312342\n"
     ]
    }
   ],
   "source": [
    "DCT_all = DecisionTreeClassifier(criterion=\"entropy\", max_depth=10)\n",
    "DCT_all = DCT_all.fit(X_train,y_train)\n",
    "accuracy_our_DTC_AllDigits = DCT_all.score(X_test, y_test)\n",
    "print(\"General Accuracy of Decision Tree Classifier ALL Digits:\",accuracy_our_DTC_AllDigits)"
   ]
  },
  {
   "cell_type": "markdown",
   "metadata": {},
   "source": [
    "### Find the digits using K-Nearest neighbors for Minkowski metric of order (1, 2, 3).¶\n",
    "\n",
    "Again, I couldn't run  Minkowski metric for p=3 all the other results are included in the paper \n"
   ]
  },
  {
   "cell_type": "code",
   "execution_count": 37,
   "metadata": {},
   "outputs": [
    {
     "data": {
      "text/plain": [
       "KNeighborsClassifier(algorithm='auto', leaf_size=30, metric='minkowski',\n",
       "           metric_params=None, n_jobs=None, n_neighbors=5, p=2,\n",
       "           weights='uniform')"
      ]
     },
     "execution_count": 37,
     "metadata": {},
     "output_type": "execute_result"
    }
   ],
   "source": [
    "KNN_1 = KNeighborsClassifier(n_neighbors=5, algorithm='auto', p=1, metric='minkowski')\n",
    "KNN_1.fit(X_train, y_train)\n",
    "\n",
    "KNN_2 = KNeighborsClassifier(n_neighbors=5, algorithm='auto', p=2, metric='minkowski')\n",
    "KNN_2.fit(X_train, y_train)\n",
    "\n",
    "\n",
    "#KNN_3 = KNeighborsClassifier(n_neighbors=5, algorithm='auto', p=3, metric='minkowski')\n",
    "#KNN_3.fit(X_train, y_train)"
   ]
  },
  {
   "cell_type": "code",
   "execution_count": 38,
   "metadata": {},
   "outputs": [
    {
     "name": "stdout",
     "output_type": "stream",
     "text": [
      "Accuracy Model KNN Minkowski with p=1 0.9565491183879093\n"
     ]
    }
   ],
   "source": [
    "scoreKNN_1=KNN_1.score(X_test, y_test)\n",
    "print(\"Accuracy Model KNN Minkowski with p=1\",scoreKNN_1)"
   ]
  },
  {
   "cell_type": "code",
   "execution_count": 139,
   "metadata": {},
   "outputs": [
    {
     "name": "stdout",
     "output_type": "stream",
     "text": [
      "Accuracy Model KNN Minkowski with p=1 0.9638539042821158\n"
     ]
    }
   ],
   "source": [
    "scoreKNN_2=KNN_2.score(X_test, y_test)\n",
    "print(\"Accuracy Model KNN Minkowski with p=2\",scoreKNN_2)"
   ]
  },
  {
   "cell_type": "code",
   "execution_count": null,
   "metadata": {},
   "outputs": [],
   "source": [
    "#scoreKNN_3=KNN_3.score(X_test, y_test)\n",
    "#print(\"Accuracy Model KNN Minkowski with p=3\",scoreKNN_3)"
   ]
  },
  {
   "cell_type": "markdown",
   "metadata": {},
   "source": [
    "-------------------------------------------------------------------------------\n",
    "\n",
    "\n",
    "### In summary, let's print the table with the results for each run\n"
   ]
  },
  {
   "cell_type": "code",
   "execution_count": 44,
   "metadata": {},
   "outputs": [
    {
     "data": {
      "text/html": [
       "<div>\n",
       "<style scoped>\n",
       "    .dataframe tbody tr th:only-of-type {\n",
       "        vertical-align: middle;\n",
       "    }\n",
       "\n",
       "    .dataframe tbody tr th {\n",
       "        vertical-align: top;\n",
       "    }\n",
       "\n",
       "    .dataframe thead th {\n",
       "        text-align: right;\n",
       "    }\n",
       "</style>\n",
       "<table border=\"1\" class=\"dataframe\">\n",
       "  <thead>\n",
       "    <tr style=\"text-align: right;\">\n",
       "      <th></th>\n",
       "      <th>Modelling Algorithm</th>\n",
       "      <th>Accuracy</th>\n",
       "    </tr>\n",
       "  </thead>\n",
       "  <tbody>\n",
       "    <tr>\n",
       "      <th>0</th>\n",
       "      <td>Decision Tree Classifier All Labels</td>\n",
       "      <td>84.97</td>\n",
       "    </tr>\n",
       "    <tr>\n",
       "      <th>1</th>\n",
       "      <td>RandomForestClassifier All labels</td>\n",
       "      <td>93.75</td>\n",
       "    </tr>\n",
       "    <tr>\n",
       "      <th>2</th>\n",
       "      <td>KNN Minkowski p=1 All Labels</td>\n",
       "      <td>95.65</td>\n",
       "    </tr>\n",
       "  </tbody>\n",
       "</table>\n",
       "</div>"
      ],
      "text/plain": [
       "                   Modelling Algorithm Accuracy\n",
       "0  Decision Tree Classifier All Labels    84.97\n",
       "1    RandomForestClassifier All labels    93.75\n",
       "2         KNN Minkowski p=1 All Labels    95.65"
      ]
     },
     "execution_count": 44,
     "metadata": {},
     "output_type": "execute_result"
    }
   ],
   "source": [
    "model_names=['Decision Tree Classifier All Labels',\n",
    "             'RandomForestClassifier All labels',\n",
    "             'KNN Minkowski p=1 All Labels'#,\n",
    "             #'KNN Minkowski p=2 2 Labels'\n",
    "            ]\n",
    "acc=[format(accuracy_our_DTC_AllDigits*100,'.2f'),format(accuracy_RFC*100,'.2f'),format(scoreKNN_1*100,'.2f')]\n",
    "d={}\n",
    "\n",
    "d={'Modelling Algorithm':model_names,'Accuracy':acc}\n",
    "acc_frame=pd.DataFrame(d)\n",
    "acc_frame\n",
    "\n"
   ]
  },
  {
   "cell_type": "markdown",
   "metadata": {},
   "source": [
    "\n",
    "-------------------------------------------------------------------------------------------------------------------------------\n",
    "\n",
    "\n",
    "------------------------------------------------------------------------------------------------------------------------------\n",
    "\n",
    "### Lastly,  let's comment on any signiﬁcant diﬀerence between the results for the binary classiﬁer vs multi-class classiﬁers.\n",
    "\n",
    "\n",
    "#### I am going to compare the accuracy of \"finding the 9s\" giving a multiclass vs. the binary classifier. \n"
   ]
  },
  {
   "cell_type": "code",
   "execution_count": 48,
   "metadata": {},
   "outputs": [
    {
     "name": "stdout",
     "output_type": "stream",
     "text": [
      "Confusion matrix\n",
      "[[723   1   3   8   3  15  10   4  11   9]\n",
      " [  0 842   7   3   0   3   8   6  10   5]\n",
      " [ 12  12 626  25  10   6  14  32  27  10]\n",
      " [  8   7  26 695   3  52   2  12  21  22]\n",
      " [  7   4  12   9 623   7  14   9  11  66]\n",
      " [ 21   8   6  49  11 549  20   7  28  15]\n",
      " [ 16   6  18   4  21  12 694   4   6   3]\n",
      " [  3  13  20  15   8   2   0 751   4  27]\n",
      " [ 10  18  11  41  10  15  18  14 591  20]\n",
      " [  4   5   7  13  28  14   6  36  30 653]]\n"
     ]
    },
    {
     "data": {
      "image/png": "[encoded data removed]",
      "text/plain": [
       "<Figure size 432x288 with 2 Axes>"
      ]
     },
     "metadata": {
      "needs_background": "light"
     },
     "output_type": "display_data"
    }
   ],
   "source": [
    "#y_pred_DTC_all=DCT_all.predict(X_test)\n",
    "class_names = unique_labels(y_test)\n",
    "plot_confusion_matrix(y_test, y_pred_DTC_all, classes=class_names,\n",
    "                      title='Confusion matrix Decision tree,without normalization',\n",
    "                      cmap=plt.cm.Blues)\n",
    "plt.show()"
   ]
  },
  {
   "cell_type": "code",
   "execution_count": 33,
   "metadata": {},
   "outputs": [
    {
     "name": "stdout",
     "output_type": "stream",
     "text": [
      "Confusion matrix\n",
      "[[766   0   4   0   3   2   5   1   4   2]\n",
      " [  0 871   3   3   3   0   0   1   2   1]\n",
      " [  4   5 725  10   5   0   6   4  11   4]\n",
      " [  3   4  19 773   3  19   1   5  16   5]\n",
      " [  1   1   5   3 717   4   3   1   3  24]\n",
      " [  8   0   2  37   4 647   7   0   6   3]\n",
      " [  8   1   1   0   3  10 757   1   3   0]\n",
      " [  1   3   7   0  17   4   0 796   2  13]\n",
      " [  5   5  12  17  10  16   2   8 667   6]\n",
      " [  6   3   4   5  18   7   2  16  10 725]]\n"
     ]
    },
    {
     "data": {
      "image/png": "[encoded data removed]",
      "text/plain": [
       "<Figure size 432x288 with 2 Axes>"
      ]
     },
     "metadata": {
      "needs_background": "light"
     },
     "output_type": "display_data"
    }
   ],
   "source": [
    "class_names = unique_labels(y_test)\n",
    "plot_confusion_matrix(y_test, y_pred_RFC_all, classes=class_names,\n",
    "                      title='Confusion matrix Random Forest,without normalization',\n",
    "                      cmap=plt.cm.Greens)\n",
    "plt.show()"
   ]
  },
  {
   "cell_type": "code",
   "execution_count": 49,
   "metadata": {},
   "outputs": [
    {
     "name": "stdout",
     "output_type": "stream",
     "text": [
      "Confusion matrix\n",
      "[[780   0   3   0   0   2   0   1   0   1]\n",
      " [  0 883   1   0   0   0   0   0   0   0]\n",
      " [  7  21 723   1   0   0   1  18   2   1]\n",
      " [  3   8   7 801   0  13   1   5   9   1]\n",
      " [  0   9   0   0 729   0   2   0   0  22]\n",
      " [  1   1   1  16   0 674  14   3   1   3]\n",
      " [  4   2   0   0   1   3 774   0   0   0]\n",
      " [  1  10   1   0   0   0   0 818   0  13]\n",
      " [  6  16   4  16   5  23   5   4 659  10]\n",
      " [  4   6   1   6   4   2   1  17   1 754]]\n"
     ]
    },
    {
     "data": {
      "image/png": "[encoded data removed]",
      "text/plain": [
       "<Figure size 432x288 with 2 Axes>"
      ]
     },
     "metadata": {
      "needs_background": "light"
     },
     "output_type": "display_data"
    }
   ],
   "source": [
    "#y_pred_KNN_1=KNN_1.predict(X_test)\n",
    "class_names = unique_labels(y_test)\n",
    "plot_confusion_matrix(y_test, y_pred_KNN_1, classes=class_names,\n",
    "                      title='Confusion matrix KNN 1 ,without normalization',\n",
    "                      cmap=plt.cm.Oranges)\n",
    "plt.show()"
   ]
  },
  {
   "attachments": {},
   "cell_type": "markdown",
   "metadata": {},
   "source": [
    "\n",
    "#### The intuition could point us to think that a binary classifier would perform better than a multi-class in labelling the rigth category, and in general, for finding the right label - it is true. \n",
    "\n",
    "\n",
    "\n",
    "\n",
    "![accuracy_multiclass.png](./markdowns/accuracy_multiclass.png)\n",
    "\n",
    "\n",
    "\n",
    "![accuracy_binary.PNG](./markdowns/accuracy_binary.PNG)\n",
    "\n",
    "#### However, the probability of labeling 9s correctly using Random Forest as a multiclass classifier is 91.1%, whereas with the binary classifier, we found that it was only 85.9% accurate in correctly finding 9s \n",
    "\n",
    "#### the probability of labeling 9s correctly using Decision Tree as a multiclass classifier is 82%, whereas with the binary classifier, we found it was only 77% accurate in correctly finding 9s \n",
    "\n",
    "#### Finally, the probability of labeling 9s correctly using KNN1 as a multiclass classifier is 94.7%, which is exaclty the same as the binary classifier. \n",
    "\n",
    "\n"
   ]
  },
  {
   "cell_type": "code",
   "execution_count": null,
   "metadata": {},
   "outputs": [],
   "source": []
  }
 ],
 "metadata": {
  "kernelspec": {
   "display_name": "Python 3",
   "language": "python",
   "name": "python3"
  },
  "language_info": {
   "codemirror_mode": {
    "name": "ipython",
    "version": 3
   },
   "file_extension": ".py",
   "mimetype": "text/x-python",
   "name": "python",
   "nbconvert_exporter": "python",
   "pygments_lexer": "ipython3",
   "version": "3.7.1"
  }
 },
 "nbformat": 4,
 "nbformat_minor": 2
}
