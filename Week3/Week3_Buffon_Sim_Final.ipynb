{
 "cells": [
  {
   "cell_type": "markdown",
   "metadata": {},
   "source": [
    "# Very Good!\n",
    "# Grade 100/100"
   ]
  },
  {
   "cell_type": "markdown",
   "metadata": {},
   "source": [
    "## Find the π again!\n",
    "In the week3 course, we discussed how can we ﬁnd the π by just sampling random data points on a square and how to just ﬁnd the ratio of points inside a circle to total number of generate points. In this week you are going to ﬁnd the π through solving the Buﬀon’s needle problem:\n",
    "\n",
    "Let the needle length be L and the strip width be T. \n",
    "There are two random variables that will determine this probability let’s say our random variables are θ which is the angle of the needle from the direction of strips and x which is the x-position of the needles center from the nearest line (this is the one we care each time we drop the needle). \n",
    "\n",
    "\n",
    "when L<T => the probability to cross the needle is given by the formula \n",
    "\n",
    "${ProbCross}=\\frac{2L}{T}{\\pi}$ \n",
    "\n",
    "\n",
    "therefore, the probability of not crossing and therefore, for the needle to land fully on a single shade/color.is \n",
    "\n",
    "${ProbNotCross}$ = 1 - $\\frac{2L}{T}{\\pi}$ \n",
    "\n",
    "\n",
    " \n"
   ]
  },
  {
   "cell_type": "markdown",
   "metadata": {},
   "source": [
    "### 1. Find the probability for the case of L > T"
   ]
  },
  {
   "cell_type": "markdown",
   "metadata": {},
   "source": [
    "When the needle is long there is a little bit more complex geometry as, at certain angles, the needle will cross an edge from any position of the midpoint. \n",
    "\n",
    "The solution space is larger now ( *${T{\\pi}}$* ) and there are more probabilities for a longer needle to cross the strip \n",
    " \n",
    "The equation below shows the probability for L>T based on the length of the needle and width of the boards.\n",
    "\n",
    "\n",
    "\n",
    "\n",
    "\n",
    "\n",
    "$$PrCross = \\frac{2}{\\pi}{\\cos^{-1}(\\frac{T}{L}}) + \\frac{2L}{{\\pi}T}(1-\\sqrt{(1-(\\frac{T}{L})^{2}}))$$\n",
    "\n",
    "If we define $  {x}=\\frac{L}{T}  $ as the ratio of the lenght of the needle to the width of the board and normalize it, we get:\n",
    "\n",
    "\n",
    "$$PrCross = \\frac{2}{\\pi}({x}-\\sqrt{x^{2}-1} + {\\sec^{-1}x})$$\n",
    "\n",
    "\n",
    "Again, the probability of land fully within a board is the conjugate of this\n",
    "\n",
    "${ProbNotCross} = 1 - {PrCross}$"
   ]
  },
  {
   "cell_type": "markdown",
   "metadata": {},
   "source": [
    "\n",
    "## Numerical Simulation : \n",
    "\n",
    "#### 2. Find the probability using Monte Carlo simulation for l < t, for the general case and ﬁnd the value of the π using some special case (e.g. l = 2, and t = 3)\n",
    "\n",
    "\n",
    "\n",
    "First, we are going to do the general case\n"
   ]
  },
  {
   "cell_type": "markdown",
   "metadata": {},
   "source": [
    "For the general case, we are going to :\n",
    "\n",
    "First calculate the probability of crossing vs. not crossing using the formula above for L<T $  {\\pi}=\\frac{2l}{Pt}  $ and generate random variables for l ( length of the needle ) and t ( distance between strips ) \n",
    "\n",
    " "
   ]
  },
  {
   "cell_type": "code",
   "execution_count": 1,
   "metadata": {},
   "outputs": [
    {
     "name": "stdout",
     "output_type": "stream",
     "text": [
      "distance board=  17\n",
      "length needle=  13\n",
      "P(crossing l<t)= 0.48682688475167984\n",
      "P(not crossing l<t)= 0.5131731152483201\n"
     ]
    }
   ],
   "source": [
    "import random\n",
    "import math \n",
    "\n",
    "T = random.randint(1,20)\n",
    "L = random.randint(0,T-1) # to comply with L<T\n",
    "\n",
    "\n",
    "crossing =(2*L)/(T*math.pi)\n",
    "not_crossing=1-((2*L)/(T*math.pi))\n",
    "\n",
    "print(\"distance board= \", T)\n",
    "print(\"length needle= \",L)\n",
    "print(\"P(crossing l<t)=\", crossing)\n",
    "print(\"P(not crossing l<t)=\",not_crossing)"
   ]
  },
  {
   "cell_type": "markdown",
   "metadata": {},
   "source": [
    "Using Montecarlo simulation , create a function *pi_estimate* that will take the lenght of the needle and distance. \n",
    "This function will generate 1 angle for each needle and will clasiffy the needle in 2 buckets  \n",
    "   * Crossing\n",
    "   * Not crossing \n",
    "\n",
    "\n",
    "Then the function will count the # of needles crossing and will estimate PI based on the total number of needles that      crossed  "
   ]
  },
  {
   "cell_type": "code",
   "execution_count": 2,
   "metadata": {},
   "outputs": [],
   "source": [
    "import random\n",
    "import math \n",
    "\n",
    "def pi_estimate(r,n,T,L):\n",
    "    data = []  \n",
    "    for sim in range(r): #number of times we run the sim\n",
    "        cross = 0\n",
    "        for i in range(n):#number of needles we throw\n",
    "            center = random.uniform(0, T / 2.0) \n",
    "            theta = random.uniform(0, math.pi / 2)\n",
    "            criteria = center - (L / 2.0) * math.cos(theta)  \n",
    "            if criteria < 0: # if the difference of distance is < than 0 then is crossing the strip\n",
    "                cross+= 1\n",
    "        pi = (2.0 * L * n)/(T * cross)\n",
    "        prob_cross=cross/n\n",
    "        data.append([sim,cross,prob_cross,pi])\n",
    "    return data\n",
    "\n",
    "\n"
   ]
  },
  {
   "cell_type": "code",
   "execution_count": 3,
   "metadata": {},
   "outputs": [
    {
     "name": "stdout",
     "output_type": "stream",
     "text": [
      "Width of the board :  17\n",
      "Lenght of the needle :  13\n",
      "[Runs],[Cross],[Prob_cross] ,[pi]\n"
     ]
    },
    {
     "data": {
      "text/plain": [
       "[[0, 1943, 0.48575, 3.1485574157609517],\n",
       " [1, 1974, 0.4935, 3.09911198521962],\n",
       " [2, 1919, 0.47975, 3.1879348925604636],\n",
       " [3, 1918, 0.4795, 3.189597006685886],\n",
       " [4, 1905, 0.47625, 3.211363285471669],\n",
       " [5, 1846, 0.4615, 3.3140016570008286],\n",
       " [6, 1920, 0.48, 3.1862745098039214],\n",
       " [7, 1927, 0.48175, 3.1747000824200984],\n",
       " [8, 1954, 0.4885, 3.130832681076525],\n",
       " [9, 1978, 0.4945, 3.0928448224588116]]"
      ]
     },
     "execution_count": 3,
     "metadata": {},
     "output_type": "execute_result"
    }
   ],
   "source": [
    "r = 10   # number of times we run the simulation\n",
    "n = 4000 # number of needles thrown each time \n",
    "\n",
    "print(\"Width of the board : \",T)\n",
    "print(\"Lenght of the needle : \", L)\n",
    "print ('[Runs],[Cross],[Prob_cross] ,[pi]')\n",
    "\n",
    "\n",
    "pi_estimate(r,n,T,L)"
   ]
  },
  {
   "cell_type": "markdown",
   "metadata": {},
   "source": [
    "Now, we are gonig to run the simulation for special case like l=2 and t=3 "
   ]
  },
  {
   "cell_type": "code",
   "execution_count": 4,
   "metadata": {},
   "outputs": [
    {
     "name": "stdout",
     "output_type": "stream",
     "text": [
      "[Runs] [Crossing] [pi] for l=2 and t=3\n"
     ]
    },
    {
     "data": {
      "text/plain": [
       "[[0, 1762, 0.4405, 3.026863412788498],\n",
       " [1, 1659, 0.41475, 3.2147880249146072],\n",
       " [2, 1646, 0.4115, 3.240178209801539],\n",
       " [3, 1667, 0.41675, 3.1993601279744053],\n",
       " [4, 1722, 0.4305, 3.097173828881146],\n",
       " [5, 1704, 0.426, 3.1298904538341157],\n",
       " [6, 1731, 0.43275, 3.0810706720585403],\n",
       " [7, 1724, 0.431, 3.0935808197989174],\n",
       " [8, 1721, 0.43025, 3.0989734650397054],\n",
       " [9, 1643, 0.41075, 3.2460945425035503]]"
      ]
     },
     "execution_count": 4,
     "metadata": {},
     "output_type": "execute_result"
    }
   ],
   "source": [
    "print ('[Runs] [Crossing] [pi] for l=2 and t=3')\n",
    "pi_estimate(r,n,3,2)"
   ]
  },
  {
   "cell_type": "markdown",
   "metadata": {},
   "source": [
    "\n",
    "==============================================================================\n",
    "\n",
    "#### 3. Find the probability using Monte Carlo simulation (L > T) for the general case. \n",
    "#### From the probability formula we found for L < T, the probability is linear with L/T.\n"
   ]
  },
  {
   "cell_type": "markdown",
   "metadata": {},
   "source": [
    "Lets apply the formula of the probability first and then, we will build the Montecarlo simulation to review the results for several runs. "
   ]
  },
  {
   "cell_type": "markdown",
   "metadata": {},
   "source": [
    "\n",
    "\n",
    "If we define $  {x}=\\frac{L}{T}  $ as the ratio of the lenght of the needle to the width of the board and normalize it, we get:\n",
    "\n",
    "\n",
    "$$Pr = \\frac{2}{\\pi}({x}-\\sqrt{x^{2}-1} + {\\sec^{-1}x})$$\n",
    "\n"
   ]
  },
  {
   "cell_type": "code",
   "execution_count": 5,
   "metadata": {},
   "outputs": [
    {
     "name": "stdout",
     "output_type": "stream",
     "text": [
      "Width of the board :  1\n",
      "Lenght of the needle :  13\n",
      "P(crossing l> t)= 0.975502528993647\n",
      "P(not crossing l> t)= 0.0244974710063534\n"
     ]
    }
   ],
   "source": [
    "import random\n",
    "import math \n",
    "import mpmath\n",
    "import numpy as np\n",
    "\n",
    "## If T<L\n",
    "\n",
    "TT = random.randint(1,20)\n",
    "LL = random.randint(TT+1,40) \n",
    "\n",
    "print(\"Width of the board : \",TT)\n",
    "print(\"Lenght of the needle : \",LL)\n",
    "\n",
    "\n",
    "x=LL/TT\n",
    "\n",
    "crossing =(2/math.pi)*(x-np.sqrt(x**2 -1)+mpmath.asec(x))\n",
    "not_crossing =1-crossing\n",
    "\n",
    "print(\"P(crossing l> t)=\", crossing)\n",
    "print(\"P(not crossing l> t)=\",not_crossing) \n"
   ]
  },
  {
   "cell_type": "markdown",
   "metadata": {},
   "source": [
    "=============================================================================\n",
    "\n",
    "\n",
    "\n",
    "Now, we are gonig to write a Montecarlo simulation for long needle. \n",
    "When the needle is longer, the probability of crossing the lines will be higher\n",
    "\n",
    "Let ${\\theta}$ denote the angle between the needle and this parallel line, \n",
    "and lets again denote x as the distance of the midpoint of the needle from the \n",
    "nearest parallel line\n",
    "\n",
    "Then is easy to see that :\n",
    "\n",
    "If ${0}\\leq{x}\\leq\\frac{d}{2}$ and ${0}\\leq{\\theta}\\leq{\\pi}$ and \n",
    "\n",
    "when we throw a needle  ${(x,\\theta)}$ with these characteristics, the needle is going to cross the board. \n",
    "\n",
    "\n",
    "I am going to create some random variables the angle/center of the needle again and build the function to give me the number of crossing assuming those conditions. \n"
   ]
  },
  {
   "cell_type": "code",
   "execution_count": 6,
   "metadata": {},
   "outputs": [
    {
     "name": "stdout",
     "output_type": "stream",
     "text": [
      "wide of the board  1\n",
      "lenght of the needle  13\n",
      "[Runs] [Crossing] [Prob]\n"
     ]
    },
    {
     "data": {
      "text/plain": [
       "[[0, 3907, 0.97675],\n",
       " [1, 3909, 0.97725],\n",
       " [2, 3905, 0.97625],\n",
       " [3, 3905, 0.97625],\n",
       " [4, 3896, 0.974],\n",
       " [5, 3924, 0.981],\n",
       " [6, 3891, 0.97275],\n",
       " [7, 3894, 0.9735],\n",
       " [8, 3918, 0.9795],\n",
       " [9, 3908, 0.977]]"
      ]
     },
     "execution_count": 6,
     "metadata": {},
     "output_type": "execute_result"
    }
   ],
   "source": [
    "def prob_cross_long(r,n,TT,LL):\n",
    "    data_long = []  \n",
    "    for sim in range(r): #number of times we run the sim\n",
    "        cross = 0\n",
    "        for i in range(n):#number of needles we throw\n",
    "            center = random.uniform(0, TT / 2.0) \n",
    "            theta = random.uniform(0, math.pi) \n",
    "            criteria = center -(LL/2) * math.sin(theta) \n",
    "            if criteria <=0:  # if the difference of distance is > than 1 then is crossing the strip\n",
    "                cross+= 1\n",
    "        data_long.append([sim,cross,cross/n])\n",
    "    return data_long\n",
    "print(\"wide of the board \", TT)\n",
    "print(\"lenght of the needle \", LL)\n",
    "print ('[Runs] [Crossing] [Prob]')\n",
    "prob_cross_long(r,n,TT,LL)"
   ]
  },
  {
   "cell_type": "markdown",
   "metadata": {},
   "source": [
    "As we can see, the prob of crossing is similar to what we generate using the equation. "
   ]
  },
  {
   "cell_type": "markdown",
   "metadata": {},
   "source": [
    "#### 4. After writing your general code in Part 3 plot the Probability vs l/t ratio. *Hint: You need to run the simulations for diﬀerent values of (l/t)*\n"
   ]
  },
  {
   "cell_type": "code",
   "execution_count": 7,
   "metadata": {},
   "outputs": [],
   "source": [
    "import matplotlib.pyplot as plt\n",
    "import mpmath\n",
    "import math"
   ]
  },
  {
   "cell_type": "markdown",
   "metadata": {},
   "source": [
    "# Abtin:\n",
    "You should use plt.scatter since you are using a for loop for every point"
   ]
  },
  {
   "cell_type": "code",
   "execution_count": 13,
   "metadata": {},
   "outputs": [
    {
     "data": {
      "image/png": "[encoded data removed]",
      "text/plain": [
       "<Figure size 432x288 with 1 Axes>"
      ]
     },
     "metadata": {
      "needs_background": "light"
     },
     "output_type": "display_data"
    }
   ],
   "source": [
    "xx = np.linspace(0, 10, 1000) #xx=l/t ( which is >1 )\n",
    "for i in xx:\n",
    "    if i<=1:\n",
    "        crossing=(2*i/math.pi)\n",
    "    if i>1 :\n",
    "        crossing =(2/math.pi)*(i-np.sqrt(i**2 -1)+mpmath.asec(i))\n",
    "    plt.scatter(i,crossing, marker=\".\", c=\"b\")\n",
    "plt.show()"
   ]
  },
  {
   "attachments": {
    "PlotProbabilityNeedle.png": {
     "image/png": "[encoded data removed]"
    }
   },
   "cell_type": "markdown",
   "metadata": {},
   "source": [
    "### Note for Abtin.\n",
    "\n",
    "The chart above should look like this  - I couldnt figure out the code in Python but please find below some interpretation of the results. \n",
    "\n",
    "![PlotProbabilityNeedle](./markdowns_week3/PlotProbabilityNeedle.png) \n",
    "\n",
    "\n",
    "\n",
    "\n",
    "1. When the needle is shorter than the distance between boards, the probability linearly changes with the ratio of the length. \n",
    "2. When the needle is long, the probability asymptotes to near certainty as the the needle gets infintely longer compared to the width of the board.\n"
   ]
  },
  {
   "cell_type": "code",
   "execution_count": null,
   "metadata": {},
   "outputs": [],
   "source": []
  }
 ],
 "metadata": {
  "kernelspec": {
   "display_name": "Python 3",
   "language": "python",
   "name": "python3"
  },
  "language_info": {
   "codemirror_mode": {
    "name": "ipython",
    "version": 3
   },
   "file_extension": ".py",
   "mimetype": "text/x-python",
   "name": "python",
   "nbconvert_exporter": "python",
   "pygments_lexer": "ipython3",
   "version": "3.7.3"
  }
 },
 "nbformat": 4,
 "nbformat_minor": 2
}
