{
 "cells": [
  {
   "cell_type": "markdown",
   "metadata": {},
   "source": []
  },
  {
   "cell_type": "code",
   "execution_count": 79,
   "metadata": {},
   "outputs": [
    {
     "name": "stdout",
     "output_type": "stream",
     "text": [
      "center of needle 0.19007374108117792\n",
      "acute angle of needle 0.3893244962261725\n",
      "criteria for staying/crossing -0.7350919264453176\n"
     ]
    }
   ],
   "source": [
    "\n",
    "import random\n",
    "import math\n",
    "\n",
    "\n",
    "r = 5   # number of times we run the simulation\n",
    "n = 4000 # number of needles thrown each time \n",
    "\n",
    "##this is the specific case L<T\n",
    "\n",
    "L = 2  # needle lenght 2 inches -random.uniform(0,T) - to comply with L<T\n",
    "T = 2  # strip width -random.int(1,20)\n",
    "\n",
    "\n",
    "## define the center and theta \n",
    "\n",
    "center = random.uniform(0, T / 2.0)\n",
    "theta = random.uniform(0, math.pi / 2)\n",
    "\n",
    "print(\"center of needle\",center) \n",
    "print(\"acute angle of needle\",theta)\n",
    "\n",
    "##define the criteria for crossing the strip or staying within the strip\n",
    "criteria = center - (L / 2.0) * math.cos(theta) \n",
    "print(\"criteria for staying/crossing\",criteria)\n",
    "\n"
   ]
  },
  {
   "cell_type": "markdown",
   "metadata": {},
   "source": [
    "#### Now we organize everything inside a loop to estimate PI\n",
    "\n"
   ]
  },
  {
   "cell_type": "code",
   "execution_count": 88,
   "metadata": {},
   "outputs": [
    {
     "data": {
      "text/plain": [
       "[[0, 634, 3.1545741324921135],\n",
       " [1, 623, 3.2102728731942216],\n",
       " [2, 629, 3.179650238473768],\n",
       " [3, 627, 3.189792663476874],\n",
       " [4, 662, 3.0211480362537766]]"
      ]
     },
     "execution_count": 88,
     "metadata": {},
     "output_type": "execute_result"
    }
   ],
   "source": [
    "r = 5   # number of times we run the simulation\n",
    "n = 1000 # number of needles thrown each time \n",
    "data = []    \n",
    "for sim in range(r): #number of times we run the sim\n",
    "    cross = 0\n",
    "    for i in range(n):#number of needles we throw\n",
    "        center = random.uniform(0, T / 2.0)\n",
    "        theta = random.uniform(0, math.pi / 2)\n",
    "        criteria = center - (L / 2.0) * math.cos(theta)  \n",
    "        if criteria < 0: # if the difference of distance is < than 0 then is crossing the strip\n",
    "            cross+= 1\n",
    "    num = 2.0 * L * n\n",
    "    denom = T * cross\n",
    "    data.append([sim,cross,num/denom])\n",
    "\n",
    "data\n",
    "        "
   ]
  },
  {
   "cell_type": "code",
   "execution_count": null,
   "metadata": {},
   "outputs": [],
   "source": []
  },
  {
   "cell_type": "code",
   "execution_count": null,
   "metadata": {},
   "outputs": [],
   "source": []
  },
  {
   "cell_type": "code",
   "execution_count": null,
   "metadata": {},
   "outputs": [],
   "source": []
  }
 ],
 "metadata": {
  "kernelspec": {
   "display_name": "Python 3",
   "language": "python",
   "name": "python3"
  },
  "language_info": {
   "codemirror_mode": {
    "name": "ipython",
    "version": 3
   },
   "file_extension": ".py",
   "mimetype": "text/x-python",
   "name": "python",
   "nbconvert_exporter": "python",
   "pygments_lexer": "ipython3",
   "version": "3.7.3"
  }
 },
 "nbformat": 4,
 "nbformat_minor": 2
}
