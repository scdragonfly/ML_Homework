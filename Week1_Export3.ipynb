{
 "cells": [
  {
   "cell_type": "markdown",
   "metadata": {},
   "source": [
    "# Grade: 70/100"
   ]
  },
  {
   "cell_type": "markdown",
   "metadata": {},
   "source": [
    "## Problem 1: Python programming \n",
    "##### Recursive Fibonacci Function "
   ]
  },
  {
   "cell_type": "code",
   "execution_count": 1,
   "metadata": {},
   "outputs": [
    {
     "name": "stdout",
     "output_type": "stream",
     "text": [
      "1\n",
      "1\n",
      "2\n",
      "3\n",
      "5\n",
      "8\n",
      "13\n",
      "21\n",
      "34\n",
      "55\n"
     ]
    }
   ],
   "source": [
    "def Fib_rec(n=0):\n",
    "    if n==0:\n",
    "        return 1\n",
    "    elif n==1:\n",
    "        return 1\n",
    "    else:\n",
    "        return Fib_rec(n-1)+Fib_rec(n-2)\n",
    "    \n",
    "for i in range(0,10,1):\n",
    "    print(Fib_rec(i))"
   ]
  },
  {
   "cell_type": "markdown",
   "metadata": {},
   "source": [
    "##### Part 1 -  Rewrite the Fibonacci Function using a for loop \n"
   ]
  },
  {
   "cell_type": "code",
   "execution_count": 2,
   "metadata": {},
   "outputs": [
    {
     "name": "stdout",
     "output_type": "stream",
     "text": [
      "1\n",
      "1\n",
      "2\n",
      "3\n",
      "5\n",
      "8\n",
      "13\n",
      "21\n",
      "34\n",
      "55\n"
     ]
    }
   ],
   "source": [
    "def fib_for(n):\n",
    "    x,y=1,1\n",
    "    for i in range(n-1):\n",
    "        x,y=y,x+y\n",
    "    return x\n",
    "for i in range(1,11):\n",
    "    print (fib_for(i))"
   ]
  },
  {
   "cell_type": "markdown",
   "metadata": {},
   "source": [
    "\n",
    "##### Part 2 : Which function is actually faster? (Explain without running the codes)\n"
   ]
  },
  {
   "cell_type": "markdown",
   "metadata": {},
   "source": [
    "##### Part 3 Run the Fibonacci function k times for the input of n and return the average \n",
    "\n"
   ]
  },
  {
   "cell_type": "code",
   "execution_count": 3,
   "metadata": {},
   "outputs": [
    {
     "name": "stdout",
     "output_type": "stream",
     "text": [
      "iteration  1\n",
      "fibonacci loop  00:01\n",
      "iteration  2\n",
      "fibonacci loop  00:03\n",
      "iteration  3\n",
      "fibonacci loop  00:05\n",
      "iteration  4\n",
      "fibonacci loop  00:06\n",
      "iteration  5\n",
      "fibonacci loop  00:08\n",
      "iteration  6\n",
      "fibonacci loop  00:10\n",
      "iteration  7\n",
      "fibonacci loop  00:12\n",
      "iteration  8\n",
      "fibonacci loop  00:13\n",
      "iteration  9\n",
      "fibonacci loop  00:15\n"
     ]
    }
   ],
   "source": [
    "## Run the Fib with a for loop and record the times for each iteration\n",
    "## I run it with k=10\n",
    "from _datetime import datetime\n",
    "a = datetime.now()\n",
    "def fib_for(n):\n",
    "        x, y = 1, 1\n",
    "        for i in range(n - 1):\n",
    "            x, y = y, x + y\n",
    "        return x\n",
    "for k in range(1,10):\n",
    "    for i in range(1,  1000000):\n",
    "        # print(fib_for(i))\n",
    "        b = datetime.now()\n",
    "        #delta = b-a\n",
    "        deltastr=str(str( b-a).split('.')[0])[-5:]\n",
    "    print(\"iteration \",k)\n",
    "    print(\"fibonacci loop \",deltastr)\n"
   ]
  },
  {
   "cell_type": "markdown",
   "metadata": {},
   "source": [
    " ##### Part 4: Make a plot in which the x-axis is the value of the input function n and the y-axis is the average time (output of the previous function), for both recursive and nonrecursive Fibonacci. (Both in the same plot; also use matplotlib package for making the plots)\n"
   ]
  },
  {
   "cell_type": "code",
   "execution_count": 26,
   "metadata": {},
   "outputs": [],
   "source": [
    "from _datetime import datetime\n",
    "from matplotlib import pyplot as plt\n",
    "\n",
    "# a_rec = datetime.now()\n",
    "# time_y_rec = []\n",
    "# axis_x_rec=[]\n",
    "def Fib_rec(n=0):\n",
    "    if n==0:\n",
    "        return 1\n",
    "    elif n==1:\n",
    "        return 1\n",
    "    else:\n",
    "        return Fib_rec(n-1)+Fib_rec(n-2)\n",
    "    \n",
    "# for j in range(1,11):\n",
    "#     for i in range(1,  1000000):\n",
    "#         # print(fib_for(i))\n",
    "#         b_rec = datetime.now()\n",
    "#         #delta_rec = b-a\n",
    "#         deltastr_rec=str(str( b_rec-a_rec).split('.')[0])[-5:]\n",
    "\n",
    "#     time_y_rec.append(deltastr_rec)\n",
    "#     axis_x_rec.append(j)\n",
    "#     #print(\"iteration \",j)\n",
    "#    # print(\"fibonacci loop \",deltastr)\n",
    "# print('Seconds for k=10 iterations Recursive',time_y_rec)\n",
    "# print('number of iterations ',axis_x_rec)\n",
    "\n",
    "# a_for = datetime.now()\n",
    "# time_y_for = []\n",
    "# axis_x_for=[]\n",
    "\n",
    "def fib_for(n):\n",
    "        x, y = 1, 1\n",
    "        for i in range(n - 1):\n",
    "            x, y = y, x + y\n",
    "        return x\n",
    "    \n",
    "    \n",
    "    \n",
    "# for j in range(1,11):\n",
    "#     for i in range(1,  1000000):\n",
    "#         # print(fib_for(i))\n",
    "#         b_for = datetime.now()\n",
    "#         #delta_for = b-a\n",
    "#         deltastr_for=str(str( b_for-a_for).split('.')[0])[-5:]\n",
    "\n",
    "#     time_y_for.append(deltastr_for)\n",
    "#     axis_x_for.append(j)\n",
    "#     #print(\"iteration \",j)\n",
    "#    # print(\"fibonacci loop \",deltastr)\n",
    "\n",
    "# print('Seconds for k=10 iterations - for loop ',time_y_for)\n",
    "# print('number of iterations ',axis_x_for)"
   ]
  },
  {
   "cell_type": "markdown",
   "metadata": {},
   "source": [
    "##### Now I am going to work on the plot "
   ]
  },
  {
   "cell_type": "markdown",
   "metadata": {},
   "source": [
    "# ===>\n",
    "\n",
    "You should have plotted the time for the recursive vs for loop for the different inputs of the function and not the number of iteration"
   ]
  },
  {
   "cell_type": "code",
   "execution_count": 10,
   "metadata": {},
   "outputs": [],
   "source": [
    "def timer(func, x, k):\n",
    "    from time import time \n",
    "    ti = time()\n",
    "    for i in range(k):\n",
    "        _ = func(x)\n",
    "    tf = time()\n",
    "    return (tf - ti) / k "
   ]
  },
  {
   "cell_type": "code",
   "execution_count": null,
   "metadata": {},
   "outputs": [],
   "source": [
    "F"
   ]
  },
  {
   "cell_type": "code",
   "execution_count": 32,
   "metadata": {},
   "outputs": [
    {
     "data": {
      "image/png": "[encoded data removed]",
      "text/plain": [
       "<Figure size 432x432 with 1 Axes>"
      ]
     },
     "metadata": {
      "needs_background": "light"
     },
     "output_type": "display_data"
    }
   ],
   "source": [
    "import matplotlib.pyplot as plt \n",
    "\n",
    "t_span = [i for i in range(10)]\n",
    "\n",
    "plt.figure(figsize=(6,6))\n",
    "plt.plot(t_span, [timer(fib_for, t, 100) for t in t_span], \n",
    "          color=\"R\", label=\"Fib for\")\n",
    "\n",
    "\n",
    "plt.plot(t_span, [timer(Fib_rec, t, 100) for t in t_span], \n",
    "          color=\"b\", label=\"Fib rec\")\n",
    "\n",
    "plt.legend()\n",
    "plt.show()"
   ]
  },
  {
   "cell_type": "code",
   "execution_count": null,
   "metadata": {},
   "outputs": [],
   "source": []
  },
  {
   "cell_type": "code",
   "execution_count": 5,
   "metadata": {},
   "outputs": [
    {
     "data": {
      "image/png": "[encoded data removed]",
      "text/plain": [
       "<Figure size 432x288 with 1 Axes>"
      ]
     },
     "metadata": {
      "needs_background": "light"
     },
     "output_type": "display_data"
    }
   ],
   "source": [
    "from matplotlib import pyplot as plt\n",
    "\n",
    "\n",
    "Fib_for = plt.plot(axis_x_for,time_y_for,'ro')\n",
    "Fib_rec = plt.plot(axis_x_rec,time_y_rec,'bs')\n",
    "\n",
    "plt.xlabel('number of iterations')\n",
    "plt.ylabel('seconds per iteration')\n",
    "plt.title('Seconds per Fibonacci from 1 to 1M ')\n",
    "plt.legend(Fib_for,'Fib_for')\n",
    "plt.legend(Fib_rec,'Fib_rec')\n",
    "\n",
    "plt.show()"
   ]
  },
  {
   "cell_type": "markdown",
   "metadata": {},
   "source": [
    "## Problem 2: Linear Algebra\n",
    "\n",
    "##### I scanned and uploaded the math work to my git repo \n",
    "##### https://github.com/scdragonfly/ML_Homework"
   ]
  },
  {
   "cell_type": "markdown",
   "metadata": {},
   "source": [
    "## Problem 3: Machine Learning\n",
    "\n",
    "### Part 1: Explain the difference between validation and test samples.\n",
    "\n",
    "###### Validation samples are examples used to tune the parameters of a learning algorithm when working with labeled data. Learning algorithms have typically one or more free parameters and the validation sample is used to select appropriate values for these model parameters. \n",
    "##### Whereas the test sample are examples used to evaluate the performance of a learning algorithm. The test sample is separate from the training and validation data and is not made available at the learning stage. \n",
    "\n",
    "\n",
    "\n",
    "### Part 2: Explain the difference between supervised and unsupervised learning algorithm.\n",
    "\n",
    "\n",
    "###### In supervised learning, the algorithm receives a set of labeled examples as training data and makes predictions for all unseen points. This is the most common scenario associated with regression, ranking and classification problems. The SPAM detection problem is an instance of supervised learning.\n",
    "\n",
    "##### In unsupervised learning, the learner receives unlabeled training data and makes predictions for all unseen points. Since no labeled example is available, it is difficult to quantitatively evaluate the performance of a learner. Clustering and dimensionality reduction are examples of unsupervised learning.\n",
    "\n",
    "\n"
   ]
  },
  {
   "cell_type": "code",
   "execution_count": null,
   "metadata": {},
   "outputs": [],
   "source": []
  }
 ],
 "metadata": {
  "kernelspec": {
   "display_name": "Python 3",
   "language": "python",
   "name": "python3"
  },
  "language_info": {
   "codemirror_mode": {
    "name": "ipython",
    "version": 3
   },
   "file_extension": ".py",
   "mimetype": "text/x-python",
   "name": "python",
   "nbconvert_exporter": "python",
   "pygments_lexer": "ipython3",
   "version": "3.7.3"
  }
 },
 "nbformat": 4,
 "nbformat_minor": 2
}
