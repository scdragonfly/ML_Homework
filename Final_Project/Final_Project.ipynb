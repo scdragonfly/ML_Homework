{
 "cells": [
  {
   "cell_type": "markdown",
   "metadata": {},
   "source": [
    "## Find the simplest neural networks! \n",
    "\n",
    "\n",
    "Use diﬀerent activations, number of layers, number of neurons at each layer, compare their performance and ﬁnd the simplest neural net. There could be couple of networks that are fairly close in terms of the performance choose anyone you think has the least complexity and explain your reasoning.\n",
    "\n",
    "\n",
    "\n",
    "\n",
    "### Expectation Part 1 \n",
    "\n",
    "#### 1. Use diﬀerent activations. \n",
    "#### 2. Number of layers, Number of neurons at each layer, compare their performance and ﬁnd the simplest neural net.\n",
    "#### 3. There could be couple of networks that are fairly close in terms of the performance choose anyone you think has the least complexity and explain your reasoning \n",
    "\n",
    "\n",
    "\n",
    "### Expectation Part 2\n",
    "\n",
    "\n",
    "#### 4. Create new atributes and use them instead to train the neural network\n",
    "${X_3} = {X_1^{2}}$\n",
    "\n",
    "${X_4} = {X_2^{2}}$\n",
    "\n",
    "${X_5} = {X_1}{X_2}$\n",
    "#### 5. Find the simplest neural network for hte following set of inputs \n",
    "\n",
    "1.{${X_3},{X_4}$}\n",
    "\n",
    "\n",
    "2.{${X_3},{X_5}$}\n",
    "\n",
    "3.{${X_3},{X_4},{X_5}$}\n",
    "\n",
    "\n",
    "4.{${X_1},{X_2},{X_3},{X_4},{X_5}$}\n",
    "\n",
    "\n",
    "\n",
    "\n",
    "\n",
    "#### 6. remember to validate your model and avoid overfitting\n",
    "\n",
    "\n",
    "\n",
    "\n"
   ]
  },
  {
   "cell_type": "markdown",
   "metadata": {},
   "source": [
    "### Project Methology  : \n",
    "\n",
    "\n",
    "#### For this project, I am going to use the  MLP ( Multi-layer Perceptron) Classifier provided in SciKit Learn.\n",
    "https://scikit-learn.org/stable/modules/generated/sklearn.neural_network.MLPClassifier.html \n",
    "\n",
    "This model optimizes the log-loss function using LBFGS or stochastic gradient descent.\n",
    "\n",
    "#### For each individual input set we will complete the following steps :\n",
    "\n",
    "\n",
    "1. Adjust the main DataSet according to the features that are needed as input. \n",
    "2. Create a plot with the data to get an visual understanding of the different inputs  \n",
    "3. Shuffle the data prior to applying the MLP model \n",
    "4. Split the data \n",
    "5. Normalize the data \n",
    "6. Loop through different Activations and Number of Layers and Neurons per layer\n",
    "7. Select the top performers\n",
    "8. Run the classifier for those top performers and choose the simplest Neural Network \n",
    "\n"
   ]
  },
  {
   "cell_type": "code",
   "execution_count": 1,
   "metadata": {},
   "outputs": [],
   "source": [
    "import pandas as pd\n",
    "\n",
    "color_data=pd.read_csv(r\"C:\\Users\\User\\OneDrive\\FoundationsML\\FinalProject\\train_set.txt\",delimiter=',', header=None)#home\n",
    "\n",
    "\n",
    "#color_data=pd.read_csv(r\"C:\\Users\\scabellos\\OneDrive - Urban Science\\User Documents\\MastersDegree\\ML\\Final\\train_set.txt\", \n",
    "#                      delimiter=',', header=None)#home\n",
    "\n",
    "color_data.columns=['X1','X2','Color']"
   ]
  },
  {
   "cell_type": "code",
   "execution_count": 2,
   "metadata": {},
   "outputs": [
    {
     "data": {
      "text/html": [
       "<div>\n",
       "<style scoped>\n",
       "    .dataframe tbody tr th:only-of-type {\n",
       "        vertical-align: middle;\n",
       "    }\n",
       "\n",
       "    .dataframe tbody tr th {\n",
       "        vertical-align: top;\n",
       "    }\n",
       "\n",
       "    .dataframe thead th {\n",
       "        text-align: right;\n",
       "    }\n",
       "</style>\n",
       "<table border=\"1\" class=\"dataframe\">\n",
       "  <thead>\n",
       "    <tr style=\"text-align: right;\">\n",
       "      <th></th>\n",
       "      <th>X1</th>\n",
       "      <th>X2</th>\n",
       "      <th>Color</th>\n",
       "    </tr>\n",
       "  </thead>\n",
       "  <tbody>\n",
       "    <tr>\n",
       "      <th>0</th>\n",
       "      <td>16.263398</td>\n",
       "      <td>13.299206</td>\n",
       "      <td>r</td>\n",
       "    </tr>\n",
       "    <tr>\n",
       "      <th>1</th>\n",
       "      <td>0.775408</td>\n",
       "      <td>23.986692</td>\n",
       "      <td>r</td>\n",
       "    </tr>\n",
       "    <tr>\n",
       "      <th>2</th>\n",
       "      <td>29.170503</td>\n",
       "      <td>-3.287474</td>\n",
       "      <td>r</td>\n",
       "    </tr>\n",
       "    <tr>\n",
       "      <th>3</th>\n",
       "      <td>6.739044</td>\n",
       "      <td>-28.033329</td>\n",
       "      <td>r</td>\n",
       "    </tr>\n",
       "    <tr>\n",
       "      <th>4</th>\n",
       "      <td>3.216100</td>\n",
       "      <td>22.013695</td>\n",
       "      <td>r</td>\n",
       "    </tr>\n",
       "  </tbody>\n",
       "</table>\n",
       "</div>"
      ],
      "text/plain": [
       "          X1         X2 Color\n",
       "0  16.263398  13.299206     r\n",
       "1   0.775408  23.986692     r\n",
       "2  29.170503  -3.287474     r\n",
       "3   6.739044 -28.033329     r\n",
       "4   3.216100  22.013695     r"
      ]
     },
     "execution_count": 2,
     "metadata": {},
     "output_type": "execute_result"
    }
   ],
   "source": [
    "color_data.head()"
   ]
  },
  {
   "cell_type": "code",
   "execution_count": 3,
   "metadata": {},
   "outputs": [
    {
     "data": {
      "text/html": [
       "<div>\n",
       "<style scoped>\n",
       "    .dataframe tbody tr th:only-of-type {\n",
       "        vertical-align: middle;\n",
       "    }\n",
       "\n",
       "    .dataframe tbody tr th {\n",
       "        vertical-align: top;\n",
       "    }\n",
       "\n",
       "    .dataframe thead th {\n",
       "        text-align: right;\n",
       "    }\n",
       "</style>\n",
       "<table border=\"1\" class=\"dataframe\">\n",
       "  <thead>\n",
       "    <tr style=\"text-align: right;\">\n",
       "      <th></th>\n",
       "      <th>X1</th>\n",
       "      <th>X2</th>\n",
       "    </tr>\n",
       "  </thead>\n",
       "  <tbody>\n",
       "    <tr>\n",
       "      <th>count</th>\n",
       "      <td>685.000000</td>\n",
       "      <td>685.000000</td>\n",
       "    </tr>\n",
       "    <tr>\n",
       "      <th>mean</th>\n",
       "      <td>0.596296</td>\n",
       "      <td>1.079071</td>\n",
       "    </tr>\n",
       "    <tr>\n",
       "      <th>std</th>\n",
       "      <td>18.941957</td>\n",
       "      <td>18.789436</td>\n",
       "    </tr>\n",
       "    <tr>\n",
       "      <th>min</th>\n",
       "      <td>-54.531886</td>\n",
       "      <td>-57.232861</td>\n",
       "    </tr>\n",
       "    <tr>\n",
       "      <th>25%</th>\n",
       "      <td>-16.376391</td>\n",
       "      <td>-14.788019</td>\n",
       "    </tr>\n",
       "    <tr>\n",
       "      <th>50%</th>\n",
       "      <td>0.387794</td>\n",
       "      <td>0.474620</td>\n",
       "    </tr>\n",
       "    <tr>\n",
       "      <th>75%</th>\n",
       "      <td>17.255583</td>\n",
       "      <td>16.628887</td>\n",
       "    </tr>\n",
       "    <tr>\n",
       "      <th>max</th>\n",
       "      <td>58.905065</td>\n",
       "      <td>60.321524</td>\n",
       "    </tr>\n",
       "  </tbody>\n",
       "</table>\n",
       "</div>"
      ],
      "text/plain": [
       "               X1          X2\n",
       "count  685.000000  685.000000\n",
       "mean     0.596296    1.079071\n",
       "std     18.941957   18.789436\n",
       "min    -54.531886  -57.232861\n",
       "25%    -16.376391  -14.788019\n",
       "50%      0.387794    0.474620\n",
       "75%     17.255583   16.628887\n",
       "max     58.905065   60.321524"
      ]
     },
     "execution_count": 3,
     "metadata": {},
     "output_type": "execute_result"
    }
   ],
   "source": [
    "color_data.describe()"
   ]
  },
  {
   "cell_type": "code",
   "execution_count": 7,
   "metadata": {},
   "outputs": [
    {
     "data": {
      "image/png": "[encoded data removed]",
      "text/plain": [
       "<Figure size 576x432 with 1 Axes>"
      ]
     },
     "metadata": {
      "needs_background": "light"
     },
     "output_type": "display_data"
    }
   ],
   "source": [
    "# Visualize the input data sets\n",
    "import matplotlib.pyplot as plt\n",
    "\n",
    "plt.figure(figsize=(8, 6))\n",
    "#plt.subplot(1, 2, 1)\n",
    "red=color_data[color_data['Color'].str.contains('r')]\n",
    "green=color_data[color_data['Color'].str.contains('g')]\n",
    "blue=color_data[color_data['Color'].str.contains('b')]\n",
    "plt.plot(red[\"X1\"], red[\"X2\"],'r', linestyle='none', marker='o', label='r')\n",
    "plt.plot(green[\"X1\"], green[\"X2\"],'g', linestyle='none', marker='o', label='g')\n",
    "plt.plot(blue[\"X1\"], blue[\"X2\"],'b', linestyle='none', marker='o', label='b')\n",
    "plt.xlabel(\"X1\")\n",
    "plt.ylabel(\"X2\")\n",
    "plt.axis('equal')\n",
    "plt.legend()\n",
    "plt.title(\"Input Data X1, X2\")\n",
    "plt.show()\n",
    "#plt.plot(x0, y0, \"r.\", markersize=10)\n"
   ]
  },
  {
   "cell_type": "code",
   "execution_count": 8,
   "metadata": {},
   "outputs": [],
   "source": [
    "from sklearn.neural_network import MLPClassifier\n",
    "from sklearn.model_selection import train_test_split\n",
    "from sklearn.metrics import accuracy_score\n",
    "from sklearn.metrics import log_loss #log_loss(y_true, y_pred)\n",
    "from sklearn.metrics import confusion_matrix"
   ]
  },
  {
   "cell_type": "code",
   "execution_count": 182,
   "metadata": {},
   "outputs": [],
   "source": [
    "y = color_data['Color']\n",
    "x = color_data.drop(['Color'], axis=1)\n",
    "\n",
    "#,'X3','X4','X5'"
   ]
  },
  {
   "cell_type": "markdown",
   "metadata": {},
   "source": [
    "Always shuffle your training data, both before training and during training"
   ]
  },
  {
   "cell_type": "code",
   "execution_count": 184,
   "metadata": {},
   "outputs": [],
   "source": [
    "from sklearn.utils import shuffle\n",
    "x,y = shuffle(x,y,random_state=0)"
   ]
  },
  {
   "cell_type": "code",
   "execution_count": 185,
   "metadata": {},
   "outputs": [],
   "source": [
    "x_train, x_test, y_train, y_test = train_test_split(x,y, test_size= 0.2, random_state=27)"
   ]
  },
  {
   "cell_type": "markdown",
   "metadata": {},
   "source": [
    "#### Scaling the training and test data sets. \n",
    "\n",
    "\n",
    "\n",
    "Normalization across instances should be done after splitting the data between training and test set, using only the data from the training set. \n",
    "This is because the test set plays the role of fresh unseen data, so it's not supposed to be accessible at the training stage. Using any information coming from the test set before or during training is a potential bias in the evaluation of the performance.\n",
    "\n"
   ]
  },
  {
   "cell_type": "code",
   "execution_count": 186,
   "metadata": {},
   "outputs": [],
   "source": [
    "from sklearn.preprocessing import StandardScaler\n",
    "scaler=StandardScaler()\n",
    "\n",
    "x_train=scaler.fit_transform(x_train)\n",
    "x_test=scaler.fit_transform(x_test)\n"
   ]
  },
  {
   "cell_type": "code",
   "execution_count": 187,
   "metadata": {},
   "outputs": [
    {
     "name": "stdout",
     "output_type": "stream",
     "text": [
      "[(4, 2), (4, 3), (4, 4), (4, 5), (5, 2), (5, 3), (5, 4), (5, 5), (6, 2), (6, 3), (6, 4), (6, 5), (7, 2), (7, 3), (7, 4), (7, 5), (8, 2), (8, 3), (8, 4), (8, 5)]\n"
     ]
    }
   ],
   "source": [
    "# Define layers and Neurons per layer - \n",
    "import itertools  \n",
    "layers=[4,5,6,7,8]\n",
    "neurons=[2,3,4,5]\n",
    "hidden_layer_sizes=list(itertools.product(layers,neurons))\n",
    "print(list(hidden_layer_sizes))"
   ]
  },
  {
   "cell_type": "code",
   "execution_count": 188,
   "metadata": {},
   "outputs": [],
   "source": [
    "import itertools \n",
    "# Define layers and Neurons per layer - \n",
    "layers=[3,4,5,6,7,8,9,10]\n",
    "neurons=[2,3,4,5,6]\n",
    "hidden_layer_sizes=list(itertools.product(layers,neurons))\n",
    "#diff activation\n",
    "models=('identity', 'logistic', 'tanh', 'relu')\n",
    "    \n",
    "acc=[]\n",
    "layer=[]\n",
    "activation=[]\n",
    "for h in hidden_layer_sizes:\n",
    "    for a in models:\n",
    "        clf = MLPClassifier(hidden_layer_sizes=h,activation=a ,max_iter=200, alpha=0.01,\n",
    "                            learning_rate='constant',solver='lbfgs', random_state=21,tol=0.000000001)\n",
    "        clf.fit(x_train, y_train)\n",
    "        y_pred = clf.predict(x_test)\n",
    "        acc.append(accuracy_score(y_test, y_pred))\n",
    "        #loss_log.append(log_loss(y_test, y_pred))\n",
    "        layer.append(h)\n",
    "        activation.append(a)\n"
   ]
  },
  {
   "cell_type": "code",
   "execution_count": 189,
   "metadata": {},
   "outputs": [
    {
     "data": {
      "text/html": [
       "<div>\n",
       "<style scoped>\n",
       "    .dataframe tbody tr th:only-of-type {\n",
       "        vertical-align: middle;\n",
       "    }\n",
       "\n",
       "    .dataframe tbody tr th {\n",
       "        vertical-align: top;\n",
       "    }\n",
       "\n",
       "    .dataframe thead th {\n",
       "        text-align: right;\n",
       "    }\n",
       "</style>\n",
       "<table border=\"1\" class=\"dataframe\">\n",
       "  <thead>\n",
       "    <tr style=\"text-align: right;\">\n",
       "      <th></th>\n",
       "      <th>Acuracy</th>\n",
       "      <th>Layers and Neurons per Layer</th>\n",
       "      <th>Activation</th>\n",
       "    </tr>\n",
       "  </thead>\n",
       "  <tbody>\n",
       "    <tr>\n",
       "      <th>21</th>\n",
       "      <td>1.000000</td>\n",
       "      <td>(4, 2)</td>\n",
       "      <td>logistic</td>\n",
       "    </tr>\n",
       "    <tr>\n",
       "      <th>7</th>\n",
       "      <td>0.992701</td>\n",
       "      <td>(3, 3)</td>\n",
       "      <td>relu</td>\n",
       "    </tr>\n",
       "    <tr>\n",
       "      <th>81</th>\n",
       "      <td>0.992701</td>\n",
       "      <td>(7, 2)</td>\n",
       "      <td>logistic</td>\n",
       "    </tr>\n",
       "    <tr>\n",
       "      <th>141</th>\n",
       "      <td>0.992701</td>\n",
       "      <td>(10, 2)</td>\n",
       "      <td>logistic</td>\n",
       "    </tr>\n",
       "    <tr>\n",
       "      <th>69</th>\n",
       "      <td>0.985401</td>\n",
       "      <td>(6, 4)</td>\n",
       "      <td>logistic</td>\n",
       "    </tr>\n",
       "  </tbody>\n",
       "</table>\n",
       "</div>"
      ],
      "text/plain": [
       "      Acuracy Layers and Neurons per Layer Activation\n",
       "21   1.000000                       (4, 2)   logistic\n",
       "7    0.992701                       (3, 3)       relu\n",
       "81   0.992701                       (7, 2)   logistic\n",
       "141  0.992701                      (10, 2)   logistic\n",
       "69   0.985401                       (6, 4)   logistic"
      ]
     },
     "execution_count": 189,
     "metadata": {},
     "output_type": "execute_result"
    }
   ],
   "source": [
    "d={'Acuracy':acc,'Layers and Neurons per Layer':layer, 'Activation':activation}\n",
    "history=pd.DataFrame(d)\n",
    "history.sort_values('Acuracy',ascending=False).head()"
   ]
  },
  {
   "cell_type": "code",
   "execution_count": 190,
   "metadata": {},
   "outputs": [],
   "source": [
    "acc_42_log=[]\n",
    "train_42_log=[]\n",
    "test_42_log=[]\n",
    "iter_log=[]\n",
    "\n",
    "for i in range(1,500,1):\n",
    "    clf = MLPClassifier(hidden_layer_sizes=(4, 2), activation='logistic',max_iter=i, alpha=0.01,\n",
    "                        learning_rate='constant',solver='lbfgs', random_state=21,tol=0.000000001)\n",
    "    x_train,y_train = shuffle(x_train,y_train,random_state=0)\n",
    "    clf.fit(x_train, y_train)\n",
    "    y_pred = clf.predict(x_test)\n",
    "    acc_42_log.append(accuracy_score(y_test, y_pred))\n",
    "    train_42_log.append(clf.score(x_train, y_train))\n",
    "    test_42_log.append(clf.score(x_test, y_test))\n",
    "    iter_log.append(i)"
   ]
  },
  {
   "cell_type": "code",
   "execution_count": 191,
   "metadata": {},
   "outputs": [],
   "source": [
    "acc_33_relu=[]\n",
    "train_33_relu=[]\n",
    "test_33_relu=[]\n",
    "iter_log=[]\n",
    "\n",
    "for i in range(1,500,1):\n",
    "    clf = MLPClassifier(hidden_layer_sizes=(3, 3), activation='relu',max_iter=i, alpha=0.01,\n",
    "                        learning_rate='constant',solver='lbfgs', random_state=21,tol=0.000000001)\n",
    "    x_train,y_train = shuffle(x_train,y_train,random_state=0)\n",
    "    clf.fit(x_train, y_train)\n",
    "    y_pred = clf.predict(x_test)\n",
    "    acc_33_relu.append(accuracy_score(y_test, y_pred))\n",
    "    train_33_relu.append(clf.score(x_train, y_train))\n",
    "    test_33_relu.append(clf.score(x_test, y_test))\n",
    "    iter_log.append(i)"
   ]
  },
  {
   "cell_type": "code",
   "execution_count": 172,
   "metadata": {},
   "outputs": [],
   "source": [
    "\n",
    "#param_42={'Acc':acc_42_relu,'Iter':iter_42_relu, 'Train':train_42_relu,'Test':test_42_relu}\n",
    "#p=pd.DataFrame(param)\n"
   ]
  },
  {
   "cell_type": "code",
   "execution_count": 207,
   "metadata": {},
   "outputs": [
    {
     "data": {
      "image/png": "[encoded data removed]",
      "text/plain": [
       "<Figure size 1296x360 with 2 Axes>"
      ]
     },
     "metadata": {
      "needs_background": "light"
     },
     "output_type": "display_data"
    }
   ],
   "source": [
    "plt.figure(figsize=(18, 5))\n",
    "\n",
    "\n",
    "\n",
    "plt.subplot(121)\n",
    "#plt.figure(figsize=(8,6))\n",
    "plt.plot(iter_log, acc_42_log,label='4 Layers - 2 Neurons per Layer - Log ')\n",
    "plt.plot(iter_log, acc_33_relu,label='3 Layers - 3 Neurons per Layer - Relu')\n",
    "plt.xlabel(\"Maximum Iterations\", size=12,)\n",
    "#plt.xticks(iter_opt,rotation=45)\n",
    "plt.ylim(0.5,1)\n",
    "plt.xlim(1,200)\n",
    "plt.ylabel(\"Accuracy\", size=12)\n",
    "plt.legend()\n",
    "plt.title(\"Accuracy 2 best ANN for X1, X2\" , size=15);\n",
    "\n",
    "\n",
    "plt.subplot(122)\n",
    "#plt.figure(figsize=(8,6))\n",
    "plt.plot(iter_log, test_42_log,label='Testing Log',c='r')\n",
    "plt.plot(iter_log, train_42_log,label='Training Log',c='r')\n",
    "\n",
    "plt.plot(iter_43_log, test_33_relu,label='Testing Relu',c='c')\n",
    "plt.plot(iter_33_log, train_33_relu,label='Training Relu',c='c')\n",
    "\n",
    "plt.xlabel(\"Maximum Iterations\", size=12,)\n",
    "#plt.xticks(iter_opt,rotation=45)\n",
    "plt.ylim(0.5,1)\n",
    "plt.xlim(1,200)\n",
    "plt.ylabel(\"Accuracy\", size=12)\n",
    "plt.legend()\n",
    "plt.title(\"Testing vs.Training\" , size=15);\n"
   ]
  },
  {
   "cell_type": "markdown",
   "metadata": {},
   "source": [
    "As we can see above, both networks are showing no real difference between having more of less layers. Also, the validation between the training and the testing seems to be working .There is not difference in accuracy when we apply the model to the testing portion. \n",
    "\n",
    "\n",
    "Therefore, the simplest ANN we can choose is the one with 3 Layers and 3 Neurons each \"\n",
    "\n",
    "\n",
    "##### clf = MLPClassifier(hidden_layer_sizes=(3, 3), activation='relu',max_iter=200, alpha=0.01,learning_rate='constant',solver='lbfgs', random_state=21,tol=0.000000001)\n",
    "\n",
    "\n",
    "\n"
   ]
  },
  {
   "cell_type": "markdown",
   "metadata": {},
   "source": [
    "\n",
    "------------------------------------------------------------------------------------------------------------------------------\n",
    "\n",
    "\n",
    "\n",
    "\n",
    "\n",
    "## Build new attributes\n",
    "\n",
    "\n",
    "In this section you will create new attributes and you are going to use them instead to train the neural network. If we call the ﬁrst attributes X1 and the second attributes X2, then the other 3 are as follows : \n",
    "\n",
    "\n",
    "${X_3} = {X_1^{2}}$\n",
    "\n",
    "${X_4} = {X_2^{2}}$\n",
    "\n",
    "${X_5} = {X_1}{X_2}$\n"
   ]
  },
  {
   "cell_type": "code",
   "execution_count": null,
   "metadata": {},
   "outputs": [],
   "source": [
    "\n",
    "#we are going to add 2 more columns x3, x4, x5 as transformations of x1, x2. \n",
    "\n",
    "\n",
    "x['X3']=x['X1']**2\n",
    "x['X4']=x['X2']**2\n",
    "x['X5']=x['X1']*x['X2']\n",
    "\n"
   ]
  },
  {
   "cell_type": "code",
   "execution_count": 205,
   "metadata": {},
   "outputs": [
    {
     "data": {
      "text/html": [
       "<div>\n",
       "<style scoped>\n",
       "    .dataframe tbody tr th:only-of-type {\n",
       "        vertical-align: middle;\n",
       "    }\n",
       "\n",
       "    .dataframe tbody tr th {\n",
       "        vertical-align: top;\n",
       "    }\n",
       "\n",
       "    .dataframe thead th {\n",
       "        text-align: right;\n",
       "    }\n",
       "</style>\n",
       "<table border=\"1\" class=\"dataframe\">\n",
       "  <thead>\n",
       "    <tr style=\"text-align: right;\">\n",
       "      <th></th>\n",
       "      <th>X1</th>\n",
       "      <th>X2</th>\n",
       "      <th>X3</th>\n",
       "      <th>X4</th>\n",
       "      <th>X5</th>\n",
       "    </tr>\n",
       "  </thead>\n",
       "  <tbody>\n",
       "    <tr>\n",
       "      <th>count</th>\n",
       "      <td>685.000000</td>\n",
       "      <td>685.000000</td>\n",
       "      <td>685.000000</td>\n",
       "      <td>685.000000</td>\n",
       "      <td>685.000000</td>\n",
       "    </tr>\n",
       "    <tr>\n",
       "      <th>mean</th>\n",
       "      <td>0.596296</td>\n",
       "      <td>1.079071</td>\n",
       "      <td>358.629530</td>\n",
       "      <td>353.691913</td>\n",
       "      <td>5.680638</td>\n",
       "    </tr>\n",
       "    <tr>\n",
       "      <th>std</th>\n",
       "      <td>18.941957</td>\n",
       "      <td>18.789436</td>\n",
       "      <td>449.393834</td>\n",
       "      <td>487.551574</td>\n",
       "      <td>310.810705</td>\n",
       "    </tr>\n",
       "    <tr>\n",
       "      <th>min</th>\n",
       "      <td>-54.531886</td>\n",
       "      <td>-57.232861</td>\n",
       "      <td>0.002542</td>\n",
       "      <td>0.000336</td>\n",
       "      <td>-1748.536152</td>\n",
       "    </tr>\n",
       "    <tr>\n",
       "      <th>25%</th>\n",
       "      <td>-16.376391</td>\n",
       "      <td>-14.788019</td>\n",
       "      <td>62.449312</td>\n",
       "      <td>53.282900</td>\n",
       "      <td>-186.751491</td>\n",
       "    </tr>\n",
       "    <tr>\n",
       "      <th>50%</th>\n",
       "      <td>0.387794</td>\n",
       "      <td>0.474620</td>\n",
       "      <td>282.629310</td>\n",
       "      <td>255.449217</td>\n",
       "      <td>0.607447</td>\n",
       "    </tr>\n",
       "    <tr>\n",
       "      <th>75%</th>\n",
       "      <td>17.255583</td>\n",
       "      <td>16.628887</td>\n",
       "      <td>486.790988</td>\n",
       "      <td>477.055737</td>\n",
       "      <td>200.394167</td>\n",
       "    </tr>\n",
       "    <tr>\n",
       "      <th>max</th>\n",
       "      <td>58.905065</td>\n",
       "      <td>60.321524</td>\n",
       "      <td>3469.806718</td>\n",
       "      <td>3638.686301</td>\n",
       "      <td>1561.284233</td>\n",
       "    </tr>\n",
       "  </tbody>\n",
       "</table>\n",
       "</div>"
      ],
      "text/plain": [
       "               X1          X2           X3           X4           X5\n",
       "count  685.000000  685.000000   685.000000   685.000000   685.000000\n",
       "mean     0.596296    1.079071   358.629530   353.691913     5.680638\n",
       "std     18.941957   18.789436   449.393834   487.551574   310.810705\n",
       "min    -54.531886  -57.232861     0.002542     0.000336 -1748.536152\n",
       "25%    -16.376391  -14.788019    62.449312    53.282900  -186.751491\n",
       "50%      0.387794    0.474620   282.629310   255.449217     0.607447\n",
       "75%     17.255583   16.628887   486.790988   477.055737   200.394167\n",
       "max     58.905065   60.321524  3469.806718  3638.686301  1561.284233"
      ]
     },
     "execution_count": 205,
     "metadata": {},
     "output_type": "execute_result"
    }
   ],
   "source": [
    "x.describe()"
   ]
  },
  {
   "cell_type": "code",
   "execution_count": 206,
   "metadata": {},
   "outputs": [
    {
     "data": {
      "text/html": [
       "<div>\n",
       "<style scoped>\n",
       "    .dataframe tbody tr th:only-of-type {\n",
       "        vertical-align: middle;\n",
       "    }\n",
       "\n",
       "    .dataframe tbody tr th {\n",
       "        vertical-align: top;\n",
       "    }\n",
       "\n",
       "    .dataframe thead th {\n",
       "        text-align: right;\n",
       "    }\n",
       "</style>\n",
       "<table border=\"1\" class=\"dataframe\">\n",
       "  <thead>\n",
       "    <tr style=\"text-align: right;\">\n",
       "      <th></th>\n",
       "      <th>X1</th>\n",
       "      <th>X2</th>\n",
       "      <th>X3</th>\n",
       "      <th>X4</th>\n",
       "      <th>X5</th>\n",
       "    </tr>\n",
       "  </thead>\n",
       "  <tbody>\n",
       "    <tr>\n",
       "      <th>113</th>\n",
       "      <td>12.902939</td>\n",
       "      <td>-26.460127</td>\n",
       "      <td>166.485847</td>\n",
       "      <td>700.138329</td>\n",
       "      <td>-341.413419</td>\n",
       "    </tr>\n",
       "    <tr>\n",
       "      <th>378</th>\n",
       "      <td>22.890068</td>\n",
       "      <td>-9.818271</td>\n",
       "      <td>523.955195</td>\n",
       "      <td>96.398446</td>\n",
       "      <td>-224.740887</td>\n",
       "    </tr>\n",
       "    <tr>\n",
       "      <th>303</th>\n",
       "      <td>-8.750410</td>\n",
       "      <td>-27.778819</td>\n",
       "      <td>76.569677</td>\n",
       "      <td>771.662762</td>\n",
       "      <td>243.076054</td>\n",
       "    </tr>\n",
       "    <tr>\n",
       "      <th>504</th>\n",
       "      <td>-28.774525</td>\n",
       "      <td>3.666723</td>\n",
       "      <td>827.973275</td>\n",
       "      <td>13.444857</td>\n",
       "      <td>-105.508208</td>\n",
       "    </tr>\n",
       "    <tr>\n",
       "      <th>301</th>\n",
       "      <td>-20.308263</td>\n",
       "      <td>-7.984472</td>\n",
       "      <td>412.425528</td>\n",
       "      <td>63.751799</td>\n",
       "      <td>162.150761</td>\n",
       "    </tr>\n",
       "  </tbody>\n",
       "</table>\n",
       "</div>"
      ],
      "text/plain": [
       "            X1         X2          X3          X4          X5\n",
       "113  12.902939 -26.460127  166.485847  700.138329 -341.413419\n",
       "378  22.890068  -9.818271  523.955195   96.398446 -224.740887\n",
       "303  -8.750410 -27.778819   76.569677  771.662762  243.076054\n",
       "504 -28.774525   3.666723  827.973275   13.444857 -105.508208\n",
       "301 -20.308263  -7.984472  412.425528   63.751799  162.150761"
      ]
     },
     "execution_count": 206,
     "metadata": {},
     "output_type": "execute_result"
    }
   ],
   "source": [
    "x.head()"
   ]
  },
  {
   "cell_type": "markdown",
   "metadata": {},
   "source": [
    "We are also going to add them to the main data frame so we can visualize the new data with the corresponding labels. "
   ]
  },
  {
   "cell_type": "code",
   "execution_count": 204,
   "metadata": {},
   "outputs": [
    {
     "name": "stdout",
     "output_type": "stream",
     "text": [
      "          X1         X2          X3          X4          X5 Color\n",
      "0  16.263398  13.299206  264.498124  176.868878  216.290282     r\n",
      "1   0.775408  23.986692    0.601257  575.361405   18.599466     r\n",
      "2  29.170503  -3.287474  850.918251   10.807487  -95.897279     r\n",
      "3   6.739044 -28.033329   45.414707  785.867535 -188.917824     r\n",
      "4   3.216100  22.013695   10.343297  484.602776   70.798239     r\n"
     ]
    }
   ],
   "source": [
    "\n",
    "color_data['X3']=color_data['X1']**2\n",
    "color_data['X4']=color_data['X2']**2\n",
    "color_data['X5']=color_data['X1']*color_data['X2']\n",
    "color_data = color_data[['X1', 'X2', 'X3', 'X4','X5','Color']]\n",
    "print(color_data.head())\n"
   ]
  },
  {
   "cell_type": "markdown",
   "metadata": {},
   "source": [
    "\n",
    "\n",
    "## 5. Find the simplest neural network for hte following set of inputs \n",
    "\n",
    "\n",
    "1.{${X_3},{X_4}$}\n",
    "\n",
    "\n",
    "2.{${X_3},{X_5}$}\n",
    "\n",
    "3.{${X_3},{X_4},{X_5}$}\n",
    "\n",
    "\n",
    "4.{${X_1},{X_2},{X_3},{X_4},{X_5}$}\n",
    "\n",
    "\n",
    "Lets start with number 1 \n"
   ]
  },
  {
   "cell_type": "code",
   "execution_count": 208,
   "metadata": {},
   "outputs": [],
   "source": [
    "x34 = x.drop(columns=['X1','X2','X5'] , axis=1)"
   ]
  },
  {
   "cell_type": "code",
   "execution_count": 209,
   "metadata": {},
   "outputs": [
    {
     "data": {
      "text/html": [
       "<div>\n",
       "<style scoped>\n",
       "    .dataframe tbody tr th:only-of-type {\n",
       "        vertical-align: middle;\n",
       "    }\n",
       "\n",
       "    .dataframe tbody tr th {\n",
       "        vertical-align: top;\n",
       "    }\n",
       "\n",
       "    .dataframe thead th {\n",
       "        text-align: right;\n",
       "    }\n",
       "</style>\n",
       "<table border=\"1\" class=\"dataframe\">\n",
       "  <thead>\n",
       "    <tr style=\"text-align: right;\">\n",
       "      <th></th>\n",
       "      <th>X3</th>\n",
       "      <th>X4</th>\n",
       "    </tr>\n",
       "  </thead>\n",
       "  <tbody>\n",
       "    <tr>\n",
       "      <th>113</th>\n",
       "      <td>166.485847</td>\n",
       "      <td>700.138329</td>\n",
       "    </tr>\n",
       "    <tr>\n",
       "      <th>378</th>\n",
       "      <td>523.955195</td>\n",
       "      <td>96.398446</td>\n",
       "    </tr>\n",
       "    <tr>\n",
       "      <th>303</th>\n",
       "      <td>76.569677</td>\n",
       "      <td>771.662762</td>\n",
       "    </tr>\n",
       "    <tr>\n",
       "      <th>504</th>\n",
       "      <td>827.973275</td>\n",
       "      <td>13.444857</td>\n",
       "    </tr>\n",
       "    <tr>\n",
       "      <th>301</th>\n",
       "      <td>412.425528</td>\n",
       "      <td>63.751799</td>\n",
       "    </tr>\n",
       "  </tbody>\n",
       "</table>\n",
       "</div>"
      ],
      "text/plain": [
       "             X3          X4\n",
       "113  166.485847  700.138329\n",
       "378  523.955195   96.398446\n",
       "303   76.569677  771.662762\n",
       "504  827.973275   13.444857\n",
       "301  412.425528   63.751799"
      ]
     },
     "execution_count": 209,
     "metadata": {},
     "output_type": "execute_result"
    }
   ],
   "source": [
    "x34.head()"
   ]
  },
  {
   "cell_type": "code",
   "execution_count": 64,
   "metadata": {},
   "outputs": [
    {
     "data": {
      "image/png": "[encoded data removed]",
      "text/plain": [
       "<Figure size 576x432 with 1 Axes>"
      ]
     },
     "metadata": {
      "needs_background": "light"
     },
     "output_type": "display_data"
    }
   ],
   "source": [
    "# Visualize the input data sets\n",
    "\n",
    "plt.figure(figsize=(8, 6))\n",
    "red=color_data[color_data['Color'].str.contains('r')]\n",
    "green=color_data[color_data['Color'].str.contains('g')]\n",
    "blue=color_data[color_data['Color'].str.contains('b')]\n",
    "plt.plot(red[\"X3\"], red[\"X4\"],'r', linestyle='none', marker='o', label='r')\n",
    "plt.plot(green[\"X3\"], green[\"X4\"],'g', linestyle='none', marker='o', label='g')\n",
    "plt.plot(blue[\"X3\"], blue[\"X4\"],'b', linestyle='none', marker='o', label='b')\n",
    "plt.xlabel(\"X3\")\n",
    "plt.ylabel(\"X4\")\n",
    "plt.axis('equal')\n",
    "plt.legend()\n",
    "plt.title(\"Input Data X3, X4\");"
   ]
  },
  {
   "cell_type": "code",
   "execution_count": 215,
   "metadata": {},
   "outputs": [],
   "source": [
    "x34,y = shuffle(x34,y,random_state=0)\n",
    "x34_train, x34_test, y_train, y_test = train_test_split(x34,y, test_size= 0.2, random_state=27)"
   ]
  },
  {
   "cell_type": "code",
   "execution_count": 216,
   "metadata": {},
   "outputs": [],
   "source": [
    "from sklearn.preprocessing import StandardScaler\n",
    "scaler=StandardScaler()\n",
    "\n",
    "x34_train=scaler.fit_transform(x34_train)\n",
    "x34_test=scaler.fit_transform(x34_test)\n"
   ]
  },
  {
   "cell_type": "code",
   "execution_count": 217,
   "metadata": {},
   "outputs": [],
   "source": [
    "import itertools \n",
    "# Define layers and Neurons per layer - \n",
    "layers=[3,4,5,6,7,8,9,10]\n",
    "neurons=[2,3,4,5,6]\n",
    "hidden_layer_sizes=list(itertools.product(layers,neurons))\n",
    "#diff activation\n",
    "models=('identity', 'logistic', 'tanh', 'relu')\n",
    "    \n",
    "acc=[]\n",
    "layer=[]\n",
    "activation=[]\n",
    "for h in hidden_layer_sizes:\n",
    "    for a in models:\n",
    "        clf = MLPClassifier(hidden_layer_sizes=h,activation=a ,max_iter=200, alpha=0.01,\n",
    "                            learning_rate='constant',solver='lbfgs', random_state=21,tol=0.000000001)\n",
    "        clf.fit(x34_train, y_train)\n",
    "        y_pred = clf.predict(x34_test)\n",
    "        acc.append(accuracy_score(y_test, y_pred))\n",
    "        #loss_log.append(log_loss(y_test, y_pred))\n",
    "        layer.append(h)\n",
    "        activation.append(a)\n"
   ]
  },
  {
   "cell_type": "code",
   "execution_count": 219,
   "metadata": {},
   "outputs": [
    {
     "data": {
      "text/html": [
       "<div>\n",
       "<style scoped>\n",
       "    .dataframe tbody tr th:only-of-type {\n",
       "        vertical-align: middle;\n",
       "    }\n",
       "\n",
       "    .dataframe tbody tr th {\n",
       "        vertical-align: top;\n",
       "    }\n",
       "\n",
       "    .dataframe thead th {\n",
       "        text-align: right;\n",
       "    }\n",
       "</style>\n",
       "<table border=\"1\" class=\"dataframe\">\n",
       "  <thead>\n",
       "    <tr style=\"text-align: right;\">\n",
       "      <th></th>\n",
       "      <th>Acuracy</th>\n",
       "      <th>Layers and Neurons per Layer</th>\n",
       "      <th>Activation</th>\n",
       "    </tr>\n",
       "  </thead>\n",
       "  <tbody>\n",
       "    <tr>\n",
       "      <th>0</th>\n",
       "      <td>0.985401</td>\n",
       "      <td>(3, 2)</td>\n",
       "      <td>identity</td>\n",
       "    </tr>\n",
       "    <tr>\n",
       "      <th>1</th>\n",
       "      <td>0.985401</td>\n",
       "      <td>(3, 2)</td>\n",
       "      <td>logistic</td>\n",
       "    </tr>\n",
       "    <tr>\n",
       "      <th>102</th>\n",
       "      <td>0.985401</td>\n",
       "      <td>(8, 2)</td>\n",
       "      <td>tanh</td>\n",
       "    </tr>\n",
       "    <tr>\n",
       "      <th>103</th>\n",
       "      <td>0.985401</td>\n",
       "      <td>(8, 2)</td>\n",
       "      <td>relu</td>\n",
       "    </tr>\n",
       "    <tr>\n",
       "      <th>104</th>\n",
       "      <td>0.985401</td>\n",
       "      <td>(8, 3)</td>\n",
       "      <td>identity</td>\n",
       "    </tr>\n",
       "  </tbody>\n",
       "</table>\n",
       "</div>"
      ],
      "text/plain": [
       "      Acuracy Layers and Neurons per Layer Activation\n",
       "0    0.985401                       (3, 2)   identity\n",
       "1    0.985401                       (3, 2)   logistic\n",
       "102  0.985401                       (8, 2)       tanh\n",
       "103  0.985401                       (8, 2)       relu\n",
       "104  0.985401                       (8, 3)   identity"
      ]
     },
     "execution_count": 219,
     "metadata": {},
     "output_type": "execute_result"
    }
   ],
   "source": [
    "d={'Acuracy':acc,'Layers and Neurons per Layer':layer, 'Activation':activation}\n",
    "history=pd.DataFrame(d)\n",
    "history.sort_values('Acuracy',ascending=False).head()"
   ]
  },
  {
   "cell_type": "code",
   "execution_count": 224,
   "metadata": {},
   "outputs": [],
   "source": [
    "acc_32_ident=[]\n",
    "iter_32_ident=[]\n",
    "train_32_ident=[]\n",
    "test_32_ident=[]\n",
    "for i in range(1,500,1):\n",
    "    clf = MLPClassifier(hidden_layer_sizes=(3, 2), activation='identity',max_iter=i, alpha=0.001,\n",
    "                        learning_rate='constant',solver='lbfgs', random_state=21,tol=0.000000001)\n",
    "    x34_train,y_train = shuffle(x34_train,y_train,random_state=0)\n",
    "    clf.fit(x34_train, y_train)\n",
    "    y_pred = clf.predict(x34_test)\n",
    "    acc_32_ident.append(accuracy_score(y_test, y_pred))\n",
    "    train_32_ident.append(clf.score(x34_train, y_train))\n",
    "    test_32_ident.append(clf.score(x34_test, y_test))\n",
    "    iter_32_ident.append(i)\n",
    "    \n",
    "    \n",
    "    \n",
    "acc_32_log=[]\n",
    "iter_32_log=[]\n",
    "train_32_log=[]\n",
    "test_32_log=[]\n",
    "\n",
    "for i in range(1,500,1):\n",
    "    clf = MLPClassifier(hidden_layer_sizes=(3, 2), activation='logistic',max_iter=i, alpha=0.001,\n",
    "                        learning_rate='constant',solver='lbfgs', random_state=21,tol=0.000000001)\n",
    "    x34_train,y_train = shuffle(x34_train,y_train,random_state=0)\n",
    "    clf.fit(x34_train, y_train)\n",
    "    y_pred = clf.predict(x34_test)\n",
    "    acc_32_log.append(accuracy_score(y_test, y_pred))\n",
    "    train_32_log.append(clf.score(x34_train, y_train))\n",
    "    test_32_log.append(clf.score(x34_test, y_test))\n",
    "    iter_32_log.append(i)"
   ]
  },
  {
   "cell_type": "code",
   "execution_count": 226,
   "metadata": {},
   "outputs": [
    {
     "data": {
      "image/png": "[encoded data removed]",
      "text/plain": [
       "<Figure size 1296x360 with 2 Axes>"
      ]
     },
     "metadata": {
      "needs_background": "light"
     },
     "output_type": "display_data"
    }
   ],
   "source": [
    "plt.figure(figsize=(18, 5))\n",
    "\n",
    "\n",
    "plt.subplot(121)\n",
    "#plt.figure(figsize=(8,6))\n",
    "plt.plot(iter_log, acc_32_ident,label='3 Layers - 2 Neurons per Layer - Identity ')\n",
    "plt.plot(iter_log, acc_32_log,label='3 Layers - 2 Neurons per Layer - Log')\n",
    "plt.xlabel(\"Maximum Iterations\", size=12,)\n",
    "#plt.xticks(iter_opt,rotation=45)\n",
    "plt.ylim(0.5,1)\n",
    "plt.xlim(1,50)\n",
    "plt.ylabel(\"Accuracy\", size=12)\n",
    "plt.legend()\n",
    "plt.title(\"Accuracy 2 best ANN for X3, X4\" , size=15);\n",
    "\n",
    "\n",
    "plt.subplot(122)\n",
    "#plt.figure(figsize=(8,6))\n",
    "plt.plot(iter_log, test_32_ident,label='Testing Log',c='r')\n",
    "plt.plot(iter_log, train_32_ident,label='Training Log',c='r')\n",
    "\n",
    "plt.plot(iter_log, test_32_log,label='Testing Relu',c='c')\n",
    "plt.plot(iter_log, train_32_log,label='Training Relu',c='c')\n",
    "\n",
    "plt.xlabel(\"Maximum Iterations\", size=12,)\n",
    "#plt.xticks(iter_opt,rotation=45)\n",
    "plt.ylim(0.5,1)\n",
    "plt.xlim(1,50)\n",
    "plt.ylabel(\"Accuracy\", size=12)\n",
    "plt.legend()\n",
    "plt.title(\"Testing vs.Training\" , size=15);"
   ]
  },
  {
   "cell_type": "markdown",
   "metadata": {},
   "source": [
    "\n",
    "The simplest ANN we can choose is the one with 3 Layers and 3 Neurons each - Using the easiest Activation = \"Identity\" \n",
    "\n",
    "\n",
    "##### clf = MLPClassifier(hidden_layer_sizes=(3, 3), activation='Identity',max_iter=25, alpha=0.001,learning_rate='constant',solver='lbfgs', random_state=21,tol=0.000000001)\n"
   ]
  },
  {
   "cell_type": "markdown",
   "metadata": {},
   "source": [
    "### Next set of Inputs will be : \n",
    "\n",
    "2.{${X_3},{X_5}$}"
   ]
  },
  {
   "cell_type": "code",
   "execution_count": 229,
   "metadata": {},
   "outputs": [
    {
     "data": {
      "text/html": [
       "<div>\n",
       "<style scoped>\n",
       "    .dataframe tbody tr th:only-of-type {\n",
       "        vertical-align: middle;\n",
       "    }\n",
       "\n",
       "    .dataframe tbody tr th {\n",
       "        vertical-align: top;\n",
       "    }\n",
       "\n",
       "    .dataframe thead th {\n",
       "        text-align: right;\n",
       "    }\n",
       "</style>\n",
       "<table border=\"1\" class=\"dataframe\">\n",
       "  <thead>\n",
       "    <tr style=\"text-align: right;\">\n",
       "      <th></th>\n",
       "      <th>X3</th>\n",
       "      <th>X5</th>\n",
       "    </tr>\n",
       "  </thead>\n",
       "  <tbody>\n",
       "    <tr>\n",
       "      <th>113</th>\n",
       "      <td>166.485847</td>\n",
       "      <td>-341.413419</td>\n",
       "    </tr>\n",
       "    <tr>\n",
       "      <th>378</th>\n",
       "      <td>523.955195</td>\n",
       "      <td>-224.740887</td>\n",
       "    </tr>\n",
       "    <tr>\n",
       "      <th>303</th>\n",
       "      <td>76.569677</td>\n",
       "      <td>243.076054</td>\n",
       "    </tr>\n",
       "    <tr>\n",
       "      <th>504</th>\n",
       "      <td>827.973275</td>\n",
       "      <td>-105.508208</td>\n",
       "    </tr>\n",
       "    <tr>\n",
       "      <th>301</th>\n",
       "      <td>412.425528</td>\n",
       "      <td>162.150761</td>\n",
       "    </tr>\n",
       "  </tbody>\n",
       "</table>\n",
       "</div>"
      ],
      "text/plain": [
       "             X3          X5\n",
       "113  166.485847 -341.413419\n",
       "378  523.955195 -224.740887\n",
       "303   76.569677  243.076054\n",
       "504  827.973275 -105.508208\n",
       "301  412.425528  162.150761"
      ]
     },
     "execution_count": 229,
     "metadata": {},
     "output_type": "execute_result"
    }
   ],
   "source": [
    "x35 = x.drop(columns=['X1','X2','X4'] , axis=1)\n",
    "x35.head()\n",
    "\n"
   ]
  },
  {
   "cell_type": "code",
   "execution_count": 78,
   "metadata": {},
   "outputs": [
    {
     "data": {
      "image/png": "[encoded data removed]",
      "text/plain": [
       "<Figure size 576x432 with 1 Axes>"
      ]
     },
     "metadata": {
      "needs_background": "light"
     },
     "output_type": "display_data"
    }
   ],
   "source": [
    "# Visualize the input data sets\n",
    "\n",
    "plt.figure(figsize=(8, 6))\n",
    "#plt.subplot(1, 2, 1)\n",
    "red=color_data[color_data['Color'].str.contains('r')]\n",
    "green=color_data[color_data['Color'].str.contains('g')]\n",
    "blue=color_data[color_data['Color'].str.contains('b')]\n",
    "plt.plot(red[\"X3\"], red[\"X5\"],'r', linestyle='none', marker='o', label='r')\n",
    "plt.plot(green[\"X3\"], green[\"X5\"],'g', linestyle='none', marker='o', label='g')\n",
    "plt.plot(blue[\"X3\"], blue[\"X5\"],'b', linestyle='none', marker='o', label='b')\n",
    "plt.xlabel(\"X3\")\n",
    "plt.ylabel(\"X5\")\n",
    "plt.axis('equal')\n",
    "plt.legend()\n",
    "plt.title(\"Input Data X3, X5\");"
   ]
  },
  {
   "cell_type": "markdown",
   "metadata": {},
   "source": [
    "Now we are going to train our Neural Network using X3 and X5 as input "
   ]
  },
  {
   "cell_type": "code",
   "execution_count": 230,
   "metadata": {},
   "outputs": [],
   "source": [
    "x35 , y = shuffle(x35,y,random_state=0)\n",
    "x35_train, x35_test, y_train, y_test = train_test_split(x35, y, test_size= 0.2, random_state=27)"
   ]
  },
  {
   "cell_type": "code",
   "execution_count": 231,
   "metadata": {},
   "outputs": [],
   "source": [
    "from sklearn.preprocessing import StandardScaler\n",
    "scaler=StandardScaler()\n",
    "\n",
    "x35_train=scaler.fit_transform(x35_train)\n",
    "x35_test=scaler.fit_transform(x35_test)"
   ]
  },
  {
   "cell_type": "code",
   "execution_count": 232,
   "metadata": {},
   "outputs": [],
   "source": [
    "\n",
    "# Define layers and Neurons per layer - \n",
    "layers=[3,4,5,6,7,8,9,10]\n",
    "neurons=[2,3,4,5,6]\n",
    "hidden_layer_sizes=list(itertools.product(layers,neurons))\n",
    "#diff activation\n",
    "models=('identity', 'logistic', 'tanh', 'relu')\n",
    "    \n",
    "acc=[]\n",
    "layer=[]\n",
    "activation=[]\n",
    "for h in hidden_layer_sizes:\n",
    "    for a in models:\n",
    "        clf = MLPClassifier(hidden_layer_sizes=h,activation=a ,max_iter=200, alpha=0.01,\n",
    "                            learning_rate='constant',solver='lbfgs', random_state=21,tol=0.000000001)\n",
    "        clf.fit(x35_train, y_train)\n",
    "        y_pred = clf.predict(x35_test)\n",
    "        acc.append(accuracy_score(y_test, y_pred))\n",
    "        #loss_log.append(log_loss(y_test, y_pred))\n",
    "        layer.append(h)\n",
    "        activation.append(a)\n"
   ]
  },
  {
   "cell_type": "code",
   "execution_count": 233,
   "metadata": {},
   "outputs": [
    {
     "data": {
      "text/html": [
       "<div>\n",
       "<style scoped>\n",
       "    .dataframe tbody tr th:only-of-type {\n",
       "        vertical-align: middle;\n",
       "    }\n",
       "\n",
       "    .dataframe tbody tr th {\n",
       "        vertical-align: top;\n",
       "    }\n",
       "\n",
       "    .dataframe thead th {\n",
       "        text-align: right;\n",
       "    }\n",
       "</style>\n",
       "<table border=\"1\" class=\"dataframe\">\n",
       "  <thead>\n",
       "    <tr style=\"text-align: right;\">\n",
       "      <th></th>\n",
       "      <th>Acuracy</th>\n",
       "      <th>Layers and Neurons per Layer</th>\n",
       "      <th>Activation</th>\n",
       "    </tr>\n",
       "  </thead>\n",
       "  <tbody>\n",
       "    <tr>\n",
       "      <th>45</th>\n",
       "      <td>0.868613</td>\n",
       "      <td>(5, 3)</td>\n",
       "      <td>logistic</td>\n",
       "    </tr>\n",
       "    <tr>\n",
       "      <th>110</th>\n",
       "      <td>0.868613</td>\n",
       "      <td>(8, 4)</td>\n",
       "      <td>tanh</td>\n",
       "    </tr>\n",
       "    <tr>\n",
       "      <th>105</th>\n",
       "      <td>0.861314</td>\n",
       "      <td>(8, 3)</td>\n",
       "      <td>logistic</td>\n",
       "    </tr>\n",
       "    <tr>\n",
       "      <th>103</th>\n",
       "      <td>0.861314</td>\n",
       "      <td>(8, 2)</td>\n",
       "      <td>relu</td>\n",
       "    </tr>\n",
       "    <tr>\n",
       "      <th>101</th>\n",
       "      <td>0.861314</td>\n",
       "      <td>(8, 2)</td>\n",
       "      <td>logistic</td>\n",
       "    </tr>\n",
       "  </tbody>\n",
       "</table>\n",
       "</div>"
      ],
      "text/plain": [
       "      Acuracy Layers and Neurons per Layer Activation\n",
       "45   0.868613                       (5, 3)   logistic\n",
       "110  0.868613                       (8, 4)       tanh\n",
       "105  0.861314                       (8, 3)   logistic\n",
       "103  0.861314                       (8, 2)       relu\n",
       "101  0.861314                       (8, 2)   logistic"
      ]
     },
     "execution_count": 233,
     "metadata": {},
     "output_type": "execute_result"
    }
   ],
   "source": [
    "d={'Acuracy':acc,'Layers and Neurons per Layer':layer, 'Activation':activation}\n",
    "history=pd.DataFrame(d)\n",
    "history.sort_values('Acuracy',ascending=False).head()"
   ]
  },
  {
   "cell_type": "code",
   "execution_count": 235,
   "metadata": {},
   "outputs": [],
   "source": [
    "acc_53_log=[]\n",
    "train_53_log=[]\n",
    "test_53_log=[]\n",
    "\n",
    "for i in range(1,500,1):\n",
    "    clf = MLPClassifier(hidden_layer_sizes=(5, 3), activation='logistic',max_iter=i, alpha=0.01,\n",
    "                        learning_rate='constant',solver='lbfgs', random_state=21,tol=0.000000001)\n",
    "    x35_train,y_train = shuffle(x35_train,y_train,random_state=0)\n",
    "    clf.fit(x35_train, y_train)\n",
    "    y_pred = clf.predict(x35_test)\n",
    "    acc_53_log.append(accuracy_score(y_test, y_pred))\n",
    "    train_53_log.append(clf.score(x35_train, y_train))\n",
    "    test_53_log.append(clf.score(x35_test, y_test)) \n",
    "    \n",
    "acc_84_tanh=[]\n",
    "train_84_tanh=[]\n",
    "test_84_tanh=[]\n",
    "\n",
    "for i in range(1,500,1):\n",
    "    clf = MLPClassifier(hidden_layer_sizes=(8, 4), activation='tanh',max_iter=i, alpha=0.01,\n",
    "                        learning_rate='constant',solver='lbfgs', random_state=21,tol=0.000000001)\n",
    "    x35_train,y_train = shuffle(x35_train,y_train,random_state=0)\n",
    "    clf.fit(x35_train, y_train)\n",
    "    y_pred = clf.predict(x35_test)\n",
    "    acc_84_tanh.append(accuracy_score(y_test, y_pred))\n",
    "    train_84_tanh.append(clf.score(x35_train, y_train))\n",
    "    test_84_tanh.append(clf.score(x35_test, y_test)) \n",
    "  "
   ]
  },
  {
   "cell_type": "code",
   "execution_count": 238,
   "metadata": {
    "scrolled": true
   },
   "outputs": [
    {
     "data": {
      "image/png": "[encoded data removed]",
      "text/plain": [
       "<Figure size 1296x360 with 2 Axes>"
      ]
     },
     "metadata": {
      "needs_background": "light"
     },
     "output_type": "display_data"
    }
   ],
   "source": [
    "plt.figure(figsize=(18, 5))\n",
    "\n",
    "\n",
    "plt.subplot(121)\n",
    "#plt.figure(figsize=(8,6))\n",
    "plt.plot(iter_log, acc_53_log,label='5 Layers - 3 Neurons per Layer - Logistic ')\n",
    "plt.plot(iter_log, acc_84_tanh,label='8 Layers - 4 Neurons per Layer - Tanh')\n",
    "plt.xlabel(\"Maximum Iterations\", size=12,)\n",
    "#plt.xticks(iter_opt,rotation=45)\n",
    "plt.ylim(0.5,1)\n",
    "plt.xlim(1,500)\n",
    "plt.ylabel(\"Accuracy\", size=12)\n",
    "plt.legend()\n",
    "plt.title(\"Accuracy 2 best ANN for X3, X4\" , size=15);\n",
    "\n",
    "\n",
    "plt.subplot(122)\n",
    "#plt.figure(figsize=(8,6))\n",
    "plt.plot(iter_log, test_84_tanh,label='Testing Tanh',c='r')\n",
    "plt.plot(iter_log, train_84_tanh,label='Training Tanh',c='r')\n",
    "\n",
    "plt.plot(iter_log, test_53_log,label='Testing Logistic',c='c')\n",
    "plt.plot(iter_log, train_53_log,label='Training Logistic',c='c')\n",
    "\n",
    "plt.xlabel(\"Maximum Iterations\", size=12,)\n",
    "#plt.xticks(iter_opt,rotation=45)\n",
    "plt.ylim(0.5,1)\n",
    "plt.xlim(1,500)\n",
    "plt.ylabel(\"Accuracy\", size=12)\n",
    "plt.legend()\n",
    "plt.title(\"Testing vs.Training\" , size=15);"
   ]
  },
  {
   "cell_type": "markdown",
   "metadata": {},
   "source": [
    "The simplest ANN we can choose is the one with 5 Layers and 3 Neurons each - Using the easiest Activation = \"Logistic\" \n",
    "\n",
    "\n",
    "##### clf = MLPClassifier(hidden_layer_sizes=(5, 3), activation='logistic',max_iter=i, alpha=0.01,learning_rate='constant',solver='lbfgs', random_state=21,tol=0.000000001)\n"
   ]
  },
  {
   "cell_type": "markdown",
   "metadata": {},
   "source": [
    "### Next , we will use 3 inputs like :\n",
    "\n",
    "3. {${X_3},{X_4},{X_5}$}"
   ]
  },
  {
   "cell_type": "code",
   "execution_count": 239,
   "metadata": {},
   "outputs": [
    {
     "data": {
      "text/html": [
       "<div>\n",
       "<style scoped>\n",
       "    .dataframe tbody tr th:only-of-type {\n",
       "        vertical-align: middle;\n",
       "    }\n",
       "\n",
       "    .dataframe tbody tr th {\n",
       "        vertical-align: top;\n",
       "    }\n",
       "\n",
       "    .dataframe thead th {\n",
       "        text-align: right;\n",
       "    }\n",
       "</style>\n",
       "<table border=\"1\" class=\"dataframe\">\n",
       "  <thead>\n",
       "    <tr style=\"text-align: right;\">\n",
       "      <th></th>\n",
       "      <th>X3</th>\n",
       "      <th>X4</th>\n",
       "      <th>X5</th>\n",
       "    </tr>\n",
       "  </thead>\n",
       "  <tbody>\n",
       "    <tr>\n",
       "      <th>113</th>\n",
       "      <td>166.485847</td>\n",
       "      <td>700.138329</td>\n",
       "      <td>-341.413419</td>\n",
       "    </tr>\n",
       "    <tr>\n",
       "      <th>378</th>\n",
       "      <td>523.955195</td>\n",
       "      <td>96.398446</td>\n",
       "      <td>-224.740887</td>\n",
       "    </tr>\n",
       "    <tr>\n",
       "      <th>303</th>\n",
       "      <td>76.569677</td>\n",
       "      <td>771.662762</td>\n",
       "      <td>243.076054</td>\n",
       "    </tr>\n",
       "    <tr>\n",
       "      <th>504</th>\n",
       "      <td>827.973275</td>\n",
       "      <td>13.444857</td>\n",
       "      <td>-105.508208</td>\n",
       "    </tr>\n",
       "    <tr>\n",
       "      <th>301</th>\n",
       "      <td>412.425528</td>\n",
       "      <td>63.751799</td>\n",
       "      <td>162.150761</td>\n",
       "    </tr>\n",
       "  </tbody>\n",
       "</table>\n",
       "</div>"
      ],
      "text/plain": [
       "             X3          X4          X5\n",
       "113  166.485847  700.138329 -341.413419\n",
       "378  523.955195   96.398446 -224.740887\n",
       "303   76.569677  771.662762  243.076054\n",
       "504  827.973275   13.444857 -105.508208\n",
       "301  412.425528   63.751799  162.150761"
      ]
     },
     "execution_count": 239,
     "metadata": {},
     "output_type": "execute_result"
    }
   ],
   "source": [
    "x345 = x.drop(columns=['X1','X2'] , axis=1)\n",
    "x345.head()"
   ]
  },
  {
   "cell_type": "markdown",
   "metadata": {},
   "source": [
    "### Lets visualize the Inputs "
   ]
  },
  {
   "cell_type": "code",
   "execution_count": 103,
   "metadata": {},
   "outputs": [
    {
     "data": {
      "image/png": "[encoded data removed]",
      "text/plain": [
       "<Figure size 720x720 with 1 Axes>"
      ]
     },
     "metadata": {
      "needs_background": "light"
     },
     "output_type": "display_data"
    }
   ],
   "source": [
    "\n",
    "from mpl_toolkits import mplot3d \n",
    "fig = plt.figure(figsize=(10,10))\n",
    "ax = plt.axes(projection='3d')\n",
    "# Visualize the input data sets\n",
    "\n",
    "\n",
    "#plt.subplot(1, 2, 1)\n",
    "red=color_data[color_data['Color'].str.contains('r')]\n",
    "green=color_data[color_data['Color'].str.contains('g')]\n",
    "blue=color_data[color_data['Color'].str.contains('b')]\n",
    "ax.plot3D(red[\"X3\"], red[\"X4\"], red[\"X5\"],'r', linestyle='none', marker='o', label='r')\n",
    "ax.plot3D(green[\"X3\"],green[\"X4\"], green[\"X5\"],'g', linestyle='none', marker='o', label='g')\n",
    "ax.plot3D(blue[\"X3\"],blue[\"X4\"], blue[\"X5\"],'b', linestyle='none', marker='o', label='b')\n",
    "\n",
    "ax.set_xlabel('X3', fontsize=15)\n",
    "ax.set_ylabel('X4', fontsize=15)\n",
    "ax.set_zlabel('X5', fontsize=15);\n",
    "plt.axis('equal')\n",
    "#plt.legend()\n",
    "plt.title(\"Input Data X3,X4,X5\",fontsize=15);"
   ]
  },
  {
   "cell_type": "code",
   "execution_count": 240,
   "metadata": {},
   "outputs": [],
   "source": [
    "x345 , y = shuffle(x345,y,random_state=0)\n",
    "x345_train, x345_test, y_train, y_test = train_test_split(x345, y, test_size= 0.2, random_state=27)\n",
    "\n",
    "x345_train=scaler.fit_transform(x345_train)\n",
    "x345_test=scaler.fit_transform(x345_test)"
   ]
  },
  {
   "cell_type": "code",
   "execution_count": 241,
   "metadata": {},
   "outputs": [],
   "source": [
    "\n",
    "# Define layers and Neurons per layer - \n",
    "layers=[3,4,5,6,7,8,9,10]\n",
    "neurons=[2,3,4,5,6]\n",
    "hidden_layer_sizes=list(itertools.product(layers,neurons))\n",
    "#diff activation\n",
    "models=('identity', 'logistic', 'tanh', 'relu')\n",
    "    \n",
    "acc=[]\n",
    "layer=[]\n",
    "activation=[]\n",
    "for h in hidden_layer_sizes:\n",
    "    for a in models:\n",
    "        clf = MLPClassifier(hidden_layer_sizes=h,activation=a ,max_iter=200, alpha=0.01,\n",
    "                            learning_rate='constant',solver='lbfgs', random_state=21,tol=0.000000001)\n",
    "        clf.fit(x345_train, y_train)\n",
    "        y_pred = clf.predict(x345_test)\n",
    "        acc.append(accuracy_score(y_test, y_pred))\n",
    "        #loss_log.append(log_loss(y_test, y_pred))\n",
    "        layer.append(h)\n",
    "        activation.append(a)\n"
   ]
  },
  {
   "cell_type": "code",
   "execution_count": 244,
   "metadata": {},
   "outputs": [
    {
     "data": {
      "text/html": [
       "<div>\n",
       "<style scoped>\n",
       "    .dataframe tbody tr th:only-of-type {\n",
       "        vertical-align: middle;\n",
       "    }\n",
       "\n",
       "    .dataframe tbody tr th {\n",
       "        vertical-align: top;\n",
       "    }\n",
       "\n",
       "    .dataframe thead th {\n",
       "        text-align: right;\n",
       "    }\n",
       "</style>\n",
       "<table border=\"1\" class=\"dataframe\">\n",
       "  <thead>\n",
       "    <tr style=\"text-align: right;\">\n",
       "      <th></th>\n",
       "      <th>Acuracy</th>\n",
       "      <th>Layers and Neurons per Layer</th>\n",
       "      <th>Activation</th>\n",
       "    </tr>\n",
       "  </thead>\n",
       "  <tbody>\n",
       "    <tr>\n",
       "      <th>0</th>\n",
       "      <td>0.861314</td>\n",
       "      <td>(3, 2)</td>\n",
       "      <td>identity</td>\n",
       "    </tr>\n",
       "    <tr>\n",
       "      <th>40</th>\n",
       "      <td>0.861314</td>\n",
       "      <td>(5, 2)</td>\n",
       "      <td>identity</td>\n",
       "    </tr>\n",
       "    <tr>\n",
       "      <th>88</th>\n",
       "      <td>0.861314</td>\n",
       "      <td>(7, 4)</td>\n",
       "      <td>identity</td>\n",
       "    </tr>\n",
       "    <tr>\n",
       "      <th>84</th>\n",
       "      <td>0.861314</td>\n",
       "      <td>(7, 3)</td>\n",
       "      <td>identity</td>\n",
       "    </tr>\n",
       "    <tr>\n",
       "      <th>83</th>\n",
       "      <td>0.861314</td>\n",
       "      <td>(7, 2)</td>\n",
       "      <td>relu</td>\n",
       "    </tr>\n",
       "  </tbody>\n",
       "</table>\n",
       "</div>"
      ],
      "text/plain": [
       "     Acuracy Layers and Neurons per Layer Activation\n",
       "0   0.861314                       (3, 2)   identity\n",
       "40  0.861314                       (5, 2)   identity\n",
       "88  0.861314                       (7, 4)   identity\n",
       "84  0.861314                       (7, 3)   identity\n",
       "83  0.861314                       (7, 2)       relu"
      ]
     },
     "execution_count": 244,
     "metadata": {},
     "output_type": "execute_result"
    }
   ],
   "source": [
    "d={'Acuracy':acc,'Layers and Neurons per Layer':layer, 'Activation':activation}\n",
    "history=pd.DataFrame(d)\n",
    "history.sort_values('Acuracy',ascending=False).head()"
   ]
  },
  {
   "cell_type": "code",
   "execution_count": 245,
   "metadata": {},
   "outputs": [],
   "source": [
    "acc_32_id=[]\n",
    "train_32_id=[]\n",
    "test_32_id=[]\n",
    "for i in range(1,500,1):\n",
    "    clf = MLPClassifier(hidden_layer_sizes=(3, 2), activation='identity',max_iter=i, alpha=0.01,\n",
    "                        learning_rate='constant',solver='lbfgs', random_state=21,tol=0.000000001)\n",
    "    x345_train,y_train = shuffle(x345_train,y_train,random_state=0)\n",
    "    clf.fit(x345_train, y_train)\n",
    "    y_pred = clf.predict(x345_test)\n",
    "    train_32_id.append(clf.score(x345_train, y_train))\n",
    "    test_32_id.append(clf.score(x345_test, y_test)) \n",
    "    acc_32_id.append(accuracy_score(y_test, y_pred))\n",
    "    \n",
    "      \n",
    "        \n",
    "acc_52_id=[]\n",
    "train_52_id=[]\n",
    "test_52_id=[]\n",
    "for i in range(1,500,1):\n",
    "    clf = MLPClassifier(hidden_layer_sizes=(5, 2), activation='identity',max_iter=i, alpha=0.01,\n",
    "                        learning_rate='constant',solver='lbfgs', random_state=21,tol=0.000000001)\n",
    "    x345_train,y_train = shuffle(x345_train,y_train,random_state=0)\n",
    "    clf.fit(x345_train, y_train)\n",
    "    y_pred = clf.predict(x345_test)\n",
    "    train_52_id.append(clf.score(x345_train, y_train))\n",
    "    test_52_id.append(clf.score(x345_test, y_test)) \n",
    "    acc_52_id.append(accuracy_score(y_test, y_pred))\n",
    "    \n",
    "      "
   ]
  },
  {
   "cell_type": "code",
   "execution_count": 252,
   "metadata": {},
   "outputs": [
    {
     "data": {
      "image/png": "[encoded data removed]",
      "text/plain": [
       "<Figure size 1296x360 with 2 Axes>"
      ]
     },
     "metadata": {
      "needs_background": "light"
     },
     "output_type": "display_data"
    }
   ],
   "source": [
    "plt.figure(figsize=(18, 5))\n",
    "\n",
    "\n",
    "plt.subplot(121)\n",
    "#plt.figure(figsize=(8,6))\n",
    "plt.plot(iter_log, acc_32_id,label='3 Layers - 2 Neurons per Layer - Identity ')\n",
    "plt.plot(iter_log, acc_52_id,label='5 Layers - 2 Neurons per Layer - Identity')\n",
    "plt.xlabel(\"Maximum Iterations\", size=12,)\n",
    "#plt.xticks(iter_opt,rotation=45)\n",
    "plt.ylim(0.5,1)\n",
    "plt.xlim(1,20)\n",
    "plt.ylabel(\"Accuracy\", size=12)\n",
    "plt.legend()\n",
    "plt.title(\"Accuracy 2 best ANN for X3, X4, X5\" , size=15);\n",
    "\n",
    "\n",
    "plt.subplot(122)\n",
    "#plt.figure(figsize=(8,6))\n",
    "plt.plot(iter_log, test_32_id,label='Testing 3,2 Id',c='r')\n",
    "plt.plot(iter_log, train_32_id,label='Training 3,2 Id',c='r')\n",
    "\n",
    "plt.plot(iter_log, test_52_id,label='Testing 5,2 Id',c='c')\n",
    "plt.plot(iter_log, train_52_id,label='Training 5,2 Id',c='c')\n",
    "\n",
    "plt.xlabel(\"Maximum Iterations\", size=12,)\n",
    "#plt.xticks(iter_opt,rotation=45)\n",
    "plt.ylim(0.5,1)\n",
    "plt.xlim(1,20)\n",
    "plt.ylabel(\"Accuracy\", size=12)\n",
    "plt.legend()\n",
    "plt.title(\"Testing vs.Training\" , size=15);\n"
   ]
  },
  {
   "cell_type": "markdown",
   "metadata": {},
   "source": [
    "The simplest ANN we can choose is the one with 3 Layers and 2 Neurons each - Using the easiest Activation = \"Identity\" \n",
    "\n",
    "\n",
    "#####  clf = MLPClassifier(hidden_layer_sizes=(3, 2), activation='identity',max_iter=i, alpha=0.01,learning_rate='constant',solver='lbfgs', random_state=21,tol=0.000000001)\n"
   ]
  },
  {
   "cell_type": "markdown",
   "metadata": {},
   "source": [
    "### And finally, lets build the neural network for the last exercise. \n",
    "\n",
    "4.{${X_1},{X_2},{X_3},{X_4},{X_5}$}"
   ]
  },
  {
   "cell_type": "code",
   "execution_count": 253,
   "metadata": {
    "scrolled": true
   },
   "outputs": [
    {
     "data": {
      "text/html": [
       "<div>\n",
       "<style scoped>\n",
       "    .dataframe tbody tr th:only-of-type {\n",
       "        vertical-align: middle;\n",
       "    }\n",
       "\n",
       "    .dataframe tbody tr th {\n",
       "        vertical-align: top;\n",
       "    }\n",
       "\n",
       "    .dataframe thead th {\n",
       "        text-align: right;\n",
       "    }\n",
       "</style>\n",
       "<table border=\"1\" class=\"dataframe\">\n",
       "  <thead>\n",
       "    <tr style=\"text-align: right;\">\n",
       "      <th></th>\n",
       "      <th>X1</th>\n",
       "      <th>X2</th>\n",
       "      <th>X3</th>\n",
       "      <th>X4</th>\n",
       "      <th>X5</th>\n",
       "    </tr>\n",
       "  </thead>\n",
       "  <tbody>\n",
       "    <tr>\n",
       "      <th>113</th>\n",
       "      <td>12.902939</td>\n",
       "      <td>-26.460127</td>\n",
       "      <td>166.485847</td>\n",
       "      <td>700.138329</td>\n",
       "      <td>-341.413419</td>\n",
       "    </tr>\n",
       "    <tr>\n",
       "      <th>378</th>\n",
       "      <td>22.890068</td>\n",
       "      <td>-9.818271</td>\n",
       "      <td>523.955195</td>\n",
       "      <td>96.398446</td>\n",
       "      <td>-224.740887</td>\n",
       "    </tr>\n",
       "    <tr>\n",
       "      <th>303</th>\n",
       "      <td>-8.750410</td>\n",
       "      <td>-27.778819</td>\n",
       "      <td>76.569677</td>\n",
       "      <td>771.662762</td>\n",
       "      <td>243.076054</td>\n",
       "    </tr>\n",
       "    <tr>\n",
       "      <th>504</th>\n",
       "      <td>-28.774525</td>\n",
       "      <td>3.666723</td>\n",
       "      <td>827.973275</td>\n",
       "      <td>13.444857</td>\n",
       "      <td>-105.508208</td>\n",
       "    </tr>\n",
       "    <tr>\n",
       "      <th>301</th>\n",
       "      <td>-20.308263</td>\n",
       "      <td>-7.984472</td>\n",
       "      <td>412.425528</td>\n",
       "      <td>63.751799</td>\n",
       "      <td>162.150761</td>\n",
       "    </tr>\n",
       "  </tbody>\n",
       "</table>\n",
       "</div>"
      ],
      "text/plain": [
       "            X1         X2          X3          X4          X5\n",
       "113  12.902939 -26.460127  166.485847  700.138329 -341.413419\n",
       "378  22.890068  -9.818271  523.955195   96.398446 -224.740887\n",
       "303  -8.750410 -27.778819   76.569677  771.662762  243.076054\n",
       "504 -28.774525   3.666723  827.973275   13.444857 -105.508208\n",
       "301 -20.308263  -7.984472  412.425528   63.751799  162.150761"
      ]
     },
     "execution_count": 253,
     "metadata": {},
     "output_type": "execute_result"
    }
   ],
   "source": [
    "x_all = x\n",
    "x_all.head()"
   ]
  },
  {
   "cell_type": "code",
   "execution_count": 254,
   "metadata": {},
   "outputs": [],
   "source": [
    "x_all , y = shuffle(x_all,y,random_state=0)\n",
    "x_all_train, x_all_test, y_train, y_test = train_test_split(x_all, y, test_size= 0.2, random_state=27)\n",
    "\n",
    "x_all_train=scaler.fit_transform(x_all_train)\n",
    "x_all_test=scaler.fit_transform(x_all_test)\n"
   ]
  },
  {
   "cell_type": "code",
   "execution_count": 255,
   "metadata": {},
   "outputs": [],
   "source": [
    "\n",
    "# Define layers and Neurons per layer - \n",
    "layers=[3,4,5,6,7,8,9,10]\n",
    "neurons=[2,3,4,5,6]\n",
    "hidden_layer_sizes=list(itertools.product(layers,neurons))\n",
    "#diff activation\n",
    "models=('identity', 'logistic', 'tanh', 'relu')\n",
    "    \n",
    "acc=[]\n",
    "layer=[]\n",
    "activation=[]\n",
    "for h in hidden_layer_sizes:\n",
    "    for a in models:\n",
    "        clf = MLPClassifier(hidden_layer_sizes=h,activation=a ,max_iter=200, alpha=0.01,\n",
    "                            learning_rate='constant',solver='lbfgs', random_state=21,tol=0.000000001)\n",
    "        clf.fit(x_all_train, y_train)\n",
    "        y_pred = clf.predict(x_all_test)\n",
    "        acc.append(accuracy_score(y_test, y_pred))\n",
    "        #loss_log.append(log_loss(y_test, y_pred))\n",
    "        layer.append(h)\n",
    "        activation.append(a)\n",
    "\n"
   ]
  },
  {
   "cell_type": "code",
   "execution_count": 256,
   "metadata": {},
   "outputs": [
    {
     "data": {
      "text/html": [
       "<div>\n",
       "<style scoped>\n",
       "    .dataframe tbody tr th:only-of-type {\n",
       "        vertical-align: middle;\n",
       "    }\n",
       "\n",
       "    .dataframe tbody tr th {\n",
       "        vertical-align: top;\n",
       "    }\n",
       "\n",
       "    .dataframe thead th {\n",
       "        text-align: right;\n",
       "    }\n",
       "</style>\n",
       "<table border=\"1\" class=\"dataframe\">\n",
       "  <thead>\n",
       "    <tr style=\"text-align: right;\">\n",
       "      <th></th>\n",
       "      <th>Acuracy</th>\n",
       "      <th>Layers and Neurons per Layer</th>\n",
       "      <th>Activation</th>\n",
       "    </tr>\n",
       "  </thead>\n",
       "  <tbody>\n",
       "    <tr>\n",
       "      <th>39</th>\n",
       "      <td>0.890511</td>\n",
       "      <td>(4, 6)</td>\n",
       "      <td>relu</td>\n",
       "    </tr>\n",
       "    <tr>\n",
       "      <th>26</th>\n",
       "      <td>0.890511</td>\n",
       "      <td>(4, 3)</td>\n",
       "      <td>tanh</td>\n",
       "    </tr>\n",
       "    <tr>\n",
       "      <th>23</th>\n",
       "      <td>0.890511</td>\n",
       "      <td>(4, 2)</td>\n",
       "      <td>relu</td>\n",
       "    </tr>\n",
       "    <tr>\n",
       "      <th>88</th>\n",
       "      <td>0.883212</td>\n",
       "      <td>(7, 4)</td>\n",
       "      <td>identity</td>\n",
       "    </tr>\n",
       "    <tr>\n",
       "      <th>84</th>\n",
       "      <td>0.883212</td>\n",
       "      <td>(7, 3)</td>\n",
       "      <td>identity</td>\n",
       "    </tr>\n",
       "  </tbody>\n",
       "</table>\n",
       "</div>"
      ],
      "text/plain": [
       "     Acuracy Layers and Neurons per Layer Activation\n",
       "39  0.890511                       (4, 6)       relu\n",
       "26  0.890511                       (4, 3)       tanh\n",
       "23  0.890511                       (4, 2)       relu\n",
       "88  0.883212                       (7, 4)   identity\n",
       "84  0.883212                       (7, 3)   identity"
      ]
     },
     "execution_count": 256,
     "metadata": {},
     "output_type": "execute_result"
    }
   ],
   "source": [
    "d={'Acuracy':acc,'Layers and Neurons per Layer':layer, 'Activation':activation}\n",
    "history=pd.DataFrame(d)\n",
    "history.sort_values('Acuracy',ascending=False).head()"
   ]
  },
  {
   "cell_type": "code",
   "execution_count": 258,
   "metadata": {},
   "outputs": [
    {
     "data": {
      "text/plain": [
       "0.883212    45\n",
       "0.868613    20\n",
       "0.875912    20\n",
       "0.861314    19\n",
       "0.846715     9\n",
       "Name: Acuracy, dtype: int64"
      ]
     },
     "execution_count": 258,
     "metadata": {},
     "output_type": "execute_result"
    }
   ],
   "source": [
    "history['Acuracy'].value_counts().head()"
   ]
  },
  {
   "cell_type": "code",
   "execution_count": 259,
   "metadata": {},
   "outputs": [],
   "source": [
    "acc_42_re=[]\n",
    "train_42_re=[]\n",
    "test_42_re=[]\n",
    "for i in range(1,500,1):\n",
    "    clf = MLPClassifier(hidden_layer_sizes=(4, 2), activation='relu',max_iter=i, alpha=0.01,\n",
    "                        learning_rate='constant',solver='lbfgs', random_state=21,tol=0.000000001,early_stopping=True)\n",
    "    x_all_train,y_train = shuffle(x_all_train,y_train,random_state=0)\n",
    "    clf.fit(x_all_train, y_train)\n",
    "    y_pred = clf.predict(x_all_test)\n",
    "    train_42_re.append(clf.score(x_all_train, y_train))\n",
    "    test_42_re.append(clf.score(x_all_test, y_test)) \n",
    "    acc_42_re.append(accuracy_score(y_test, y_pred))\n",
    "   \n",
    "      \n",
    "        \n",
    "acc_43_ta=[]\n",
    "train_43_ta=[]\n",
    "test_43_ta=[]\n",
    "for i in range(1,500,1):\n",
    "    clf = MLPClassifier(hidden_layer_sizes=(4, 3), activation='tanh',max_iter=i, alpha=0.01,\n",
    "                        learning_rate='constant',solver='lbfgs', random_state=21,tol=0.000000001,early_stopping=True)\n",
    "    x_all_train,y_train = shuffle(x_all_train,y_train,random_state=0)\n",
    "    clf.fit(x_all_train, y_train)\n",
    "    y_pred = clf.predict(x_all_test)\n",
    "    acc_43_ta.append(accuracy_score(y_test, y_pred))\n",
    "    train_43_ta.append(clf.score(x_all_train, y_train))\n",
    "    test_43_ta.append(clf.score(x_all_test, y_test)) \n",
    "    "
   ]
  },
  {
   "cell_type": "code",
   "execution_count": 262,
   "metadata": {
    "scrolled": true
   },
   "outputs": [
    {
     "data": {
      "image/png": "[encoded data removed]",
      "text/plain": [
       "<Figure size 1296x360 with 2 Axes>"
      ]
     },
     "metadata": {
      "needs_background": "light"
     },
     "output_type": "display_data"
    }
   ],
   "source": [
    "plt.figure(figsize=(18, 5))\n",
    "\n",
    "\n",
    "plt.subplot(121)\n",
    "#plt.figure(figsize=(8,6))\n",
    "plt.plot(iter_log, acc_43_ta,label='4 Layers - 3 Neurons per Layer - Tanh ')\n",
    "plt.plot(iter_log, acc_42_re,label='4 Layers - 2 Neurons per Layer - ReLu')\n",
    "plt.xlabel(\"Maximum Iterations\", size=12,)\n",
    "#plt.xticks(iter_opt,rotation=45)\n",
    "plt.ylim(0.5,1)\n",
    "plt.xlim(1,500)\n",
    "plt.ylabel(\"Accuracy\", size=12)\n",
    "plt.legend()\n",
    "plt.title(\"Accuracy 2 best ANN for X1, X2, X3, X4, X5\" , size=15);\n",
    "\n",
    "\n",
    "plt.subplot(122)\n",
    "#plt.figure(figsize=(8,6))\n",
    "plt.plot(iter_log, test_43_ta,label='Testing Tanh',c='r')\n",
    "plt.plot(iter_log, train_43_ta,label='Training Tanh',c='r')\n",
    "\n",
    "plt.plot(iter_log, test_42_re,label='Testing ReLu',c='c')\n",
    "plt.plot(iter_log, train_42_re,label='Training ReLu',c='c')\n",
    "\n",
    "plt.xlabel(\"Maximum Iterations\", size=12,)\n",
    "#plt.xticks(iter_opt,rotation=45)\n",
    "plt.ylim(0.5,1)\n",
    "plt.xlim(1,500)\n",
    "plt.ylabel(\"Accuracy\", size=12)\n",
    "plt.legend()\n",
    "plt.title(\"Testing vs.Training\" , size=15);"
   ]
  },
  {
   "cell_type": "markdown",
   "metadata": {},
   "source": [
    "The simplest ANN we can choose is the one with 4 Layers and 2 Neurons each - Using the easiest Activation = \"relu\" \n",
    "\n",
    "\n",
    "#####  clf = MLPClassifier(hidden_layer_sizes=(4, 2), activation='relu',max_iter=i, alpha=0.01,learning_rate='constant',solver='lbfgs', random_state=21,tol=0.000000001,early_stopping=True)\n"
   ]
  },
  {
   "cell_type": "markdown",
   "metadata": {},
   "source": [
    "\n",
    "### Overfit Validation\n",
    "\n",
    "Repeating the early stopping procedure many times may result in the model overfitting the validation dataset.\n",
    "This can happen just as easily as overfitting the training dataset.\n",
    "\n",
    "1. One approach is to only use early stopping once all other hyperparameters of the model have been chosen.\n",
    "2. Another strategy may be to use a different split of the training dataset into train and validation sets each time early stopping is used.\n",
    "\n",
    "\n",
    "In our project, i used the first approach, and only used early stopping after all other param have been tuned. \n",
    "\n",
    "\n",
    "\n",
    "### This conclude the Final project \n",
    "\n",
    "As Summary, I have trained all those 5 Neural Networks based on the required sets of inputs, evaluated performance and selected the most simple neural networks for each case after looping through different alternatives. Always remembering to ensure data integrity ( shuffling, spliting and normalizing ) in each case. \n",
    "\n",
    "\n",
    "\n",
    "Thank you !\n",
    "\n",
    "\n",
    "\n",
    "Silvia"
   ]
  },
  {
   "cell_type": "code",
   "execution_count": null,
   "metadata": {},
   "outputs": [],
   "source": []
  }
 ],
 "metadata": {
  "kernelspec": {
   "display_name": "Python 3",
   "language": "python",
   "name": "python3"
  },
  "language_info": {
   "codemirror_mode": {
    "name": "ipython",
    "version": 3
   },
   "file_extension": ".py",
   "mimetype": "text/x-python",
   "name": "python",
   "nbconvert_exporter": "python",
   "pygments_lexer": "ipython3",
   "version": "3.7.1"
  }
 },
 "nbformat": 4,
 "nbformat_minor": 2
}
