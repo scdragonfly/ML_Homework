{
 "cells": [
  {
   "cell_type": "markdown",
   "metadata": {},
   "source": [
    "### Problem 1: Find the distribution!\n",
    "\n",
    "#####  These are the data-set for the number of car accidents in the rush hour of a small city. You are assigned to predict the number of car accidents in a given hour of the day. You need to ﬁnd the full probability distribution of this quantity.Also, make sure to clearly state the assumptions you are making at each step.\n",
    "##### 16 24 16 12 16 11 14 15 9 14 7 - Table 1: The Number of Accident during rush hour\n",
    "\n",
    "Tip: You can/should make reasonable assumption about the data.\n"
   ]
  },
  {
   "attachments": {},
   "cell_type": "markdown",
   "metadata": {},
   "source": [
    "#### For this problem, we are going to consider a Poisson Distribution \n",
    "\n",
    "#### The properties of the Poisson Distribution are :\n",
    "\n",
    "\n",
    " \n",
    "   \n",
    "     2) Poisson applies when the event is something that can happen in numbers \n",
    "\n",
    "     3) Occurrences are independent, 1 event does not affect the likelihood of another \n",
    "\n",
    "     4) Average frequency of events in the time period are known \n",
    "\n",
    "     5) It is possible to count how many events have occured \n",
    "\n",
    "\n",
    "We have our table of #car accidents in rush hour for a sample of days. \n",
    "16 24 16 12 16 11 14 15 9 14 7\n",
    "\n",
    "The average number of events in an interval is designated μ (mu ). Mu is the event rate, also called the rate parameter. \n",
    "\n",
    "\n",
    "X : representing the number of occurrences in a continuous interval. \n",
    "\n",
    "In our example, lets say X=#number of accidents in rush hour\n",
    "\n",
    "               μ =expected value of occurrences in this interval ( 1 hour ) \n",
    "\n",
    "By looking at our table, \n",
    "               \n",
    "               μ = (16+24+16+12+16+11+14+15+9+14+7)/11 ==> μ=14\n",
    "\n",
    "The probability of observing x events in an interval is given by the equation:\n",
    "\n",
    "               P(X=x)=f(x,μ)=(e^-μ/x!)*μ^x where x=0,1,2,3.... \n",
    "\n",
    "In our example, the full probability function or having x number of accidents in rush hour is \n",
    "\n",
    "                    P(X=x)=f(x,14)=(e^-14/x!)*14^x where x=0,1,2,3....\n",
    "                    \n",
    "                    E(X) = 14, Var(X) = 14\n"
   ]
  },
  {
   "cell_type": "markdown",
   "metadata": {},
   "source": [
    "#### If we want to visualize in Python \n",
    "\n",
    "###### 1. We have to generate some variables \n",
    "\n",
    "###### 2. We can work with our scipy.stats package and plot the Probability Distribution Funtion"
   ]
  },
  {
   "cell_type": "code",
   "execution_count": 31,
   "metadata": {},
   "outputs": [
    {
     "name": "stdout",
     "output_type": "stream",
     "text": [
      "[ 0  1  2  3  4  5  6  7  8  9 10 11 12 13 14 15 16 17 18 19 20 21 22 23\n",
      " 24 25 26 27 28 29 30 31 32 33 34 35 36 37 38 39 40 41 42 43 44 45 46 47\n",
      " 48 49 50 51 52 53 54 55 56 57 58 59 60 61 62 63 64 65 66 67 68 69 70 71\n",
      " 72 73 74 75 76 77 78 79 80 81 82 83 84 85 86 87 88 89 90 91 92 93 94 95\n",
      " 96 97 98 99]\n"
     ]
    }
   ],
   "source": [
    "\n",
    "import matplotlib.pyplot as plt\n",
    "import numpy as np\n",
    "from scipy.stats import poisson\n",
    "data_poisson = np.arange(0,100,1)\n",
    "\n",
    "print(data_poisson)"
   ]
  },
  {
   "cell_type": "code",
   "execution_count": 35,
   "metadata": {},
   "outputs": [
    {
     "data": {
      "image/png": "[encoded data removed]",
      "text/plain": [
       "<Figure size 432x288 with 1 Axes>"
      ]
     },
     "metadata": {
      "needs_background": "light"
     },
     "output_type": "display_data"
    }
   ],
   "source": [
    "#plt.figure()\n",
    "#plt.hist(data_poisson,bins=50)\n",
    "mu=14\n",
    "plt.plot(data_poisson, poisson.pmf(data_poisson,mu))\n",
    "plt.xlim(0,50)\n",
    "plt.xlabel(\"Number of accidents\")\n",
    "plt.ylabel(\"Probability\")\n",
    "plt.title(\"Poisson Distribution for $\\mu=$ {} \".format(mu))\n",
    "plt.show()\n"
   ]
  },
  {
   "cell_type": "code",
   "execution_count": null,
   "metadata": {},
   "outputs": [],
   "source": []
  },
  {
   "cell_type": "code",
   "execution_count": null,
   "metadata": {},
   "outputs": [],
   "source": []
  },
  {
   "cell_type": "markdown",
   "metadata": {},
   "source": [
    "\n"
   ]
  }
 ],
 "metadata": {
  "kernelspec": {
   "display_name": "Python 3",
   "language": "python",
   "name": "python3"
  },
  "language_info": {
   "codemirror_mode": {
    "name": "ipython",
    "version": 3
   },
   "file_extension": ".py",
   "mimetype": "text/x-python",
   "name": "python",
   "nbconvert_exporter": "python",
   "pygments_lexer": "ipython3",
   "version": "3.7.1"
  }
 },
 "nbformat": 4,
 "nbformat_minor": 2
}
