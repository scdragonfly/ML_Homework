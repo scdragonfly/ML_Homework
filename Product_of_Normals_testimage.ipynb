{
 "cells": [
  {
   "cell_type": "markdown",
   "metadata": {},
   "source": [
    "# **Problem 2: Find the parameters!**\n",
    "#### Write a python function to ﬁnd µ and σ: \n",
    "\n",
    "$N(x|{\\mu,\\sigma}) = N(x|{\\mu_1,\\sigma_1})N(x|\\mu_2,\\sigma_2)...N(x|\\mu_n,\\sigma_n)$   \n",
    "\n",
    "\n",
    "#### In which $N_i$ are all Normal distributions for i=1...n:\n",
    "\n",
    "\n",
    "$N(x|{\\mu_i,\\sigma_i}) = \\frac{1}{\\sigma_i\\sqrt{2\\pi}} \\exp{\\left(-\\frac{(x-\\mu_i)^2}{2\\sigma_i^2}\\right)}$\n",
    "\n",
    "\n",
    "\n",
    "#### Your function should take two vectors:\n",
    "\n",
    "\n",
    "${\\mu}= [{\\mu_1,\\mu_2...\\mu_n}]  \n",
    "{\\sigma}= [{\\sigma_1,\\sigma_2...\\sigma_n}]$ \n",
    "\n",
    "####            And return the values of µ and σ.\n",
    "\n",
    "\n",
    "\n"
   ]
  },
  {
   "attachments": {
    "ProductofGaussians.PNG": {
     "image/png": "[encoded data removed]"
    },
    "resultnuandsigma.PNG": {
     "image/png": "[encoded data removed]"
    }
   },
   "cell_type": "markdown",
   "metadata": {},
   "source": [
    "______________________________________________________________________________________________________\n",
    "\n",
    "\n",
    "Since the product of two gaussians is another gaussian (unnormalized) with ${\\mu}$ and ${\\sigma}$\n",
    "\n",
    "\n",
    "![ProductofGaussians.PNG](attachment:ProductofGaussians.PNG)\n",
    "\n",
    "![alternate text](https://github.com/scdragonfly/ML_Homework/blob/master/Week2/Markdowns_week2/Productof2Gaussians.PNG)\n",
    "\n",
    "\n",
    "![alternate text](Week2/Markdowns_week2/result_mu_delta.PNG)\n",
    "\n",
    "\n",
    "![alternate text](./Markdowns_week2/result_mu_delta.PNG)\n",
    "\n",
    "\n",
    "![alternate text](./Week2/Markdowns_week2/result_mu_delta.PNG)\n",
    "\n",
    "\n",
    "\n",
    "\n",
    "This can be generalised to a product of N gaussians with distributions ${X_k}$ ∼ ${N}$(${\\mu_k}$,${\\sigma_k}$), where \n",
    "![resultnuandsigma.PNG](attachment:resultnuandsigma.PNG)\n",
    "\n",
    "\n",
    "![alternate text](https://github.com/scdragonfly/ML_Homework/blob/master/Week2/Markdowns_week2/result_mu_delta.PNG)\n",
    "\n",
    "\n",
    "![alternate text](Week2/Markdowns_week2/result_mu_delta.PNG)\n"
   ]
  },
  {
   "cell_type": "markdown",
   "metadata": {},
   "source": [
    " First, we are going to generate some random vectors to represent \n",
    "\n",
    "${\\mu}= [{\\mu_1,\\mu_2...\\mu_n}]  \n",
    "{\\sigma}= [{\\sigma_1,\\sigma_2...\\sigma_n}]$ \n",
    "\n",
    "\n"
   ]
  },
  {
   "cell_type": "code",
   "execution_count": 10,
   "metadata": {},
   "outputs": [
    {
     "name": "stdout",
     "output_type": "stream",
     "text": [
      "1-dimensional random integer array \n",
      " mu= [6 6 8 7 2] \n",
      "\n",
      "1-dimensional random integer array \n",
      "  delta= [9 2 1 7 5] \n",
      "\n",
      "Dimension of our Vectors = 5\n"
     ]
    }
   ],
   "source": [
    "import numpy as np\n",
    "\n",
    "\n",
    "#use the numpy.random.random_integers()to generate a random n-dimensional array of integers.\n",
    "## testing values \n",
    "#mu = np.array([1,2])\n",
    "#delta = np.array([3,4])\n",
    "\n",
    "\n",
    "mu = np.random.randint(1,10, 5)\n",
    "print(\"1-dimensional random integer array \\n\", \"mu=\" , mu,\"\\n\")\n",
    "\n",
    "\n",
    "delta = np.random.randint(1,10,5)\n",
    "print(\"1-dimensional random integer array \\n \", \"delta=\", delta,\"\\n\")\n",
    "\n",
    "\n",
    "deltasquare=np.square(delta)\n",
    "\n",
    "\n",
    "dimension=len(delta)\n",
    "\n",
    "print(\"Dimension of our Vectors =\", dimension)\n",
    "\n"
   ]
  },
  {
   "cell_type": "markdown",
   "metadata": {},
   "source": [
    "Once we have our vectors defined, we can build a function that returns µ and σ, given those two input vectors and following the product of N gaussians with distributions \n",
    "${X_n}$ ∼ ${N}$(${\\mu_n}$,${\\sigma_n}$)\n",
    "\n"
   ]
  },
  {
   "cell_type": "code",
   "execution_count": 20,
   "metadata": {},
   "outputs": [
    {
     "name": "stdout",
     "output_type": "stream",
     "text": [
      "\n",
      " The µ and σ as a result of a product of  5  Normal distributions with vector \n",
      "\n",
      " µ=[µ1,µ2,...,µn]= [6 6 8 7 2] and vector σ=[σ1,σ2,...,σN]= [81  4  1 49 25] is \n",
      "\n",
      " (µ,σ)= (7.406465892445919, 49.80587314765197)\n"
     ]
    }
   ],
   "source": [
    "\n",
    "def d(x, y):\n",
    "\n",
    "    numerator_mu=np.sum(x / (2 * y))\n",
    "    denominator_mu=np.sum(1 / (2 * y))\n",
    "    mu_result=numerator_mu/denominator_mu\n",
    "    delta_result = np.sqrt(np.prod(y) / np.sum(y))\n",
    "\n",
    "    return mu_result,delta_result\n",
    "\n",
    "dResult=d(mu,deltasquare)\n",
    "\n",
    "print(\"\\n The µ and σ as a result of a product of \", dimension, \" Normal distributions with vector \\n\\n µ=[µ1,µ2,...,µn]=\", mu,\n",
    "      \"and vector σ=[σ1,σ2,...,σN]=\",deltasquare, \"is \\n\\n\",'(µ,σ)=',dResult)"
   ]
  },
  {
   "cell_type": "code",
   "execution_count": null,
   "metadata": {},
   "outputs": [],
   "source": []
  }
 ],
 "metadata": {
  "kernelspec": {
   "display_name": "Python 3",
   "language": "python",
   "name": "python3"
  },
  "language_info": {
   "codemirror_mode": {
    "name": "ipython",
    "version": 3
   },
   "file_extension": ".py",
   "mimetype": "text/x-python",
   "name": "python",
   "nbconvert_exporter": "python",
   "pygments_lexer": "ipython3",
   "version": "3.7.3"
  }
 },
 "nbformat": 4,
 "nbformat_minor": 2
}
